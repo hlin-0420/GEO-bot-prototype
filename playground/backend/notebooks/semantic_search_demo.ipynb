{
 "cells": [
  {
   "cell_type": "markdown",
   "id": "35ce2aec",
   "metadata": {},
   "source": [
    "# Semantic Search Dense Retrieval Demo"
   ]
  },
  {
   "cell_type": "markdown",
   "id": "c4b590f8",
   "metadata": {},
   "source": [
    "## Libraries Import"
   ]
  },
  {
   "cell_type": "code",
   "execution_count": 1,
   "id": "6ffe1701",
   "metadata": {},
   "outputs": [],
   "source": [
    "import sys\n",
    "import os\n",
    "import pandas as pd\n",
    "\n",
    "# Add root directory to path\n",
    "sys.path.append(os.path.abspath(os.path.join(os.path.dirname('../../'))))"
   ]
  },
  {
   "cell_type": "code",
   "execution_count": 2,
   "id": "10a6012d",
   "metadata": {},
   "outputs": [],
   "source": [
    "from playground.utils.embedding_utils import compute_embeddings, save_embeddings, load_embeddings\n",
    "from playground.utils.search_utils import create_faiss_index, search"
   ]
  },
  {
   "cell_type": "code",
   "execution_count": 3,
   "id": "a3e1535a",
   "metadata": {},
   "outputs": [],
   "source": [
    "# Get current directory (playground folder)\n",
    "current_dir = os.getcwd()"
   ]
  },
  {
   "cell_type": "code",
   "execution_count": 4,
   "id": "949443d2",
   "metadata": {},
   "outputs": [],
   "source": [
    "parent_dir = os.path.abspath(os.path.join(current_dir, '..'))"
   ]
  },
  {
   "cell_type": "code",
   "execution_count": 5,
   "id": "d2cd1e20",
   "metadata": {},
   "outputs": [],
   "source": [
    "# 1. Load documents from interstellar.txt\n",
    "data_path = os.path.join(parent_dir, 'data', 'interstellar_text.txt')"
   ]
  },
  {
   "cell_type": "markdown",
   "id": "f91c976c",
   "metadata": {},
   "source": [
    "## Data Loading"
   ]
  },
  {
   "cell_type": "code",
   "execution_count": 6,
   "id": "5252eab6",
   "metadata": {},
   "outputs": [],
   "source": [
    "with open(data_path, 'r', encoding='utf-8') as f:\n",
    "    documents = [line.strip('\\n') for line in f.readlines() if line.strip()]"
   ]
  },
  {
   "cell_type": "markdown",
   "id": "af7c9a0c",
   "metadata": {},
   "source": [
    "## Embedding"
   ]
  },
  {
   "cell_type": "markdown",
   "id": "bbb04c29",
   "metadata": {},
   "source": [
    "### Generate Embeddings"
   ]
  },
  {
   "cell_type": "code",
   "execution_count": 7,
   "id": "50a94328",
   "metadata": {},
   "outputs": [],
   "source": [
    "# 2. Compute embeddings for the documents\n",
    "embeddings = compute_embeddings(documents)"
   ]
  },
  {
   "cell_type": "code",
   "execution_count": 8,
   "id": "d57297e4",
   "metadata": {},
   "outputs": [],
   "source": [
    "# 3. Save embeddings (optional for reuse)\n",
    "embeddings_cache_path = os.path.join(parent_dir, 'embeddings', 'embeddings_cache.pkl')"
   ]
  },
  {
   "cell_type": "markdown",
   "id": "5580b1b5",
   "metadata": {},
   "source": [
    "### Save Embeddings"
   ]
  },
  {
   "cell_type": "code",
   "execution_count": 9,
   "id": "5f568343",
   "metadata": {},
   "outputs": [],
   "source": [
    "save_embeddings(embeddings, embeddings_cache_path)"
   ]
  },
  {
   "cell_type": "markdown",
   "id": "aee9676c",
   "metadata": {},
   "source": [
    "### Load Embeddings"
   ]
  },
  {
   "cell_type": "code",
   "execution_count": 10,
   "id": "8982945c",
   "metadata": {},
   "outputs": [],
   "source": [
    "embeddings = load_embeddings(embeddings_cache_path)"
   ]
  },
  {
   "cell_type": "markdown",
   "id": "d04b3a4c",
   "metadata": {},
   "source": [
    "## Create FAISS index"
   ]
  },
  {
   "cell_type": "code",
   "execution_count": 11,
   "id": "956c6489",
   "metadata": {},
   "outputs": [],
   "source": [
    "index = create_faiss_index(embeddings)"
   ]
  },
  {
   "cell_type": "markdown",
   "id": "50634fdf",
   "metadata": {},
   "source": [
    "## Perform a search query"
   ]
  },
  {
   "cell_type": "code",
   "execution_count": 12,
   "id": "f68a92a9",
   "metadata": {},
   "outputs": [],
   "source": [
    "query_text = \"space exploration and black holes\"\n",
    "results = search(query_text, documents, index, num_of_results=5)"
   ]
  },
  {
   "cell_type": "code",
   "execution_count": 13,
   "id": "2c8579a9",
   "metadata": {},
   "outputs": [
    {
     "name": "stdout",
     "output_type": "stream",
     "text": [
      "   rank  \\\n",
      "0     1   \n",
      "1     2   \n",
      "2     3   \n",
      "3     4   \n",
      "4     5   \n",
      "\n",
      "                                                                                                                                                                                                                                                                                                                                                                                                                                                                                                                                                                                                                                                                                           texts  \\\n",
      "0                                                                                                                                                                                                   Interstellar is a 2014 epic science fiction film directed by Christopher Nolan, who co-wrote the screenplay with his brother Jonathan. It features an ensemble cast led by Matthew McConaughey, Anne Hathaway, Jessica Chastain, Bill Irwin, Ellen Burstyn, and Michael Caine. Set in a dystopian future where Earth is suffering from catastrophic blight and famine, the film follows a group of astronauts who travel through a wormhole near Saturn in search of a new home for mankind.   \n",
      "1                      The screenplay had its origins in a script Jonathan developed in 2007 and was originally set to be directed by Steven Spielberg. Theoretical physicist Kip Thorne was an executive producer and scientific consultant on the film, and wrote the tie-in book The Science of Interstellar. It was Lynda Obst's final film as producer before her death. Cinematographer Hoyte van Hoytema shot it on 35 mm film in the Panavision anamorphic format and IMAX 70 mm. Filming began in late 2013 and took place in Alberta, Klaustur, and Los Angeles. Interstellar uses extensive practical and miniature effects, and the company DNEG created additional digital effects.   \n",
      "2  Interstellar premiered at the TCL Chinese Theatre on October 26, 2014, and was released in theaters in the United States on November 5, and in the United Kingdom on November 7. In the United States, it was first released on film stock, expanding to venues using digital projectors. The film received generally positive reviews from critics and was a commercial success, grossing $681 million worldwide during its initial theatrical run, and $758.6 million worldwide with subquent releases, making it the tenth-highest-grossing film of 2014. Among its various accolades, Interstellar was nominated for five awards at the 87th Academy Awards, winning Best Visual Effects.   \n",
      "3  Interstellar premiered at the TCL Chinese Theatre on October 26, 2014, and was released in theaters in the United States on November 5, and in the United Kingdom on November 7. In the United States, it was first released on film stock, expanding to venues using digital projectors. The film received generally positive reviews from critics and was a commercial success, grossing $681 million worldwide during its initial theatrical run, and $758.6 million worldwide with subquent releases, making it the tenth-highest-grossing film of 2014. Among its various accolades, Interstellar was nominated for five awards at the 87th Academy Awards, winning Best Visual Effects.   \n",
      "4  Interstellar premiered at the TCL Chinese Theatre on October 26, 2014, and was released in theaters in the United States on November 5, and in the United Kingdom on November 7. In the United States, it was first released on film stock, expanding to venues using digital projectors. The film received generally positive reviews from critics and was a commercial success, grossing $681 million worldwide during its initial theatrical run, and $758.6 million worldwide with subquent releases, making it the tenth-highest-grossing film of 2014. Among its various accolades, Interstellar was nominated for five awards at the 87th Academy Awards, winning Best Visual Effects.   \n",
      "\n",
      "                                     distance  \n",
      "0                                     9500.56  \n",
      "1                                     9737.30  \n",
      "2                                    11743.02  \n",
      "3  340282346638528859811704183484516925440.00  \n",
      "4  340282346638528859811704183484516925440.00  \n"
     ]
    }
   ],
   "source": [
    "# Add ranking column and format distances\n",
    "results['rank'] = range(1, len(results) + 1)\n",
    "results['distance'] = results['distance'].map(lambda x: f\"{x:.2f}\")\n",
    "\n",
    "# Reorder columns\n",
    "results = results[['rank', 'texts', 'distance']]\n",
    "\n",
    "# Display full text, no truncation\n",
    "pd.set_option('display.max_colwidth', None)\n",
    "\n",
    "# Show the formatted DataFrame\n",
    "print(results)"
   ]
  },
  {
   "cell_type": "code",
   "execution_count": null,
   "id": "0bce60f9",
   "metadata": {},
   "outputs": [],
   "source": []
  }
 ],
 "metadata": {
  "kernelspec": {
   "display_name": ".venv",
   "language": "python",
   "name": "python3"
  },
  "language_info": {
   "codemirror_mode": {
    "name": "ipython",
    "version": 3
   },
   "file_extension": ".py",
   "mimetype": "text/x-python",
   "name": "python",
   "nbconvert_exporter": "python",
   "pygments_lexer": "ipython3",
   "version": "3.11.0"
  }
 },
 "nbformat": 4,
 "nbformat_minor": 5
}
