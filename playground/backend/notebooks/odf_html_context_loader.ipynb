{
 "cells": [
  {
   "cell_type": "markdown",
   "id": "101042b9",
   "metadata": {},
   "source": [
    "# 📄 ODF HTML Context Loader\n",
    "Explore and clean the content of the ODF Template HTML file and combine it with Neo4j graph context."
   ]
  },
  {
   "cell_type": "markdown",
   "id": "934f5639",
   "metadata": {},
   "source": [
    "## Import Libraries"
   ]
  },
  {
   "cell_type": "code",
   "execution_count": 1,
   "id": "2c8bf2c7",
   "metadata": {},
   "outputs": [],
   "source": [
    "from bs4 import BeautifulSoup"
   ]
  },
  {
   "cell_type": "markdown",
   "id": "983a188f",
   "metadata": {},
   "source": [
    "## Define File Paths"
   ]
  },
  {
   "cell_type": "code",
   "execution_count": 2,
   "id": "c0da8d68",
   "metadata": {},
   "outputs": [],
   "source": [
    "# 📂 Path to the ODF HTML file\n",
    "HTM_FILE_PATH = \"../../../Data/html_files/introduction/working_with_files/ODF_Template_File_(ODT).htm\""
   ]
  },
  {
   "cell_type": "markdown",
   "id": "66bcb70f",
   "metadata": {},
   "source": [
    "## Load File Paths"
   ]
  },
  {
   "cell_type": "code",
   "execution_count": 3,
   "id": "8d8c530d",
   "metadata": {},
   "outputs": [],
   "source": [
    "# 📥 Load and clean HTML content\n",
    "try:\n",
    "    with open(HTM_FILE_PATH, \"r\", encoding=\"utf-8\") as f:\n",
    "        soup = BeautifulSoup(f, \"html.parser\")\n",
    "        raw_text = soup.get_text(separator=\"\\n\").strip()\n",
    "        lines = [line.strip() for line in raw_text.splitlines() if line.strip()]\n",
    "        \n",
    "        # ❌ Remove known boilerplate patterns\n",
    "        remove_phrases = {\n",
    "            \"Click here to see this page in full context\",\n",
    "            \"*Maximize screen to view table of contents*\",\n",
    "            \"Back\", \"Forward\",\n",
    "            \"ODF Template File (ODT)\"  # May appear at top & again\n",
    "        }\n",
    "        clean_lines = [line for line in lines if line not in remove_phrases]\n",
    "\n",
    "        # Join cleaned lines\n",
    "        odf_text = \"\\n\".join(clean_lines)\n",
    "except Exception as e:\n",
    "    print(f\"⚠️ Failed to load or parse HTML file: {e}\")\n",
    "    odf_text = \"\""
   ]
  },
  {
   "cell_type": "markdown",
   "id": "1e51f599",
   "metadata": {},
   "source": [
    "## Visualise Sample Extracts"
   ]
  },
  {
   "cell_type": "code",
   "execution_count": 4,
   "id": "5dde943a",
   "metadata": {},
   "outputs": [
    {
     "name": "stdout",
     "output_type": "stream",
     "text": [
      "A template (ODT) can be created from fresh or from an existing ODF file. This means once a preferred format has been created it can be saved as a template and utilized thereafter.\n",
      "Unlike a View file (a file with VEW extension), which only saves the track layout, the template function saves all the ODF constituents in a template format. This ensures that preferred components, such as library files (i.e. lithology, headers with included location maps, symbols, modifiers) are incorporated into the template. Any plot objects in the ODF will also be incorporated into the template saved.\n",
      "Once an ODT file has been created, it may be distributed to other users.\n",
      "The ODT file is a powerful tool when a final log format has been approved. The ODT file will always contain library information (headers, lithology, modifiers, structures, and symbols), view file contents (track layout information, depth and screen units, scale and pen information (optional)) and ini file settings (curve defaults, compu\n"
     ]
    }
   ],
   "source": [
    "# 📋 Preview cleaned text\n",
    "print(odf_text[:1000])  # Preview first 1000 characters"
   ]
  }
 ],
 "metadata": {
  "kernelspec": {
   "display_name": ".venv",
   "language": "python",
   "name": "python3"
  },
  "language_info": {
   "codemirror_mode": {
    "name": "ipython",
    "version": 3
   },
   "file_extension": ".py",
   "mimetype": "text/x-python",
   "name": "python",
   "nbconvert_exporter": "python",
   "pygments_lexer": "ipython3",
   "version": "3.11.0"
  }
 },
 "nbformat": 4,
 "nbformat_minor": 5
}
