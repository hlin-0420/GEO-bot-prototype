{
 "cells": [
  {
   "cell_type": "markdown",
   "id": "874e170f",
   "metadata": {},
   "source": [
    "# Multi-Document Agent"
   ]
  },
  {
   "cell_type": "markdown",
   "id": "8e646077",
   "metadata": {},
   "source": [
    "## Installation"
   ]
  },
  {
   "cell_type": "code",
   "execution_count": 1,
   "id": "f45bad58",
   "metadata": {},
   "outputs": [
    {
     "name": "stdout",
     "output_type": "stream",
     "text": [
      "Requirement already satisfied: llama-index-core in c:\\users\\haoch\\desktop\\geo-bot-prototype\\.venv\\lib\\site-packages (0.12.30)\n",
      "Requirement already satisfied: PyYAML>=6.0.1 in c:\\users\\haoch\\desktop\\geo-bot-prototype\\.venv\\lib\\site-packages (from llama-index-core) (6.0.2)\n",
      "Requirement already satisfied: SQLAlchemy>=1.4.49 in c:\\users\\haoch\\desktop\\geo-bot-prototype\\.venv\\lib\\site-packages (from SQLAlchemy[asyncio]>=1.4.49->llama-index-core) (2.0.37)\n",
      "Requirement already satisfied: aiohttp<4.0.0,>=3.8.6 in c:\\users\\haoch\\desktop\\geo-bot-prototype\\.venv\\lib\\site-packages (from llama-index-core) (3.11.11)\n",
      "Requirement already satisfied: banks<3.0.0,>=2.0.0 in c:\\users\\haoch\\desktop\\geo-bot-prototype\\.venv\\lib\\site-packages (from llama-index-core) (2.1.1)\n",
      "Requirement already satisfied: dataclasses-json in c:\\users\\haoch\\desktop\\geo-bot-prototype\\.venv\\lib\\site-packages (from llama-index-core) (0.6.7)\n",
      "Requirement already satisfied: deprecated>=1.2.9.3 in c:\\users\\haoch\\desktop\\geo-bot-prototype\\.venv\\lib\\site-packages (from llama-index-core) (1.2.18)\n",
      "Requirement already satisfied: dirtyjson<2.0.0,>=1.0.8 in c:\\users\\haoch\\desktop\\geo-bot-prototype\\.venv\\lib\\site-packages (from llama-index-core) (1.0.8)\n",
      "Requirement already satisfied: filetype<2.0.0,>=1.2.0 in c:\\users\\haoch\\desktop\\geo-bot-prototype\\.venv\\lib\\site-packages (from llama-index-core) (1.2.0)\n",
      "Requirement already satisfied: fsspec>=2023.5.0 in c:\\users\\haoch\\desktop\\geo-bot-prototype\\.venv\\lib\\site-packages (from llama-index-core) (2025.2.0)\n",
      "Requirement already satisfied: httpx in c:\\users\\haoch\\desktop\\geo-bot-prototype\\.venv\\lib\\site-packages (from llama-index-core) (0.28.1)\n",
      "Requirement already satisfied: nest-asyncio<2.0.0,>=1.5.8 in c:\\users\\haoch\\desktop\\geo-bot-prototype\\.venv\\lib\\site-packages (from llama-index-core) (1.6.0)\n",
      "Requirement already satisfied: networkx>=3.0 in c:\\users\\haoch\\desktop\\geo-bot-prototype\\.venv\\lib\\site-packages (from llama-index-core) (3.4.2)\n",
      "Requirement already satisfied: nltk>3.8.1 in c:\\users\\haoch\\desktop\\geo-bot-prototype\\.venv\\lib\\site-packages (from llama-index-core) (3.9.1)\n",
      "Requirement already satisfied: numpy in c:\\users\\haoch\\desktop\\geo-bot-prototype\\.venv\\lib\\site-packages (from llama-index-core) (1.26.4)\n",
      "Requirement already satisfied: pillow>=9.0.0 in c:\\users\\haoch\\desktop\\geo-bot-prototype\\.venv\\lib\\site-packages (from llama-index-core) (10.4.0)\n",
      "Requirement already satisfied: pydantic>=2.8.0 in c:\\users\\haoch\\desktop\\geo-bot-prototype\\.venv\\lib\\site-packages (from llama-index-core) (2.10.6)\n",
      "Requirement already satisfied: requests>=2.31.0 in c:\\users\\haoch\\desktop\\geo-bot-prototype\\.venv\\lib\\site-packages (from llama-index-core) (2.32.3)\n",
      "Requirement already satisfied: tenacity!=8.4.0,<10.0.0,>=8.2.0 in c:\\users\\haoch\\desktop\\geo-bot-prototype\\.venv\\lib\\site-packages (from llama-index-core) (9.0.0)\n",
      "Requirement already satisfied: tiktoken>=0.3.3 in c:\\users\\haoch\\desktop\\geo-bot-prototype\\.venv\\lib\\site-packages (from llama-index-core) (0.8.0)\n",
      "Requirement already satisfied: tqdm<5.0.0,>=4.66.1 in c:\\users\\haoch\\desktop\\geo-bot-prototype\\.venv\\lib\\site-packages (from llama-index-core) (4.67.1)\n",
      "Requirement already satisfied: typing-extensions>=4.5.0 in c:\\users\\haoch\\desktop\\geo-bot-prototype\\.venv\\lib\\site-packages (from llama-index-core) (4.12.2)\n",
      "Requirement already satisfied: typing-inspect>=0.8.0 in c:\\users\\haoch\\desktop\\geo-bot-prototype\\.venv\\lib\\site-packages (from llama-index-core) (0.9.0)\n",
      "Requirement already satisfied: wrapt in c:\\users\\haoch\\desktop\\geo-bot-prototype\\.venv\\lib\\site-packages (from llama-index-core) (1.17.2)\n",
      "Requirement already satisfied: aiohappyeyeballs>=2.3.0 in c:\\users\\haoch\\desktop\\geo-bot-prototype\\.venv\\lib\\site-packages (from aiohttp<4.0.0,>=3.8.6->llama-index-core) (2.4.4)\n",
      "Requirement already satisfied: aiosignal>=1.1.2 in c:\\users\\haoch\\desktop\\geo-bot-prototype\\.venv\\lib\\site-packages (from aiohttp<4.0.0,>=3.8.6->llama-index-core) (1.3.2)\n",
      "Requirement already satisfied: attrs>=17.3.0 in c:\\users\\haoch\\desktop\\geo-bot-prototype\\.venv\\lib\\site-packages (from aiohttp<4.0.0,>=3.8.6->llama-index-core) (25.1.0)\n",
      "Requirement already satisfied: frozenlist>=1.1.1 in c:\\users\\haoch\\desktop\\geo-bot-prototype\\.venv\\lib\\site-packages (from aiohttp<4.0.0,>=3.8.6->llama-index-core) (1.5.0)\n",
      "Requirement already satisfied: multidict<7.0,>=4.5 in c:\\users\\haoch\\desktop\\geo-bot-prototype\\.venv\\lib\\site-packages (from aiohttp<4.0.0,>=3.8.6->llama-index-core) (6.1.0)\n",
      "Requirement already satisfied: propcache>=0.2.0 in c:\\users\\haoch\\desktop\\geo-bot-prototype\\.venv\\lib\\site-packages (from aiohttp<4.0.0,>=3.8.6->llama-index-core) (0.2.1)\n",
      "Requirement already satisfied: yarl<2.0,>=1.17.0 in c:\\users\\haoch\\desktop\\geo-bot-prototype\\.venv\\lib\\site-packages (from aiohttp<4.0.0,>=3.8.6->llama-index-core) (1.18.3)\n",
      "Requirement already satisfied: griffe in c:\\users\\haoch\\desktop\\geo-bot-prototype\\.venv\\lib\\site-packages (from banks<3.0.0,>=2.0.0->llama-index-core) (1.7.2)\n",
      "Requirement already satisfied: jinja2 in c:\\users\\haoch\\desktop\\geo-bot-prototype\\.venv\\lib\\site-packages (from banks<3.0.0,>=2.0.0->llama-index-core) (3.1.5)\n",
      "Requirement already satisfied: platformdirs in c:\\users\\haoch\\desktop\\geo-bot-prototype\\.venv\\lib\\site-packages (from banks<3.0.0,>=2.0.0->llama-index-core) (4.3.7)\n",
      "Requirement already satisfied: click in c:\\users\\haoch\\desktop\\geo-bot-prototype\\.venv\\lib\\site-packages (from nltk>3.8.1->llama-index-core) (8.1.8)\n",
      "Requirement already satisfied: joblib in c:\\users\\haoch\\desktop\\geo-bot-prototype\\.venv\\lib\\site-packages (from nltk>3.8.1->llama-index-core) (1.4.2)\n",
      "Requirement already satisfied: regex>=2021.8.3 in c:\\users\\haoch\\desktop\\geo-bot-prototype\\.venv\\lib\\site-packages (from nltk>3.8.1->llama-index-core) (2024.11.6)\n",
      "Requirement already satisfied: annotated-types>=0.6.0 in c:\\users\\haoch\\desktop\\geo-bot-prototype\\.venv\\lib\\site-packages (from pydantic>=2.8.0->llama-index-core) (0.7.0)\n",
      "Requirement already satisfied: pydantic-core==2.27.2 in c:\\users\\haoch\\desktop\\geo-bot-prototype\\.venv\\lib\\site-packages (from pydantic>=2.8.0->llama-index-core) (2.27.2)\n",
      "Requirement already satisfied: charset-normalizer<4,>=2 in c:\\users\\haoch\\desktop\\geo-bot-prototype\\.venv\\lib\\site-packages (from requests>=2.31.0->llama-index-core) (3.4.1)\n",
      "Requirement already satisfied: idna<4,>=2.5 in c:\\users\\haoch\\desktop\\geo-bot-prototype\\.venv\\lib\\site-packages (from requests>=2.31.0->llama-index-core) (3.10)\n",
      "Requirement already satisfied: urllib3<3,>=1.21.1 in c:\\users\\haoch\\desktop\\geo-bot-prototype\\.venv\\lib\\site-packages (from requests>=2.31.0->llama-index-core) (2.3.0)\n",
      "Requirement already satisfied: certifi>=2017.4.17 in c:\\users\\haoch\\desktop\\geo-bot-prototype\\.venv\\lib\\site-packages (from requests>=2.31.0->llama-index-core) (2025.1.31)\n",
      "Requirement already satisfied: greenlet!=0.4.17 in c:\\users\\haoch\\desktop\\geo-bot-prototype\\.venv\\lib\\site-packages (from SQLAlchemy>=1.4.49->SQLAlchemy[asyncio]>=1.4.49->llama-index-core) (3.1.1)\n",
      "Requirement already satisfied: colorama in c:\\users\\haoch\\desktop\\geo-bot-prototype\\.venv\\lib\\site-packages (from tqdm<5.0.0,>=4.66.1->llama-index-core) (0.4.6)\n",
      "Requirement already satisfied: mypy-extensions>=0.3.0 in c:\\users\\haoch\\desktop\\geo-bot-prototype\\.venv\\lib\\site-packages (from typing-inspect>=0.8.0->llama-index-core) (1.0.0)\n",
      "Requirement already satisfied: marshmallow<4.0.0,>=3.18.0 in c:\\users\\haoch\\desktop\\geo-bot-prototype\\.venv\\lib\\site-packages (from dataclasses-json->llama-index-core) (3.26.1)\n",
      "Requirement already satisfied: anyio in c:\\users\\haoch\\desktop\\geo-bot-prototype\\.venv\\lib\\site-packages (from httpx->llama-index-core) (4.8.0)\n",
      "Requirement already satisfied: httpcore==1.* in c:\\users\\haoch\\desktop\\geo-bot-prototype\\.venv\\lib\\site-packages (from httpx->llama-index-core) (1.0.7)\n",
      "Requirement already satisfied: h11<0.15,>=0.13 in c:\\users\\haoch\\desktop\\geo-bot-prototype\\.venv\\lib\\site-packages (from httpcore==1.*->httpx->llama-index-core) (0.14.0)\n",
      "Requirement already satisfied: packaging>=17.0 in c:\\users\\haoch\\desktop\\geo-bot-prototype\\.venv\\lib\\site-packages (from marshmallow<4.0.0,>=3.18.0->dataclasses-json->llama-index-core) (24.2)\n",
      "Requirement already satisfied: sniffio>=1.1 in c:\\users\\haoch\\desktop\\geo-bot-prototype\\.venv\\lib\\site-packages (from anyio->httpx->llama-index-core) (1.3.1)\n",
      "Requirement already satisfied: MarkupSafe>=2.0 in c:\\users\\haoch\\desktop\\geo-bot-prototype\\.venv\\lib\\site-packages (from jinja2->banks<3.0.0,>=2.0.0->llama-index-core) (3.0.2)\n",
      "Note: you may need to restart the kernel to use updated packages.\n"
     ]
    },
    {
     "name": "stderr",
     "output_type": "stream",
     "text": [
      "\n",
      "[notice] A new release of pip is available: 25.0 -> 25.0.1\n",
      "[notice] To update, run: python.exe -m pip install --upgrade pip\n"
     ]
    },
    {
     "name": "stdout",
     "output_type": "stream",
     "text": [
      "Requirement already satisfied: llama-index-agent-openai in c:\\users\\haoch\\desktop\\geo-bot-prototype\\.venv\\lib\\site-packages (0.4.6)\n",
      "Requirement already satisfied: llama-index-core<0.13.0,>=0.12.18 in c:\\users\\haoch\\desktop\\geo-bot-prototype\\.venv\\lib\\site-packages (from llama-index-agent-openai) (0.12.30)\n",
      "Requirement already satisfied: llama-index-llms-openai<0.4.0,>=0.3.0 in c:\\users\\haoch\\desktop\\geo-bot-prototype\\.venv\\lib\\site-packages (from llama-index-agent-openai) (0.3.35)\n",
      "Requirement already satisfied: openai>=1.14.0 in c:\\users\\haoch\\desktop\\geo-bot-prototype\\.venv\\lib\\site-packages (from llama-index-agent-openai) (1.74.0)\n",
      "Requirement already satisfied: PyYAML>=6.0.1 in c:\\users\\haoch\\desktop\\geo-bot-prototype\\.venv\\lib\\site-packages (from llama-index-core<0.13.0,>=0.12.18->llama-index-agent-openai) (6.0.2)\n",
      "Requirement already satisfied: SQLAlchemy>=1.4.49 in c:\\users\\haoch\\desktop\\geo-bot-prototype\\.venv\\lib\\site-packages (from SQLAlchemy[asyncio]>=1.4.49->llama-index-core<0.13.0,>=0.12.18->llama-index-agent-openai) (2.0.37)\n",
      "Requirement already satisfied: aiohttp<4.0.0,>=3.8.6 in c:\\users\\haoch\\desktop\\geo-bot-prototype\\.venv\\lib\\site-packages (from llama-index-core<0.13.0,>=0.12.18->llama-index-agent-openai) (3.11.11)\n",
      "Requirement already satisfied: banks<3.0.0,>=2.0.0 in c:\\users\\haoch\\desktop\\geo-bot-prototype\\.venv\\lib\\site-packages (from llama-index-core<0.13.0,>=0.12.18->llama-index-agent-openai) (2.1.1)\n",
      "Requirement already satisfied: dataclasses-json in c:\\users\\haoch\\desktop\\geo-bot-prototype\\.venv\\lib\\site-packages (from llama-index-core<0.13.0,>=0.12.18->llama-index-agent-openai) (0.6.7)\n",
      "Requirement already satisfied: deprecated>=1.2.9.3 in c:\\users\\haoch\\desktop\\geo-bot-prototype\\.venv\\lib\\site-packages (from llama-index-core<0.13.0,>=0.12.18->llama-index-agent-openai) (1.2.18)\n",
      "Requirement already satisfied: dirtyjson<2.0.0,>=1.0.8 in c:\\users\\haoch\\desktop\\geo-bot-prototype\\.venv\\lib\\site-packages (from llama-index-core<0.13.0,>=0.12.18->llama-index-agent-openai) (1.0.8)\n",
      "Requirement already satisfied: filetype<2.0.0,>=1.2.0 in c:\\users\\haoch\\desktop\\geo-bot-prototype\\.venv\\lib\\site-packages (from llama-index-core<0.13.0,>=0.12.18->llama-index-agent-openai) (1.2.0)\n",
      "Requirement already satisfied: fsspec>=2023.5.0 in c:\\users\\haoch\\desktop\\geo-bot-prototype\\.venv\\lib\\site-packages (from llama-index-core<0.13.0,>=0.12.18->llama-index-agent-openai) (2025.2.0)\n",
      "Requirement already satisfied: httpx in c:\\users\\haoch\\desktop\\geo-bot-prototype\\.venv\\lib\\site-packages (from llama-index-core<0.13.0,>=0.12.18->llama-index-agent-openai) (0.28.1)\n",
      "Requirement already satisfied: nest-asyncio<2.0.0,>=1.5.8 in c:\\users\\haoch\\desktop\\geo-bot-prototype\\.venv\\lib\\site-packages (from llama-index-core<0.13.0,>=0.12.18->llama-index-agent-openai) (1.6.0)\n",
      "Requirement already satisfied: networkx>=3.0 in c:\\users\\haoch\\desktop\\geo-bot-prototype\\.venv\\lib\\site-packages (from llama-index-core<0.13.0,>=0.12.18->llama-index-agent-openai) (3.4.2)\n",
      "Requirement already satisfied: nltk>3.8.1 in c:\\users\\haoch\\desktop\\geo-bot-prototype\\.venv\\lib\\site-packages (from llama-index-core<0.13.0,>=0.12.18->llama-index-agent-openai) (3.9.1)\n",
      "Requirement already satisfied: numpy in c:\\users\\haoch\\desktop\\geo-bot-prototype\\.venv\\lib\\site-packages (from llama-index-core<0.13.0,>=0.12.18->llama-index-agent-openai) (1.26.4)\n",
      "Requirement already satisfied: pillow>=9.0.0 in c:\\users\\haoch\\desktop\\geo-bot-prototype\\.venv\\lib\\site-packages (from llama-index-core<0.13.0,>=0.12.18->llama-index-agent-openai) (10.4.0)\n",
      "Requirement already satisfied: pydantic>=2.8.0 in c:\\users\\haoch\\desktop\\geo-bot-prototype\\.venv\\lib\\site-packages (from llama-index-core<0.13.0,>=0.12.18->llama-index-agent-openai) (2.10.6)\n",
      "Requirement already satisfied: requests>=2.31.0 in c:\\users\\haoch\\desktop\\geo-bot-prototype\\.venv\\lib\\site-packages (from llama-index-core<0.13.0,>=0.12.18->llama-index-agent-openai) (2.32.3)\n",
      "Requirement already satisfied: tenacity!=8.4.0,<10.0.0,>=8.2.0 in c:\\users\\haoch\\desktop\\geo-bot-prototype\\.venv\\lib\\site-packages (from llama-index-core<0.13.0,>=0.12.18->llama-index-agent-openai) (9.0.0)\n",
      "Requirement already satisfied: tiktoken>=0.3.3 in c:\\users\\haoch\\desktop\\geo-bot-prototype\\.venv\\lib\\site-packages (from llama-index-core<0.13.0,>=0.12.18->llama-index-agent-openai) (0.8.0)\n",
      "Requirement already satisfied: tqdm<5.0.0,>=4.66.1 in c:\\users\\haoch\\desktop\\geo-bot-prototype\\.venv\\lib\\site-packages (from llama-index-core<0.13.0,>=0.12.18->llama-index-agent-openai) (4.67.1)\n",
      "Requirement already satisfied: typing-extensions>=4.5.0 in c:\\users\\haoch\\desktop\\geo-bot-prototype\\.venv\\lib\\site-packages (from llama-index-core<0.13.0,>=0.12.18->llama-index-agent-openai) (4.12.2)\n",
      "Requirement already satisfied: typing-inspect>=0.8.0 in c:\\users\\haoch\\desktop\\geo-bot-prototype\\.venv\\lib\\site-packages (from llama-index-core<0.13.0,>=0.12.18->llama-index-agent-openai) (0.9.0)\n",
      "Requirement already satisfied: wrapt in c:\\users\\haoch\\desktop\\geo-bot-prototype\\.venv\\lib\\site-packages (from llama-index-core<0.13.0,>=0.12.18->llama-index-agent-openai) (1.17.2)\n",
      "Requirement already satisfied: anyio<5,>=3.5.0 in c:\\users\\haoch\\desktop\\geo-bot-prototype\\.venv\\lib\\site-packages (from openai>=1.14.0->llama-index-agent-openai) (4.8.0)\n",
      "Requirement already satisfied: distro<2,>=1.7.0 in c:\\users\\haoch\\desktop\\geo-bot-prototype\\.venv\\lib\\site-packages (from openai>=1.14.0->llama-index-agent-openai) (1.9.0)\n",
      "Requirement already satisfied: jiter<1,>=0.4.0 in c:\\users\\haoch\\desktop\\geo-bot-prototype\\.venv\\lib\\site-packages (from openai>=1.14.0->llama-index-agent-openai) (0.8.2)\n",
      "Requirement already satisfied: sniffio in c:\\users\\haoch\\desktop\\geo-bot-prototype\\.venv\\lib\\site-packages (from openai>=1.14.0->llama-index-agent-openai) (1.3.1)\n",
      "Requirement already satisfied: aiohappyeyeballs>=2.3.0 in c:\\users\\haoch\\desktop\\geo-bot-prototype\\.venv\\lib\\site-packages (from aiohttp<4.0.0,>=3.8.6->llama-index-core<0.13.0,>=0.12.18->llama-index-agent-openai) (2.4.4)\n",
      "Requirement already satisfied: aiosignal>=1.1.2 in c:\\users\\haoch\\desktop\\geo-bot-prototype\\.venv\\lib\\site-packages (from aiohttp<4.0.0,>=3.8.6->llama-index-core<0.13.0,>=0.12.18->llama-index-agent-openai) (1.3.2)\n",
      "Requirement already satisfied: attrs>=17.3.0 in c:\\users\\haoch\\desktop\\geo-bot-prototype\\.venv\\lib\\site-packages (from aiohttp<4.0.0,>=3.8.6->llama-index-core<0.13.0,>=0.12.18->llama-index-agent-openai) (25.1.0)\n",
      "Requirement already satisfied: frozenlist>=1.1.1 in c:\\users\\haoch\\desktop\\geo-bot-prototype\\.venv\\lib\\site-packages (from aiohttp<4.0.0,>=3.8.6->llama-index-core<0.13.0,>=0.12.18->llama-index-agent-openai) (1.5.0)\n",
      "Requirement already satisfied: multidict<7.0,>=4.5 in c:\\users\\haoch\\desktop\\geo-bot-prototype\\.venv\\lib\\site-packages (from aiohttp<4.0.0,>=3.8.6->llama-index-core<0.13.0,>=0.12.18->llama-index-agent-openai) (6.1.0)\n",
      "Requirement already satisfied: propcache>=0.2.0 in c:\\users\\haoch\\desktop\\geo-bot-prototype\\.venv\\lib\\site-packages (from aiohttp<4.0.0,>=3.8.6->llama-index-core<0.13.0,>=0.12.18->llama-index-agent-openai) (0.2.1)\n",
      "Requirement already satisfied: yarl<2.0,>=1.17.0 in c:\\users\\haoch\\desktop\\geo-bot-prototype\\.venv\\lib\\site-packages (from aiohttp<4.0.0,>=3.8.6->llama-index-core<0.13.0,>=0.12.18->llama-index-agent-openai) (1.18.3)\n",
      "Requirement already satisfied: idna>=2.8 in c:\\users\\haoch\\desktop\\geo-bot-prototype\\.venv\\lib\\site-packages (from anyio<5,>=3.5.0->openai>=1.14.0->llama-index-agent-openai) (3.10)\n",
      "Requirement already satisfied: griffe in c:\\users\\haoch\\desktop\\geo-bot-prototype\\.venv\\lib\\site-packages (from banks<3.0.0,>=2.0.0->llama-index-core<0.13.0,>=0.12.18->llama-index-agent-openai) (1.7.2)\n",
      "Requirement already satisfied: jinja2 in c:\\users\\haoch\\desktop\\geo-bot-prototype\\.venv\\lib\\site-packages (from banks<3.0.0,>=2.0.0->llama-index-core<0.13.0,>=0.12.18->llama-index-agent-openai) (3.1.5)\n",
      "Requirement already satisfied: platformdirs in c:\\users\\haoch\\desktop\\geo-bot-prototype\\.venv\\lib\\site-packages (from banks<3.0.0,>=2.0.0->llama-index-core<0.13.0,>=0.12.18->llama-index-agent-openai) (4.3.7)\n",
      "Requirement already satisfied: certifi in c:\\users\\haoch\\desktop\\geo-bot-prototype\\.venv\\lib\\site-packages (from httpx->llama-index-core<0.13.0,>=0.12.18->llama-index-agent-openai) (2025.1.31)\n",
      "Requirement already satisfied: httpcore==1.* in c:\\users\\haoch\\desktop\\geo-bot-prototype\\.venv\\lib\\site-packages (from httpx->llama-index-core<0.13.0,>=0.12.18->llama-index-agent-openai) (1.0.7)\n",
      "Requirement already satisfied: h11<0.15,>=0.13 in c:\\users\\haoch\\desktop\\geo-bot-prototype\\.venv\\lib\\site-packages (from httpcore==1.*->httpx->llama-index-core<0.13.0,>=0.12.18->llama-index-agent-openai) (0.14.0)\n",
      "Requirement already satisfied: click in c:\\users\\haoch\\desktop\\geo-bot-prototype\\.venv\\lib\\site-packages (from nltk>3.8.1->llama-index-core<0.13.0,>=0.12.18->llama-index-agent-openai) (8.1.8)\n",
      "Requirement already satisfied: joblib in c:\\users\\haoch\\desktop\\geo-bot-prototype\\.venv\\lib\\site-packages (from nltk>3.8.1->llama-index-core<0.13.0,>=0.12.18->llama-index-agent-openai) (1.4.2)\n",
      "Requirement already satisfied: regex>=2021.8.3 in c:\\users\\haoch\\desktop\\geo-bot-prototype\\.venv\\lib\\site-packages (from nltk>3.8.1->llama-index-core<0.13.0,>=0.12.18->llama-index-agent-openai) (2024.11.6)\n",
      "Requirement already satisfied: annotated-types>=0.6.0 in c:\\users\\haoch\\desktop\\geo-bot-prototype\\.venv\\lib\\site-packages (from pydantic>=2.8.0->llama-index-core<0.13.0,>=0.12.18->llama-index-agent-openai) (0.7.0)\n",
      "Requirement already satisfied: pydantic-core==2.27.2 in c:\\users\\haoch\\desktop\\geo-bot-prototype\\.venv\\lib\\site-packages (from pydantic>=2.8.0->llama-index-core<0.13.0,>=0.12.18->llama-index-agent-openai) (2.27.2)\n",
      "Requirement already satisfied: charset-normalizer<4,>=2 in c:\\users\\haoch\\desktop\\geo-bot-prototype\\.venv\\lib\\site-packages (from requests>=2.31.0->llama-index-core<0.13.0,>=0.12.18->llama-index-agent-openai) (3.4.1)\n",
      "Requirement already satisfied: urllib3<3,>=1.21.1 in c:\\users\\haoch\\desktop\\geo-bot-prototype\\.venv\\lib\\site-packages (from requests>=2.31.0->llama-index-core<0.13.0,>=0.12.18->llama-index-agent-openai) (2.3.0)\n",
      "Requirement already satisfied: greenlet!=0.4.17 in c:\\users\\haoch\\desktop\\geo-bot-prototype\\.venv\\lib\\site-packages (from SQLAlchemy>=1.4.49->SQLAlchemy[asyncio]>=1.4.49->llama-index-core<0.13.0,>=0.12.18->llama-index-agent-openai) (3.1.1)\n",
      "Requirement already satisfied: colorama in c:\\users\\haoch\\desktop\\geo-bot-prototype\\.venv\\lib\\site-packages (from tqdm<5.0.0,>=4.66.1->llama-index-core<0.13.0,>=0.12.18->llama-index-agent-openai) (0.4.6)\n",
      "Requirement already satisfied: mypy-extensions>=0.3.0 in c:\\users\\haoch\\desktop\\geo-bot-prototype\\.venv\\lib\\site-packages (from typing-inspect>=0.8.0->llama-index-core<0.13.0,>=0.12.18->llama-index-agent-openai) (1.0.0)\n",
      "Requirement already satisfied: marshmallow<4.0.0,>=3.18.0 in c:\\users\\haoch\\desktop\\geo-bot-prototype\\.venv\\lib\\site-packages (from dataclasses-json->llama-index-core<0.13.0,>=0.12.18->llama-index-agent-openai) (3.26.1)\n",
      "Requirement already satisfied: packaging>=17.0 in c:\\users\\haoch\\desktop\\geo-bot-prototype\\.venv\\lib\\site-packages (from marshmallow<4.0.0,>=3.18.0->dataclasses-json->llama-index-core<0.13.0,>=0.12.18->llama-index-agent-openai) (24.2)\n",
      "Requirement already satisfied: MarkupSafe>=2.0 in c:\\users\\haoch\\desktop\\geo-bot-prototype\\.venv\\lib\\site-packages (from jinja2->banks<3.0.0,>=2.0.0->llama-index-core<0.13.0,>=0.12.18->llama-index-agent-openai) (3.0.2)\n",
      "Note: you may need to restart the kernel to use updated packages.\n"
     ]
    },
    {
     "name": "stderr",
     "output_type": "stream",
     "text": [
      "\n",
      "[notice] A new release of pip is available: 25.0 -> 25.0.1\n",
      "[notice] To update, run: python.exe -m pip install --upgrade pip\n"
     ]
    },
    {
     "name": "stdout",
     "output_type": "stream",
     "text": [
      "Requirement already satisfied: llama-index-readers-file in c:\\users\\haoch\\desktop\\geo-bot-prototype\\.venv\\lib\\site-packages (0.4.7)\n",
      "Requirement already satisfied: beautifulsoup4<5.0.0,>=4.12.3 in c:\\users\\haoch\\desktop\\geo-bot-prototype\\.venv\\lib\\site-packages (from llama-index-readers-file) (4.13.1)\n",
      "Requirement already satisfied: llama-index-core<0.13.0,>=0.12.0 in c:\\users\\haoch\\desktop\\geo-bot-prototype\\.venv\\lib\\site-packages (from llama-index-readers-file) (0.12.30)\n",
      "Requirement already satisfied: pandas in c:\\users\\haoch\\desktop\\geo-bot-prototype\\.venv\\lib\\site-packages (from llama-index-readers-file) (2.2.3)\n",
      "Requirement already satisfied: pypdf<6.0.0,>=5.1.0 in c:\\users\\haoch\\desktop\\geo-bot-prototype\\.venv\\lib\\site-packages (from llama-index-readers-file) (5.4.0)\n",
      "Requirement already satisfied: striprtf<0.0.27,>=0.0.26 in c:\\users\\haoch\\desktop\\geo-bot-prototype\\.venv\\lib\\site-packages (from llama-index-readers-file) (0.0.26)\n",
      "Requirement already satisfied: soupsieve>1.2 in c:\\users\\haoch\\desktop\\geo-bot-prototype\\.venv\\lib\\site-packages (from beautifulsoup4<5.0.0,>=4.12.3->llama-index-readers-file) (2.6)\n",
      "Requirement already satisfied: typing-extensions>=4.0.0 in c:\\users\\haoch\\desktop\\geo-bot-prototype\\.venv\\lib\\site-packages (from beautifulsoup4<5.0.0,>=4.12.3->llama-index-readers-file) (4.12.2)\n",
      "Requirement already satisfied: PyYAML>=6.0.1 in c:\\users\\haoch\\desktop\\geo-bot-prototype\\.venv\\lib\\site-packages (from llama-index-core<0.13.0,>=0.12.0->llama-index-readers-file) (6.0.2)\n",
      "Requirement already satisfied: SQLAlchemy>=1.4.49 in c:\\users\\haoch\\desktop\\geo-bot-prototype\\.venv\\lib\\site-packages (from SQLAlchemy[asyncio]>=1.4.49->llama-index-core<0.13.0,>=0.12.0->llama-index-readers-file) (2.0.37)\n",
      "Requirement already satisfied: aiohttp<4.0.0,>=3.8.6 in c:\\users\\haoch\\desktop\\geo-bot-prototype\\.venv\\lib\\site-packages (from llama-index-core<0.13.0,>=0.12.0->llama-index-readers-file) (3.11.11)\n",
      "Requirement already satisfied: banks<3.0.0,>=2.0.0 in c:\\users\\haoch\\desktop\\geo-bot-prototype\\.venv\\lib\\site-packages (from llama-index-core<0.13.0,>=0.12.0->llama-index-readers-file) (2.1.1)\n",
      "Requirement already satisfied: dataclasses-json in c:\\users\\haoch\\desktop\\geo-bot-prototype\\.venv\\lib\\site-packages (from llama-index-core<0.13.0,>=0.12.0->llama-index-readers-file) (0.6.7)\n",
      "Requirement already satisfied: deprecated>=1.2.9.3 in c:\\users\\haoch\\desktop\\geo-bot-prototype\\.venv\\lib\\site-packages (from llama-index-core<0.13.0,>=0.12.0->llama-index-readers-file) (1.2.18)\n",
      "Requirement already satisfied: dirtyjson<2.0.0,>=1.0.8 in c:\\users\\haoch\\desktop\\geo-bot-prototype\\.venv\\lib\\site-packages (from llama-index-core<0.13.0,>=0.12.0->llama-index-readers-file) (1.0.8)\n",
      "Requirement already satisfied: filetype<2.0.0,>=1.2.0 in c:\\users\\haoch\\desktop\\geo-bot-prototype\\.venv\\lib\\site-packages (from llama-index-core<0.13.0,>=0.12.0->llama-index-readers-file) (1.2.0)\n",
      "Requirement already satisfied: fsspec>=2023.5.0 in c:\\users\\haoch\\desktop\\geo-bot-prototype\\.venv\\lib\\site-packages (from llama-index-core<0.13.0,>=0.12.0->llama-index-readers-file) (2025.2.0)\n",
      "Requirement already satisfied: httpx in c:\\users\\haoch\\desktop\\geo-bot-prototype\\.venv\\lib\\site-packages (from llama-index-core<0.13.0,>=0.12.0->llama-index-readers-file) (0.28.1)\n",
      "Requirement already satisfied: nest-asyncio<2.0.0,>=1.5.8 in c:\\users\\haoch\\desktop\\geo-bot-prototype\\.venv\\lib\\site-packages (from llama-index-core<0.13.0,>=0.12.0->llama-index-readers-file) (1.6.0)\n",
      "Requirement already satisfied: networkx>=3.0 in c:\\users\\haoch\\desktop\\geo-bot-prototype\\.venv\\lib\\site-packages (from llama-index-core<0.13.0,>=0.12.0->llama-index-readers-file) (3.4.2)\n",
      "Requirement already satisfied: nltk>3.8.1 in c:\\users\\haoch\\desktop\\geo-bot-prototype\\.venv\\lib\\site-packages (from llama-index-core<0.13.0,>=0.12.0->llama-index-readers-file) (3.9.1)\n",
      "Requirement already satisfied: numpy in c:\\users\\haoch\\desktop\\geo-bot-prototype\\.venv\\lib\\site-packages (from llama-index-core<0.13.0,>=0.12.0->llama-index-readers-file) (1.26.4)\n",
      "Requirement already satisfied: pillow>=9.0.0 in c:\\users\\haoch\\desktop\\geo-bot-prototype\\.venv\\lib\\site-packages (from llama-index-core<0.13.0,>=0.12.0->llama-index-readers-file) (10.4.0)\n",
      "Requirement already satisfied: pydantic>=2.8.0 in c:\\users\\haoch\\desktop\\geo-bot-prototype\\.venv\\lib\\site-packages (from llama-index-core<0.13.0,>=0.12.0->llama-index-readers-file) (2.10.6)\n",
      "Requirement already satisfied: requests>=2.31.0 in c:\\users\\haoch\\desktop\\geo-bot-prototype\\.venv\\lib\\site-packages (from llama-index-core<0.13.0,>=0.12.0->llama-index-readers-file) (2.32.3)\n",
      "Requirement already satisfied: tenacity!=8.4.0,<10.0.0,>=8.2.0 in c:\\users\\haoch\\desktop\\geo-bot-prototype\\.venv\\lib\\site-packages (from llama-index-core<0.13.0,>=0.12.0->llama-index-readers-file) (9.0.0)\n",
      "Requirement already satisfied: tiktoken>=0.3.3 in c:\\users\\haoch\\desktop\\geo-bot-prototype\\.venv\\lib\\site-packages (from llama-index-core<0.13.0,>=0.12.0->llama-index-readers-file) (0.8.0)\n",
      "Requirement already satisfied: tqdm<5.0.0,>=4.66.1 in c:\\users\\haoch\\desktop\\geo-bot-prototype\\.venv\\lib\\site-packages (from llama-index-core<0.13.0,>=0.12.0->llama-index-readers-file) (4.67.1)\n",
      "Requirement already satisfied: typing-inspect>=0.8.0 in c:\\users\\haoch\\desktop\\geo-bot-prototype\\.venv\\lib\\site-packages (from llama-index-core<0.13.0,>=0.12.0->llama-index-readers-file) (0.9.0)\n",
      "Requirement already satisfied: wrapt in c:\\users\\haoch\\desktop\\geo-bot-prototype\\.venv\\lib\\site-packages (from llama-index-core<0.13.0,>=0.12.0->llama-index-readers-file) (1.17.2)\n",
      "Requirement already satisfied: python-dateutil>=2.8.2 in c:\\users\\haoch\\desktop\\geo-bot-prototype\\.venv\\lib\\site-packages (from pandas->llama-index-readers-file) (2.9.0.post0)\n",
      "Requirement already satisfied: pytz>=2020.1 in c:\\users\\haoch\\desktop\\geo-bot-prototype\\.venv\\lib\\site-packages (from pandas->llama-index-readers-file) (2025.1)\n",
      "Requirement already satisfied: tzdata>=2022.7 in c:\\users\\haoch\\desktop\\geo-bot-prototype\\.venv\\lib\\site-packages (from pandas->llama-index-readers-file) (2025.1)\n",
      "Requirement already satisfied: aiohappyeyeballs>=2.3.0 in c:\\users\\haoch\\desktop\\geo-bot-prototype\\.venv\\lib\\site-packages (from aiohttp<4.0.0,>=3.8.6->llama-index-core<0.13.0,>=0.12.0->llama-index-readers-file) (2.4.4)\n",
      "Requirement already satisfied: aiosignal>=1.1.2 in c:\\users\\haoch\\desktop\\geo-bot-prototype\\.venv\\lib\\site-packages (from aiohttp<4.0.0,>=3.8.6->llama-index-core<0.13.0,>=0.12.0->llama-index-readers-file) (1.3.2)\n",
      "Requirement already satisfied: attrs>=17.3.0 in c:\\users\\haoch\\desktop\\geo-bot-prototype\\.venv\\lib\\site-packages (from aiohttp<4.0.0,>=3.8.6->llama-index-core<0.13.0,>=0.12.0->llama-index-readers-file) (25.1.0)\n",
      "Requirement already satisfied: frozenlist>=1.1.1 in c:\\users\\haoch\\desktop\\geo-bot-prototype\\.venv\\lib\\site-packages (from aiohttp<4.0.0,>=3.8.6->llama-index-core<0.13.0,>=0.12.0->llama-index-readers-file) (1.5.0)\n",
      "Requirement already satisfied: multidict<7.0,>=4.5 in c:\\users\\haoch\\desktop\\geo-bot-prototype\\.venv\\lib\\site-packages (from aiohttp<4.0.0,>=3.8.6->llama-index-core<0.13.0,>=0.12.0->llama-index-readers-file) (6.1.0)\n",
      "Requirement already satisfied: propcache>=0.2.0 in c:\\users\\haoch\\desktop\\geo-bot-prototype\\.venv\\lib\\site-packages (from aiohttp<4.0.0,>=3.8.6->llama-index-core<0.13.0,>=0.12.0->llama-index-readers-file) (0.2.1)\n",
      "Requirement already satisfied: yarl<2.0,>=1.17.0 in c:\\users\\haoch\\desktop\\geo-bot-prototype\\.venv\\lib\\site-packages (from aiohttp<4.0.0,>=3.8.6->llama-index-core<0.13.0,>=0.12.0->llama-index-readers-file) (1.18.3)\n",
      "Requirement already satisfied: griffe in c:\\users\\haoch\\desktop\\geo-bot-prototype\\.venv\\lib\\site-packages (from banks<3.0.0,>=2.0.0->llama-index-core<0.13.0,>=0.12.0->llama-index-readers-file) (1.7.2)\n",
      "Requirement already satisfied: jinja2 in c:\\users\\haoch\\desktop\\geo-bot-prototype\\.venv\\lib\\site-packages (from banks<3.0.0,>=2.0.0->llama-index-core<0.13.0,>=0.12.0->llama-index-readers-file) (3.1.5)\n",
      "Requirement already satisfied: platformdirs in c:\\users\\haoch\\desktop\\geo-bot-prototype\\.venv\\lib\\site-packages (from banks<3.0.0,>=2.0.0->llama-index-core<0.13.0,>=0.12.0->llama-index-readers-file) (4.3.7)\n",
      "Requirement already satisfied: click in c:\\users\\haoch\\desktop\\geo-bot-prototype\\.venv\\lib\\site-packages (from nltk>3.8.1->llama-index-core<0.13.0,>=0.12.0->llama-index-readers-file) (8.1.8)\n",
      "Requirement already satisfied: joblib in c:\\users\\haoch\\desktop\\geo-bot-prototype\\.venv\\lib\\site-packages (from nltk>3.8.1->llama-index-core<0.13.0,>=0.12.0->llama-index-readers-file) (1.4.2)\n",
      "Requirement already satisfied: regex>=2021.8.3 in c:\\users\\haoch\\desktop\\geo-bot-prototype\\.venv\\lib\\site-packages (from nltk>3.8.1->llama-index-core<0.13.0,>=0.12.0->llama-index-readers-file) (2024.11.6)\n",
      "Requirement already satisfied: annotated-types>=0.6.0 in c:\\users\\haoch\\desktop\\geo-bot-prototype\\.venv\\lib\\site-packages (from pydantic>=2.8.0->llama-index-core<0.13.0,>=0.12.0->llama-index-readers-file) (0.7.0)\n",
      "Requirement already satisfied: pydantic-core==2.27.2 in c:\\users\\haoch\\desktop\\geo-bot-prototype\\.venv\\lib\\site-packages (from pydantic>=2.8.0->llama-index-core<0.13.0,>=0.12.0->llama-index-readers-file) (2.27.2)\n",
      "Requirement already satisfied: six>=1.5 in c:\\users\\haoch\\desktop\\geo-bot-prototype\\.venv\\lib\\site-packages (from python-dateutil>=2.8.2->pandas->llama-index-readers-file) (1.17.0)\n",
      "Requirement already satisfied: charset-normalizer<4,>=2 in c:\\users\\haoch\\desktop\\geo-bot-prototype\\.venv\\lib\\site-packages (from requests>=2.31.0->llama-index-core<0.13.0,>=0.12.0->llama-index-readers-file) (3.4.1)\n",
      "Requirement already satisfied: idna<4,>=2.5 in c:\\users\\haoch\\desktop\\geo-bot-prototype\\.venv\\lib\\site-packages (from requests>=2.31.0->llama-index-core<0.13.0,>=0.12.0->llama-index-readers-file) (3.10)\n",
      "Requirement already satisfied: urllib3<3,>=1.21.1 in c:\\users\\haoch\\desktop\\geo-bot-prototype\\.venv\\lib\\site-packages (from requests>=2.31.0->llama-index-core<0.13.0,>=0.12.0->llama-index-readers-file) (2.3.0)\n",
      "Requirement already satisfied: certifi>=2017.4.17 in c:\\users\\haoch\\desktop\\geo-bot-prototype\\.venv\\lib\\site-packages (from requests>=2.31.0->llama-index-core<0.13.0,>=0.12.0->llama-index-readers-file) (2025.1.31)\n",
      "Requirement already satisfied: greenlet!=0.4.17 in c:\\users\\haoch\\desktop\\geo-bot-prototype\\.venv\\lib\\site-packages (from SQLAlchemy>=1.4.49->SQLAlchemy[asyncio]>=1.4.49->llama-index-core<0.13.0,>=0.12.0->llama-index-readers-file) (3.1.1)\n",
      "Requirement already satisfied: colorama in c:\\users\\haoch\\desktop\\geo-bot-prototype\\.venv\\lib\\site-packages (from tqdm<5.0.0,>=4.66.1->llama-index-core<0.13.0,>=0.12.0->llama-index-readers-file) (0.4.6)\n",
      "Requirement already satisfied: mypy-extensions>=0.3.0 in c:\\users\\haoch\\desktop\\geo-bot-prototype\\.venv\\lib\\site-packages (from typing-inspect>=0.8.0->llama-index-core<0.13.0,>=0.12.0->llama-index-readers-file) (1.0.0)\n",
      "Requirement already satisfied: marshmallow<4.0.0,>=3.18.0 in c:\\users\\haoch\\desktop\\geo-bot-prototype\\.venv\\lib\\site-packages (from dataclasses-json->llama-index-core<0.13.0,>=0.12.0->llama-index-readers-file) (3.26.1)\n",
      "Requirement already satisfied: anyio in c:\\users\\haoch\\desktop\\geo-bot-prototype\\.venv\\lib\\site-packages (from httpx->llama-index-core<0.13.0,>=0.12.0->llama-index-readers-file) (4.8.0)\n",
      "Requirement already satisfied: httpcore==1.* in c:\\users\\haoch\\desktop\\geo-bot-prototype\\.venv\\lib\\site-packages (from httpx->llama-index-core<0.13.0,>=0.12.0->llama-index-readers-file) (1.0.7)\n",
      "Requirement already satisfied: h11<0.15,>=0.13 in c:\\users\\haoch\\desktop\\geo-bot-prototype\\.venv\\lib\\site-packages (from httpcore==1.*->httpx->llama-index-core<0.13.0,>=0.12.0->llama-index-readers-file) (0.14.0)\n",
      "Requirement already satisfied: packaging>=17.0 in c:\\users\\haoch\\desktop\\geo-bot-prototype\\.venv\\lib\\site-packages (from marshmallow<4.0.0,>=3.18.0->dataclasses-json->llama-index-core<0.13.0,>=0.12.0->llama-index-readers-file) (24.2)\n",
      "Requirement already satisfied: sniffio>=1.1 in c:\\users\\haoch\\desktop\\geo-bot-prototype\\.venv\\lib\\site-packages (from anyio->httpx->llama-index-core<0.13.0,>=0.12.0->llama-index-readers-file) (1.3.1)\n",
      "Requirement already satisfied: MarkupSafe>=2.0 in c:\\users\\haoch\\desktop\\geo-bot-prototype\\.venv\\lib\\site-packages (from jinja2->banks<3.0.0,>=2.0.0->llama-index-core<0.13.0,>=0.12.0->llama-index-readers-file) (3.0.2)\n",
      "Note: you may need to restart the kernel to use updated packages.\n"
     ]
    },
    {
     "name": "stderr",
     "output_type": "stream",
     "text": [
      "\n",
      "[notice] A new release of pip is available: 25.0 -> 25.0.1\n",
      "[notice] To update, run: python.exe -m pip install --upgrade pip\n"
     ]
    },
    {
     "name": "stdout",
     "output_type": "stream",
     "text": [
      "Requirement already satisfied: llama-index-postprocessor-cohere-rerank in c:\\users\\haoch\\desktop\\geo-bot-prototype\\.venv\\lib\\site-packages (0.3.0)\n",
      "Requirement already satisfied: cohere<6.0.0,>=5.1.1 in c:\\users\\haoch\\desktop\\geo-bot-prototype\\.venv\\lib\\site-packages (from llama-index-postprocessor-cohere-rerank) (5.15.0)\n",
      "Requirement already satisfied: llama-index-core<0.13.0,>=0.12.0 in c:\\users\\haoch\\desktop\\geo-bot-prototype\\.venv\\lib\\site-packages (from llama-index-postprocessor-cohere-rerank) (0.12.30)\n",
      "Requirement already satisfied: fastavro<2.0.0,>=1.9.4 in c:\\users\\haoch\\desktop\\geo-bot-prototype\\.venv\\lib\\site-packages (from cohere<6.0.0,>=5.1.1->llama-index-postprocessor-cohere-rerank) (1.10.0)\n",
      "Requirement already satisfied: httpx>=0.21.2 in c:\\users\\haoch\\desktop\\geo-bot-prototype\\.venv\\lib\\site-packages (from cohere<6.0.0,>=5.1.1->llama-index-postprocessor-cohere-rerank) (0.28.1)\n",
      "Requirement already satisfied: httpx-sse==0.4.0 in c:\\users\\haoch\\desktop\\geo-bot-prototype\\.venv\\lib\\site-packages (from cohere<6.0.0,>=5.1.1->llama-index-postprocessor-cohere-rerank) (0.4.0)\n",
      "Requirement already satisfied: pydantic>=1.9.2 in c:\\users\\haoch\\desktop\\geo-bot-prototype\\.venv\\lib\\site-packages (from cohere<6.0.0,>=5.1.1->llama-index-postprocessor-cohere-rerank) (2.10.6)\n",
      "Requirement already satisfied: pydantic-core<3.0.0,>=2.18.2 in c:\\users\\haoch\\desktop\\geo-bot-prototype\\.venv\\lib\\site-packages (from cohere<6.0.0,>=5.1.1->llama-index-postprocessor-cohere-rerank) (2.27.2)\n",
      "Requirement already satisfied: requests<3.0.0,>=2.0.0 in c:\\users\\haoch\\desktop\\geo-bot-prototype\\.venv\\lib\\site-packages (from cohere<6.0.0,>=5.1.1->llama-index-postprocessor-cohere-rerank) (2.32.3)\n",
      "Requirement already satisfied: tokenizers<1,>=0.15 in c:\\users\\haoch\\desktop\\geo-bot-prototype\\.venv\\lib\\site-packages (from cohere<6.0.0,>=5.1.1->llama-index-postprocessor-cohere-rerank) (0.21.0)\n",
      "Requirement already satisfied: types-requests<3.0.0,>=2.0.0 in c:\\users\\haoch\\desktop\\geo-bot-prototype\\.venv\\lib\\site-packages (from cohere<6.0.0,>=5.1.1->llama-index-postprocessor-cohere-rerank) (2.32.0.20250328)\n",
      "Requirement already satisfied: typing_extensions>=4.0.0 in c:\\users\\haoch\\desktop\\geo-bot-prototype\\.venv\\lib\\site-packages (from cohere<6.0.0,>=5.1.1->llama-index-postprocessor-cohere-rerank) (4.12.2)\n",
      "Requirement already satisfied: PyYAML>=6.0.1 in c:\\users\\haoch\\desktop\\geo-bot-prototype\\.venv\\lib\\site-packages (from llama-index-core<0.13.0,>=0.12.0->llama-index-postprocessor-cohere-rerank) (6.0.2)\n",
      "Requirement already satisfied: SQLAlchemy>=1.4.49 in c:\\users\\haoch\\desktop\\geo-bot-prototype\\.venv\\lib\\site-packages (from SQLAlchemy[asyncio]>=1.4.49->llama-index-core<0.13.0,>=0.12.0->llama-index-postprocessor-cohere-rerank) (2.0.37)\n",
      "Requirement already satisfied: aiohttp<4.0.0,>=3.8.6 in c:\\users\\haoch\\desktop\\geo-bot-prototype\\.venv\\lib\\site-packages (from llama-index-core<0.13.0,>=0.12.0->llama-index-postprocessor-cohere-rerank) (3.11.11)\n",
      "Requirement already satisfied: banks<3.0.0,>=2.0.0 in c:\\users\\haoch\\desktop\\geo-bot-prototype\\.venv\\lib\\site-packages (from llama-index-core<0.13.0,>=0.12.0->llama-index-postprocessor-cohere-rerank) (2.1.1)\n",
      "Requirement already satisfied: dataclasses-json in c:\\users\\haoch\\desktop\\geo-bot-prototype\\.venv\\lib\\site-packages (from llama-index-core<0.13.0,>=0.12.0->llama-index-postprocessor-cohere-rerank) (0.6.7)\n",
      "Requirement already satisfied: deprecated>=1.2.9.3 in c:\\users\\haoch\\desktop\\geo-bot-prototype\\.venv\\lib\\site-packages (from llama-index-core<0.13.0,>=0.12.0->llama-index-postprocessor-cohere-rerank) (1.2.18)\n",
      "Requirement already satisfied: dirtyjson<2.0.0,>=1.0.8 in c:\\users\\haoch\\desktop\\geo-bot-prototype\\.venv\\lib\\site-packages (from llama-index-core<0.13.0,>=0.12.0->llama-index-postprocessor-cohere-rerank) (1.0.8)\n",
      "Requirement already satisfied: filetype<2.0.0,>=1.2.0 in c:\\users\\haoch\\desktop\\geo-bot-prototype\\.venv\\lib\\site-packages (from llama-index-core<0.13.0,>=0.12.0->llama-index-postprocessor-cohere-rerank) (1.2.0)\n",
      "Requirement already satisfied: fsspec>=2023.5.0 in c:\\users\\haoch\\desktop\\geo-bot-prototype\\.venv\\lib\\site-packages (from llama-index-core<0.13.0,>=0.12.0->llama-index-postprocessor-cohere-rerank) (2025.2.0)\n",
      "Requirement already satisfied: nest-asyncio<2.0.0,>=1.5.8 in c:\\users\\haoch\\desktop\\geo-bot-prototype\\.venv\\lib\\site-packages (from llama-index-core<0.13.0,>=0.12.0->llama-index-postprocessor-cohere-rerank) (1.6.0)\n",
      "Requirement already satisfied: networkx>=3.0 in c:\\users\\haoch\\desktop\\geo-bot-prototype\\.venv\\lib\\site-packages (from llama-index-core<0.13.0,>=0.12.0->llama-index-postprocessor-cohere-rerank) (3.4.2)\n",
      "Requirement already satisfied: nltk>3.8.1 in c:\\users\\haoch\\desktop\\geo-bot-prototype\\.venv\\lib\\site-packages (from llama-index-core<0.13.0,>=0.12.0->llama-index-postprocessor-cohere-rerank) (3.9.1)\n",
      "Requirement already satisfied: numpy in c:\\users\\haoch\\desktop\\geo-bot-prototype\\.venv\\lib\\site-packages (from llama-index-core<0.13.0,>=0.12.0->llama-index-postprocessor-cohere-rerank) (1.26.4)\n",
      "Requirement already satisfied: pillow>=9.0.0 in c:\\users\\haoch\\desktop\\geo-bot-prototype\\.venv\\lib\\site-packages (from llama-index-core<0.13.0,>=0.12.0->llama-index-postprocessor-cohere-rerank) (10.4.0)\n",
      "Requirement already satisfied: tenacity!=8.4.0,<10.0.0,>=8.2.0 in c:\\users\\haoch\\desktop\\geo-bot-prototype\\.venv\\lib\\site-packages (from llama-index-core<0.13.0,>=0.12.0->llama-index-postprocessor-cohere-rerank) (9.0.0)\n",
      "Requirement already satisfied: tiktoken>=0.3.3 in c:\\users\\haoch\\desktop\\geo-bot-prototype\\.venv\\lib\\site-packages (from llama-index-core<0.13.0,>=0.12.0->llama-index-postprocessor-cohere-rerank) (0.8.0)\n",
      "Requirement already satisfied: tqdm<5.0.0,>=4.66.1 in c:\\users\\haoch\\desktop\\geo-bot-prototype\\.venv\\lib\\site-packages (from llama-index-core<0.13.0,>=0.12.0->llama-index-postprocessor-cohere-rerank) (4.67.1)\n",
      "Requirement already satisfied: typing-inspect>=0.8.0 in c:\\users\\haoch\\desktop\\geo-bot-prototype\\.venv\\lib\\site-packages (from llama-index-core<0.13.0,>=0.12.0->llama-index-postprocessor-cohere-rerank) (0.9.0)\n",
      "Requirement already satisfied: wrapt in c:\\users\\haoch\\desktop\\geo-bot-prototype\\.venv\\lib\\site-packages (from llama-index-core<0.13.0,>=0.12.0->llama-index-postprocessor-cohere-rerank) (1.17.2)\n",
      "Requirement already satisfied: aiohappyeyeballs>=2.3.0 in c:\\users\\haoch\\desktop\\geo-bot-prototype\\.venv\\lib\\site-packages (from aiohttp<4.0.0,>=3.8.6->llama-index-core<0.13.0,>=0.12.0->llama-index-postprocessor-cohere-rerank) (2.4.4)\n",
      "Requirement already satisfied: aiosignal>=1.1.2 in c:\\users\\haoch\\desktop\\geo-bot-prototype\\.venv\\lib\\site-packages (from aiohttp<4.0.0,>=3.8.6->llama-index-core<0.13.0,>=0.12.0->llama-index-postprocessor-cohere-rerank) (1.3.2)\n",
      "Requirement already satisfied: attrs>=17.3.0 in c:\\users\\haoch\\desktop\\geo-bot-prototype\\.venv\\lib\\site-packages (from aiohttp<4.0.0,>=3.8.6->llama-index-core<0.13.0,>=0.12.0->llama-index-postprocessor-cohere-rerank) (25.1.0)\n",
      "Requirement already satisfied: frozenlist>=1.1.1 in c:\\users\\haoch\\desktop\\geo-bot-prototype\\.venv\\lib\\site-packages (from aiohttp<4.0.0,>=3.8.6->llama-index-core<0.13.0,>=0.12.0->llama-index-postprocessor-cohere-rerank) (1.5.0)\n",
      "Requirement already satisfied: multidict<7.0,>=4.5 in c:\\users\\haoch\\desktop\\geo-bot-prototype\\.venv\\lib\\site-packages (from aiohttp<4.0.0,>=3.8.6->llama-index-core<0.13.0,>=0.12.0->llama-index-postprocessor-cohere-rerank) (6.1.0)\n",
      "Requirement already satisfied: propcache>=0.2.0 in c:\\users\\haoch\\desktop\\geo-bot-prototype\\.venv\\lib\\site-packages (from aiohttp<4.0.0,>=3.8.6->llama-index-core<0.13.0,>=0.12.0->llama-index-postprocessor-cohere-rerank) (0.2.1)\n",
      "Requirement already satisfied: yarl<2.0,>=1.17.0 in c:\\users\\haoch\\desktop\\geo-bot-prototype\\.venv\\lib\\site-packages (from aiohttp<4.0.0,>=3.8.6->llama-index-core<0.13.0,>=0.12.0->llama-index-postprocessor-cohere-rerank) (1.18.3)\n",
      "Requirement already satisfied: griffe in c:\\users\\haoch\\desktop\\geo-bot-prototype\\.venv\\lib\\site-packages (from banks<3.0.0,>=2.0.0->llama-index-core<0.13.0,>=0.12.0->llama-index-postprocessor-cohere-rerank) (1.7.2)\n",
      "Requirement already satisfied: jinja2 in c:\\users\\haoch\\desktop\\geo-bot-prototype\\.venv\\lib\\site-packages (from banks<3.0.0,>=2.0.0->llama-index-core<0.13.0,>=0.12.0->llama-index-postprocessor-cohere-rerank) (3.1.5)\n",
      "Requirement already satisfied: platformdirs in c:\\users\\haoch\\desktop\\geo-bot-prototype\\.venv\\lib\\site-packages (from banks<3.0.0,>=2.0.0->llama-index-core<0.13.0,>=0.12.0->llama-index-postprocessor-cohere-rerank) (4.3.7)\n",
      "Requirement already satisfied: anyio in c:\\users\\haoch\\desktop\\geo-bot-prototype\\.venv\\lib\\site-packages (from httpx>=0.21.2->cohere<6.0.0,>=5.1.1->llama-index-postprocessor-cohere-rerank) (4.8.0)\n",
      "Requirement already satisfied: certifi in c:\\users\\haoch\\desktop\\geo-bot-prototype\\.venv\\lib\\site-packages (from httpx>=0.21.2->cohere<6.0.0,>=5.1.1->llama-index-postprocessor-cohere-rerank) (2025.1.31)\n",
      "Requirement already satisfied: httpcore==1.* in c:\\users\\haoch\\desktop\\geo-bot-prototype\\.venv\\lib\\site-packages (from httpx>=0.21.2->cohere<6.0.0,>=5.1.1->llama-index-postprocessor-cohere-rerank) (1.0.7)\n",
      "Requirement already satisfied: idna in c:\\users\\haoch\\desktop\\geo-bot-prototype\\.venv\\lib\\site-packages (from httpx>=0.21.2->cohere<6.0.0,>=5.1.1->llama-index-postprocessor-cohere-rerank) (3.10)\n",
      "Requirement already satisfied: h11<0.15,>=0.13 in c:\\users\\haoch\\desktop\\geo-bot-prototype\\.venv\\lib\\site-packages (from httpcore==1.*->httpx>=0.21.2->cohere<6.0.0,>=5.1.1->llama-index-postprocessor-cohere-rerank) (0.14.0)\n",
      "Requirement already satisfied: click in c:\\users\\haoch\\desktop\\geo-bot-prototype\\.venv\\lib\\site-packages (from nltk>3.8.1->llama-index-core<0.13.0,>=0.12.0->llama-index-postprocessor-cohere-rerank) (8.1.8)\n",
      "Requirement already satisfied: joblib in c:\\users\\haoch\\desktop\\geo-bot-prototype\\.venv\\lib\\site-packages (from nltk>3.8.1->llama-index-core<0.13.0,>=0.12.0->llama-index-postprocessor-cohere-rerank) (1.4.2)\n",
      "Requirement already satisfied: regex>=2021.8.3 in c:\\users\\haoch\\desktop\\geo-bot-prototype\\.venv\\lib\\site-packages (from nltk>3.8.1->llama-index-core<0.13.0,>=0.12.0->llama-index-postprocessor-cohere-rerank) (2024.11.6)\n",
      "Requirement already satisfied: annotated-types>=0.6.0 in c:\\users\\haoch\\desktop\\geo-bot-prototype\\.venv\\lib\\site-packages (from pydantic>=1.9.2->cohere<6.0.0,>=5.1.1->llama-index-postprocessor-cohere-rerank) (0.7.0)\n",
      "Requirement already satisfied: charset-normalizer<4,>=2 in c:\\users\\haoch\\desktop\\geo-bot-prototype\\.venv\\lib\\site-packages (from requests<3.0.0,>=2.0.0->cohere<6.0.0,>=5.1.1->llama-index-postprocessor-cohere-rerank) (3.4.1)\n",
      "Requirement already satisfied: urllib3<3,>=1.21.1 in c:\\users\\haoch\\desktop\\geo-bot-prototype\\.venv\\lib\\site-packages (from requests<3.0.0,>=2.0.0->cohere<6.0.0,>=5.1.1->llama-index-postprocessor-cohere-rerank) (2.3.0)\n",
      "Requirement already satisfied: greenlet!=0.4.17 in c:\\users\\haoch\\desktop\\geo-bot-prototype\\.venv\\lib\\site-packages (from SQLAlchemy>=1.4.49->SQLAlchemy[asyncio]>=1.4.49->llama-index-core<0.13.0,>=0.12.0->llama-index-postprocessor-cohere-rerank) (3.1.1)\n",
      "Requirement already satisfied: huggingface-hub<1.0,>=0.16.4 in c:\\users\\haoch\\desktop\\geo-bot-prototype\\.venv\\lib\\site-packages (from tokenizers<1,>=0.15->cohere<6.0.0,>=5.1.1->llama-index-postprocessor-cohere-rerank) (0.28.1)\n",
      "Requirement already satisfied: colorama in c:\\users\\haoch\\desktop\\geo-bot-prototype\\.venv\\lib\\site-packages (from tqdm<5.0.0,>=4.66.1->llama-index-core<0.13.0,>=0.12.0->llama-index-postprocessor-cohere-rerank) (0.4.6)\n",
      "Requirement already satisfied: mypy-extensions>=0.3.0 in c:\\users\\haoch\\desktop\\geo-bot-prototype\\.venv\\lib\\site-packages (from typing-inspect>=0.8.0->llama-index-core<0.13.0,>=0.12.0->llama-index-postprocessor-cohere-rerank) (1.0.0)\n",
      "Requirement already satisfied: marshmallow<4.0.0,>=3.18.0 in c:\\users\\haoch\\desktop\\geo-bot-prototype\\.venv\\lib\\site-packages (from dataclasses-json->llama-index-core<0.13.0,>=0.12.0->llama-index-postprocessor-cohere-rerank) (3.26.1)\n",
      "Requirement already satisfied: filelock in c:\\users\\haoch\\desktop\\geo-bot-prototype\\.venv\\lib\\site-packages (from huggingface-hub<1.0,>=0.16.4->tokenizers<1,>=0.15->cohere<6.0.0,>=5.1.1->llama-index-postprocessor-cohere-rerank) (3.17.0)\n",
      "Requirement already satisfied: packaging>=20.9 in c:\\users\\haoch\\desktop\\geo-bot-prototype\\.venv\\lib\\site-packages (from huggingface-hub<1.0,>=0.16.4->tokenizers<1,>=0.15->cohere<6.0.0,>=5.1.1->llama-index-postprocessor-cohere-rerank) (24.2)\n",
      "Requirement already satisfied: sniffio>=1.1 in c:\\users\\haoch\\desktop\\geo-bot-prototype\\.venv\\lib\\site-packages (from anyio->httpx>=0.21.2->cohere<6.0.0,>=5.1.1->llama-index-postprocessor-cohere-rerank) (1.3.1)\n",
      "Requirement already satisfied: MarkupSafe>=2.0 in c:\\users\\haoch\\desktop\\geo-bot-prototype\\.venv\\lib\\site-packages (from jinja2->banks<3.0.0,>=2.0.0->llama-index-core<0.13.0,>=0.12.0->llama-index-postprocessor-cohere-rerank) (3.0.2)\n",
      "Note: you may need to restart the kernel to use updated packages.\n"
     ]
    },
    {
     "name": "stderr",
     "output_type": "stream",
     "text": [
      "\n",
      "[notice] A new release of pip is available: 25.0 -> 25.0.1\n",
      "[notice] To update, run: python.exe -m pip install --upgrade pip\n"
     ]
    },
    {
     "name": "stdout",
     "output_type": "stream",
     "text": [
      "Requirement already satisfied: llama-index-llms-openai in c:\\users\\haoch\\desktop\\geo-bot-prototype\\.venv\\lib\\site-packages (0.3.35)\n",
      "Requirement already satisfied: llama-index-core<0.13.0,>=0.12.17 in c:\\users\\haoch\\desktop\\geo-bot-prototype\\.venv\\lib\\site-packages (from llama-index-llms-openai) (0.12.30)\n",
      "Requirement already satisfied: openai<2.0.0,>=1.66.3 in c:\\users\\haoch\\desktop\\geo-bot-prototype\\.venv\\lib\\site-packages (from llama-index-llms-openai) (1.74.0)\n",
      "Requirement already satisfied: PyYAML>=6.0.1 in c:\\users\\haoch\\desktop\\geo-bot-prototype\\.venv\\lib\\site-packages (from llama-index-core<0.13.0,>=0.12.17->llama-index-llms-openai) (6.0.2)\n",
      "Requirement already satisfied: SQLAlchemy>=1.4.49 in c:\\users\\haoch\\desktop\\geo-bot-prototype\\.venv\\lib\\site-packages (from SQLAlchemy[asyncio]>=1.4.49->llama-index-core<0.13.0,>=0.12.17->llama-index-llms-openai) (2.0.37)\n",
      "Requirement already satisfied: aiohttp<4.0.0,>=3.8.6 in c:\\users\\haoch\\desktop\\geo-bot-prototype\\.venv\\lib\\site-packages (from llama-index-core<0.13.0,>=0.12.17->llama-index-llms-openai) (3.11.11)\n",
      "Requirement already satisfied: banks<3.0.0,>=2.0.0 in c:\\users\\haoch\\desktop\\geo-bot-prototype\\.venv\\lib\\site-packages (from llama-index-core<0.13.0,>=0.12.17->llama-index-llms-openai) (2.1.1)\n",
      "Requirement already satisfied: dataclasses-json in c:\\users\\haoch\\desktop\\geo-bot-prototype\\.venv\\lib\\site-packages (from llama-index-core<0.13.0,>=0.12.17->llama-index-llms-openai) (0.6.7)\n",
      "Requirement already satisfied: deprecated>=1.2.9.3 in c:\\users\\haoch\\desktop\\geo-bot-prototype\\.venv\\lib\\site-packages (from llama-index-core<0.13.0,>=0.12.17->llama-index-llms-openai) (1.2.18)\n",
      "Requirement already satisfied: dirtyjson<2.0.0,>=1.0.8 in c:\\users\\haoch\\desktop\\geo-bot-prototype\\.venv\\lib\\site-packages (from llama-index-core<0.13.0,>=0.12.17->llama-index-llms-openai) (1.0.8)\n",
      "Requirement already satisfied: filetype<2.0.0,>=1.2.0 in c:\\users\\haoch\\desktop\\geo-bot-prototype\\.venv\\lib\\site-packages (from llama-index-core<0.13.0,>=0.12.17->llama-index-llms-openai) (1.2.0)\n",
      "Requirement already satisfied: fsspec>=2023.5.0 in c:\\users\\haoch\\desktop\\geo-bot-prototype\\.venv\\lib\\site-packages (from llama-index-core<0.13.0,>=0.12.17->llama-index-llms-openai) (2025.2.0)\n",
      "Requirement already satisfied: httpx in c:\\users\\haoch\\desktop\\geo-bot-prototype\\.venv\\lib\\site-packages (from llama-index-core<0.13.0,>=0.12.17->llama-index-llms-openai) (0.28.1)\n",
      "Requirement already satisfied: nest-asyncio<2.0.0,>=1.5.8 in c:\\users\\haoch\\desktop\\geo-bot-prototype\\.venv\\lib\\site-packages (from llama-index-core<0.13.0,>=0.12.17->llama-index-llms-openai) (1.6.0)\n",
      "Requirement already satisfied: networkx>=3.0 in c:\\users\\haoch\\desktop\\geo-bot-prototype\\.venv\\lib\\site-packages (from llama-index-core<0.13.0,>=0.12.17->llama-index-llms-openai) (3.4.2)\n",
      "Requirement already satisfied: nltk>3.8.1 in c:\\users\\haoch\\desktop\\geo-bot-prototype\\.venv\\lib\\site-packages (from llama-index-core<0.13.0,>=0.12.17->llama-index-llms-openai) (3.9.1)\n",
      "Requirement already satisfied: numpy in c:\\users\\haoch\\desktop\\geo-bot-prototype\\.venv\\lib\\site-packages (from llama-index-core<0.13.0,>=0.12.17->llama-index-llms-openai) (1.26.4)\n",
      "Requirement already satisfied: pillow>=9.0.0 in c:\\users\\haoch\\desktop\\geo-bot-prototype\\.venv\\lib\\site-packages (from llama-index-core<0.13.0,>=0.12.17->llama-index-llms-openai) (10.4.0)\n",
      "Requirement already satisfied: pydantic>=2.8.0 in c:\\users\\haoch\\desktop\\geo-bot-prototype\\.venv\\lib\\site-packages (from llama-index-core<0.13.0,>=0.12.17->llama-index-llms-openai) (2.10.6)\n",
      "Requirement already satisfied: requests>=2.31.0 in c:\\users\\haoch\\desktop\\geo-bot-prototype\\.venv\\lib\\site-packages (from llama-index-core<0.13.0,>=0.12.17->llama-index-llms-openai) (2.32.3)\n",
      "Requirement already satisfied: tenacity!=8.4.0,<10.0.0,>=8.2.0 in c:\\users\\haoch\\desktop\\geo-bot-prototype\\.venv\\lib\\site-packages (from llama-index-core<0.13.0,>=0.12.17->llama-index-llms-openai) (9.0.0)\n",
      "Requirement already satisfied: tiktoken>=0.3.3 in c:\\users\\haoch\\desktop\\geo-bot-prototype\\.venv\\lib\\site-packages (from llama-index-core<0.13.0,>=0.12.17->llama-index-llms-openai) (0.8.0)\n",
      "Requirement already satisfied: tqdm<5.0.0,>=4.66.1 in c:\\users\\haoch\\desktop\\geo-bot-prototype\\.venv\\lib\\site-packages (from llama-index-core<0.13.0,>=0.12.17->llama-index-llms-openai) (4.67.1)\n",
      "Requirement already satisfied: typing-extensions>=4.5.0 in c:\\users\\haoch\\desktop\\geo-bot-prototype\\.venv\\lib\\site-packages (from llama-index-core<0.13.0,>=0.12.17->llama-index-llms-openai) (4.12.2)\n",
      "Requirement already satisfied: typing-inspect>=0.8.0 in c:\\users\\haoch\\desktop\\geo-bot-prototype\\.venv\\lib\\site-packages (from llama-index-core<0.13.0,>=0.12.17->llama-index-llms-openai) (0.9.0)\n",
      "Requirement already satisfied: wrapt in c:\\users\\haoch\\desktop\\geo-bot-prototype\\.venv\\lib\\site-packages (from llama-index-core<0.13.0,>=0.12.17->llama-index-llms-openai) (1.17.2)\n",
      "Requirement already satisfied: anyio<5,>=3.5.0 in c:\\users\\haoch\\desktop\\geo-bot-prototype\\.venv\\lib\\site-packages (from openai<2.0.0,>=1.66.3->llama-index-llms-openai) (4.8.0)\n",
      "Requirement already satisfied: distro<2,>=1.7.0 in c:\\users\\haoch\\desktop\\geo-bot-prototype\\.venv\\lib\\site-packages (from openai<2.0.0,>=1.66.3->llama-index-llms-openai) (1.9.0)\n",
      "Requirement already satisfied: jiter<1,>=0.4.0 in c:\\users\\haoch\\desktop\\geo-bot-prototype\\.venv\\lib\\site-packages (from openai<2.0.0,>=1.66.3->llama-index-llms-openai) (0.8.2)\n",
      "Requirement already satisfied: sniffio in c:\\users\\haoch\\desktop\\geo-bot-prototype\\.venv\\lib\\site-packages (from openai<2.0.0,>=1.66.3->llama-index-llms-openai) (1.3.1)\n",
      "Requirement already satisfied: aiohappyeyeballs>=2.3.0 in c:\\users\\haoch\\desktop\\geo-bot-prototype\\.venv\\lib\\site-packages (from aiohttp<4.0.0,>=3.8.6->llama-index-core<0.13.0,>=0.12.17->llama-index-llms-openai) (2.4.4)\n",
      "Requirement already satisfied: aiosignal>=1.1.2 in c:\\users\\haoch\\desktop\\geo-bot-prototype\\.venv\\lib\\site-packages (from aiohttp<4.0.0,>=3.8.6->llama-index-core<0.13.0,>=0.12.17->llama-index-llms-openai) (1.3.2)\n",
      "Requirement already satisfied: attrs>=17.3.0 in c:\\users\\haoch\\desktop\\geo-bot-prototype\\.venv\\lib\\site-packages (from aiohttp<4.0.0,>=3.8.6->llama-index-core<0.13.0,>=0.12.17->llama-index-llms-openai) (25.1.0)\n",
      "Requirement already satisfied: frozenlist>=1.1.1 in c:\\users\\haoch\\desktop\\geo-bot-prototype\\.venv\\lib\\site-packages (from aiohttp<4.0.0,>=3.8.6->llama-index-core<0.13.0,>=0.12.17->llama-index-llms-openai) (1.5.0)\n",
      "Requirement already satisfied: multidict<7.0,>=4.5 in c:\\users\\haoch\\desktop\\geo-bot-prototype\\.venv\\lib\\site-packages (from aiohttp<4.0.0,>=3.8.6->llama-index-core<0.13.0,>=0.12.17->llama-index-llms-openai) (6.1.0)\n",
      "Requirement already satisfied: propcache>=0.2.0 in c:\\users\\haoch\\desktop\\geo-bot-prototype\\.venv\\lib\\site-packages (from aiohttp<4.0.0,>=3.8.6->llama-index-core<0.13.0,>=0.12.17->llama-index-llms-openai) (0.2.1)\n",
      "Requirement already satisfied: yarl<2.0,>=1.17.0 in c:\\users\\haoch\\desktop\\geo-bot-prototype\\.venv\\lib\\site-packages (from aiohttp<4.0.0,>=3.8.6->llama-index-core<0.13.0,>=0.12.17->llama-index-llms-openai) (1.18.3)\n",
      "Requirement already satisfied: idna>=2.8 in c:\\users\\haoch\\desktop\\geo-bot-prototype\\.venv\\lib\\site-packages (from anyio<5,>=3.5.0->openai<2.0.0,>=1.66.3->llama-index-llms-openai) (3.10)\n",
      "Requirement already satisfied: griffe in c:\\users\\haoch\\desktop\\geo-bot-prototype\\.venv\\lib\\site-packages (from banks<3.0.0,>=2.0.0->llama-index-core<0.13.0,>=0.12.17->llama-index-llms-openai) (1.7.2)\n",
      "Requirement already satisfied: jinja2 in c:\\users\\haoch\\desktop\\geo-bot-prototype\\.venv\\lib\\site-packages (from banks<3.0.0,>=2.0.0->llama-index-core<0.13.0,>=0.12.17->llama-index-llms-openai) (3.1.5)\n",
      "Requirement already satisfied: platformdirs in c:\\users\\haoch\\desktop\\geo-bot-prototype\\.venv\\lib\\site-packages (from banks<3.0.0,>=2.0.0->llama-index-core<0.13.0,>=0.12.17->llama-index-llms-openai) (4.3.7)\n",
      "Requirement already satisfied: certifi in c:\\users\\haoch\\desktop\\geo-bot-prototype\\.venv\\lib\\site-packages (from httpx->llama-index-core<0.13.0,>=0.12.17->llama-index-llms-openai) (2025.1.31)\n",
      "Requirement already satisfied: httpcore==1.* in c:\\users\\haoch\\desktop\\geo-bot-prototype\\.venv\\lib\\site-packages (from httpx->llama-index-core<0.13.0,>=0.12.17->llama-index-llms-openai) (1.0.7)\n",
      "Requirement already satisfied: h11<0.15,>=0.13 in c:\\users\\haoch\\desktop\\geo-bot-prototype\\.venv\\lib\\site-packages (from httpcore==1.*->httpx->llama-index-core<0.13.0,>=0.12.17->llama-index-llms-openai) (0.14.0)\n",
      "Requirement already satisfied: click in c:\\users\\haoch\\desktop\\geo-bot-prototype\\.venv\\lib\\site-packages (from nltk>3.8.1->llama-index-core<0.13.0,>=0.12.17->llama-index-llms-openai) (8.1.8)\n",
      "Requirement already satisfied: joblib in c:\\users\\haoch\\desktop\\geo-bot-prototype\\.venv\\lib\\site-packages (from nltk>3.8.1->llama-index-core<0.13.0,>=0.12.17->llama-index-llms-openai) (1.4.2)\n",
      "Requirement already satisfied: regex>=2021.8.3 in c:\\users\\haoch\\desktop\\geo-bot-prototype\\.venv\\lib\\site-packages (from nltk>3.8.1->llama-index-core<0.13.0,>=0.12.17->llama-index-llms-openai) (2024.11.6)\n",
      "Requirement already satisfied: annotated-types>=0.6.0 in c:\\users\\haoch\\desktop\\geo-bot-prototype\\.venv\\lib\\site-packages (from pydantic>=2.8.0->llama-index-core<0.13.0,>=0.12.17->llama-index-llms-openai) (0.7.0)\n",
      "Requirement already satisfied: pydantic-core==2.27.2 in c:\\users\\haoch\\desktop\\geo-bot-prototype\\.venv\\lib\\site-packages (from pydantic>=2.8.0->llama-index-core<0.13.0,>=0.12.17->llama-index-llms-openai) (2.27.2)\n",
      "Requirement already satisfied: charset-normalizer<4,>=2 in c:\\users\\haoch\\desktop\\geo-bot-prototype\\.venv\\lib\\site-packages (from requests>=2.31.0->llama-index-core<0.13.0,>=0.12.17->llama-index-llms-openai) (3.4.1)\n",
      "Requirement already satisfied: urllib3<3,>=1.21.1 in c:\\users\\haoch\\desktop\\geo-bot-prototype\\.venv\\lib\\site-packages (from requests>=2.31.0->llama-index-core<0.13.0,>=0.12.17->llama-index-llms-openai) (2.3.0)\n",
      "Requirement already satisfied: greenlet!=0.4.17 in c:\\users\\haoch\\desktop\\geo-bot-prototype\\.venv\\lib\\site-packages (from SQLAlchemy>=1.4.49->SQLAlchemy[asyncio]>=1.4.49->llama-index-core<0.13.0,>=0.12.17->llama-index-llms-openai) (3.1.1)\n",
      "Requirement already satisfied: colorama in c:\\users\\haoch\\desktop\\geo-bot-prototype\\.venv\\lib\\site-packages (from tqdm<5.0.0,>=4.66.1->llama-index-core<0.13.0,>=0.12.17->llama-index-llms-openai) (0.4.6)\n",
      "Requirement already satisfied: mypy-extensions>=0.3.0 in c:\\users\\haoch\\desktop\\geo-bot-prototype\\.venv\\lib\\site-packages (from typing-inspect>=0.8.0->llama-index-core<0.13.0,>=0.12.17->llama-index-llms-openai) (1.0.0)\n",
      "Requirement already satisfied: marshmallow<4.0.0,>=3.18.0 in c:\\users\\haoch\\desktop\\geo-bot-prototype\\.venv\\lib\\site-packages (from dataclasses-json->llama-index-core<0.13.0,>=0.12.17->llama-index-llms-openai) (3.26.1)\n",
      "Requirement already satisfied: packaging>=17.0 in c:\\users\\haoch\\desktop\\geo-bot-prototype\\.venv\\lib\\site-packages (from marshmallow<4.0.0,>=3.18.0->dataclasses-json->llama-index-core<0.13.0,>=0.12.17->llama-index-llms-openai) (24.2)\n",
      "Requirement already satisfied: MarkupSafe>=2.0 in c:\\users\\haoch\\desktop\\geo-bot-prototype\\.venv\\lib\\site-packages (from jinja2->banks<3.0.0,>=2.0.0->llama-index-core<0.13.0,>=0.12.17->llama-index-llms-openai) (3.0.2)\n",
      "Note: you may need to restart the kernel to use updated packages.\n"
     ]
    },
    {
     "name": "stderr",
     "output_type": "stream",
     "text": [
      "\n",
      "[notice] A new release of pip is available: 25.0 -> 25.0.1\n",
      "[notice] To update, run: python.exe -m pip install --upgrade pip\n"
     ]
    },
    {
     "name": "stdout",
     "output_type": "stream",
     "text": [
      "Note: you may need to restart the kernel to use updated packages.\n"
     ]
    },
    {
     "name": "stderr",
     "output_type": "stream",
     "text": [
      "\n",
      "[notice] A new release of pip is available: 25.0 -> 25.0.1\n",
      "[notice] To update, run: python.exe -m pip install --upgrade pip\n"
     ]
    },
    {
     "name": "stdout",
     "output_type": "stream",
     "text": [
      "Requirement already satisfied: llama-index-embeddings-openai in c:\\users\\haoch\\desktop\\geo-bot-prototype\\.venv\\lib\\site-packages (0.3.1)\n",
      "Requirement already satisfied: llama-index-core<0.13.0,>=0.12.0 in c:\\users\\haoch\\desktop\\geo-bot-prototype\\.venv\\lib\\site-packages (from llama-index-embeddings-openai) (0.12.30)\n",
      "Requirement already satisfied: openai>=1.1.0 in c:\\users\\haoch\\desktop\\geo-bot-prototype\\.venv\\lib\\site-packages (from llama-index-embeddings-openai) (1.74.0)\n",
      "Requirement already satisfied: PyYAML>=6.0.1 in c:\\users\\haoch\\desktop\\geo-bot-prototype\\.venv\\lib\\site-packages (from llama-index-core<0.13.0,>=0.12.0->llama-index-embeddings-openai) (6.0.2)\n",
      "Requirement already satisfied: SQLAlchemy>=1.4.49 in c:\\users\\haoch\\desktop\\geo-bot-prototype\\.venv\\lib\\site-packages (from SQLAlchemy[asyncio]>=1.4.49->llama-index-core<0.13.0,>=0.12.0->llama-index-embeddings-openai) (2.0.37)\n",
      "Requirement already satisfied: aiohttp<4.0.0,>=3.8.6 in c:\\users\\haoch\\desktop\\geo-bot-prototype\\.venv\\lib\\site-packages (from llama-index-core<0.13.0,>=0.12.0->llama-index-embeddings-openai) (3.11.11)\n",
      "Requirement already satisfied: banks<3.0.0,>=2.0.0 in c:\\users\\haoch\\desktop\\geo-bot-prototype\\.venv\\lib\\site-packages (from llama-index-core<0.13.0,>=0.12.0->llama-index-embeddings-openai) (2.1.1)\n",
      "Requirement already satisfied: dataclasses-json in c:\\users\\haoch\\desktop\\geo-bot-prototype\\.venv\\lib\\site-packages (from llama-index-core<0.13.0,>=0.12.0->llama-index-embeddings-openai) (0.6.7)\n",
      "Requirement already satisfied: deprecated>=1.2.9.3 in c:\\users\\haoch\\desktop\\geo-bot-prototype\\.venv\\lib\\site-packages (from llama-index-core<0.13.0,>=0.12.0->llama-index-embeddings-openai) (1.2.18)\n",
      "Requirement already satisfied: dirtyjson<2.0.0,>=1.0.8 in c:\\users\\haoch\\desktop\\geo-bot-prototype\\.venv\\lib\\site-packages (from llama-index-core<0.13.0,>=0.12.0->llama-index-embeddings-openai) (1.0.8)\n",
      "Requirement already satisfied: filetype<2.0.0,>=1.2.0 in c:\\users\\haoch\\desktop\\geo-bot-prototype\\.venv\\lib\\site-packages (from llama-index-core<0.13.0,>=0.12.0->llama-index-embeddings-openai) (1.2.0)\n",
      "Requirement already satisfied: fsspec>=2023.5.0 in c:\\users\\haoch\\desktop\\geo-bot-prototype\\.venv\\lib\\site-packages (from llama-index-core<0.13.0,>=0.12.0->llama-index-embeddings-openai) (2025.2.0)\n",
      "Requirement already satisfied: httpx in c:\\users\\haoch\\desktop\\geo-bot-prototype\\.venv\\lib\\site-packages (from llama-index-core<0.13.0,>=0.12.0->llama-index-embeddings-openai) (0.28.1)\n",
      "Requirement already satisfied: nest-asyncio<2.0.0,>=1.5.8 in c:\\users\\haoch\\desktop\\geo-bot-prototype\\.venv\\lib\\site-packages (from llama-index-core<0.13.0,>=0.12.0->llama-index-embeddings-openai) (1.6.0)\n",
      "Requirement already satisfied: networkx>=3.0 in c:\\users\\haoch\\desktop\\geo-bot-prototype\\.venv\\lib\\site-packages (from llama-index-core<0.13.0,>=0.12.0->llama-index-embeddings-openai) (3.4.2)\n",
      "Requirement already satisfied: nltk>3.8.1 in c:\\users\\haoch\\desktop\\geo-bot-prototype\\.venv\\lib\\site-packages (from llama-index-core<0.13.0,>=0.12.0->llama-index-embeddings-openai) (3.9.1)\n",
      "Requirement already satisfied: numpy in c:\\users\\haoch\\desktop\\geo-bot-prototype\\.venv\\lib\\site-packages (from llama-index-core<0.13.0,>=0.12.0->llama-index-embeddings-openai) (1.26.4)\n",
      "Requirement already satisfied: pillow>=9.0.0 in c:\\users\\haoch\\desktop\\geo-bot-prototype\\.venv\\lib\\site-packages (from llama-index-core<0.13.0,>=0.12.0->llama-index-embeddings-openai) (10.4.0)\n",
      "Requirement already satisfied: pydantic>=2.8.0 in c:\\users\\haoch\\desktop\\geo-bot-prototype\\.venv\\lib\\site-packages (from llama-index-core<0.13.0,>=0.12.0->llama-index-embeddings-openai) (2.10.6)\n",
      "Requirement already satisfied: requests>=2.31.0 in c:\\users\\haoch\\desktop\\geo-bot-prototype\\.venv\\lib\\site-packages (from llama-index-core<0.13.0,>=0.12.0->llama-index-embeddings-openai) (2.32.3)\n",
      "Requirement already satisfied: tenacity!=8.4.0,<10.0.0,>=8.2.0 in c:\\users\\haoch\\desktop\\geo-bot-prototype\\.venv\\lib\\site-packages (from llama-index-core<0.13.0,>=0.12.0->llama-index-embeddings-openai) (9.0.0)\n",
      "Requirement already satisfied: tiktoken>=0.3.3 in c:\\users\\haoch\\desktop\\geo-bot-prototype\\.venv\\lib\\site-packages (from llama-index-core<0.13.0,>=0.12.0->llama-index-embeddings-openai) (0.8.0)\n",
      "Requirement already satisfied: tqdm<5.0.0,>=4.66.1 in c:\\users\\haoch\\desktop\\geo-bot-prototype\\.venv\\lib\\site-packages (from llama-index-core<0.13.0,>=0.12.0->llama-index-embeddings-openai) (4.67.1)\n",
      "Requirement already satisfied: typing-extensions>=4.5.0 in c:\\users\\haoch\\desktop\\geo-bot-prototype\\.venv\\lib\\site-packages (from llama-index-core<0.13.0,>=0.12.0->llama-index-embeddings-openai) (4.12.2)\n",
      "Requirement already satisfied: typing-inspect>=0.8.0 in c:\\users\\haoch\\desktop\\geo-bot-prototype\\.venv\\lib\\site-packages (from llama-index-core<0.13.0,>=0.12.0->llama-index-embeddings-openai) (0.9.0)\n",
      "Requirement already satisfied: wrapt in c:\\users\\haoch\\desktop\\geo-bot-prototype\\.venv\\lib\\site-packages (from llama-index-core<0.13.0,>=0.12.0->llama-index-embeddings-openai) (1.17.2)\n",
      "Requirement already satisfied: anyio<5,>=3.5.0 in c:\\users\\haoch\\desktop\\geo-bot-prototype\\.venv\\lib\\site-packages (from openai>=1.1.0->llama-index-embeddings-openai) (4.8.0)\n",
      "Requirement already satisfied: distro<2,>=1.7.0 in c:\\users\\haoch\\desktop\\geo-bot-prototype\\.venv\\lib\\site-packages (from openai>=1.1.0->llama-index-embeddings-openai) (1.9.0)\n",
      "Requirement already satisfied: jiter<1,>=0.4.0 in c:\\users\\haoch\\desktop\\geo-bot-prototype\\.venv\\lib\\site-packages (from openai>=1.1.0->llama-index-embeddings-openai) (0.8.2)\n",
      "Requirement already satisfied: sniffio in c:\\users\\haoch\\desktop\\geo-bot-prototype\\.venv\\lib\\site-packages (from openai>=1.1.0->llama-index-embeddings-openai) (1.3.1)\n",
      "Requirement already satisfied: aiohappyeyeballs>=2.3.0 in c:\\users\\haoch\\desktop\\geo-bot-prototype\\.venv\\lib\\site-packages (from aiohttp<4.0.0,>=3.8.6->llama-index-core<0.13.0,>=0.12.0->llama-index-embeddings-openai) (2.4.4)\n",
      "Requirement already satisfied: aiosignal>=1.1.2 in c:\\users\\haoch\\desktop\\geo-bot-prototype\\.venv\\lib\\site-packages (from aiohttp<4.0.0,>=3.8.6->llama-index-core<0.13.0,>=0.12.0->llama-index-embeddings-openai) (1.3.2)\n",
      "Requirement already satisfied: attrs>=17.3.0 in c:\\users\\haoch\\desktop\\geo-bot-prototype\\.venv\\lib\\site-packages (from aiohttp<4.0.0,>=3.8.6->llama-index-core<0.13.0,>=0.12.0->llama-index-embeddings-openai) (25.1.0)\n",
      "Requirement already satisfied: frozenlist>=1.1.1 in c:\\users\\haoch\\desktop\\geo-bot-prototype\\.venv\\lib\\site-packages (from aiohttp<4.0.0,>=3.8.6->llama-index-core<0.13.0,>=0.12.0->llama-index-embeddings-openai) (1.5.0)\n",
      "Requirement already satisfied: multidict<7.0,>=4.5 in c:\\users\\haoch\\desktop\\geo-bot-prototype\\.venv\\lib\\site-packages (from aiohttp<4.0.0,>=3.8.6->llama-index-core<0.13.0,>=0.12.0->llama-index-embeddings-openai) (6.1.0)\n",
      "Requirement already satisfied: propcache>=0.2.0 in c:\\users\\haoch\\desktop\\geo-bot-prototype\\.venv\\lib\\site-packages (from aiohttp<4.0.0,>=3.8.6->llama-index-core<0.13.0,>=0.12.0->llama-index-embeddings-openai) (0.2.1)\n",
      "Requirement already satisfied: yarl<2.0,>=1.17.0 in c:\\users\\haoch\\desktop\\geo-bot-prototype\\.venv\\lib\\site-packages (from aiohttp<4.0.0,>=3.8.6->llama-index-core<0.13.0,>=0.12.0->llama-index-embeddings-openai) (1.18.3)\n",
      "Requirement already satisfied: idna>=2.8 in c:\\users\\haoch\\desktop\\geo-bot-prototype\\.venv\\lib\\site-packages (from anyio<5,>=3.5.0->openai>=1.1.0->llama-index-embeddings-openai) (3.10)\n",
      "Requirement already satisfied: griffe in c:\\users\\haoch\\desktop\\geo-bot-prototype\\.venv\\lib\\site-packages (from banks<3.0.0,>=2.0.0->llama-index-core<0.13.0,>=0.12.0->llama-index-embeddings-openai) (1.7.2)\n",
      "Requirement already satisfied: jinja2 in c:\\users\\haoch\\desktop\\geo-bot-prototype\\.venv\\lib\\site-packages (from banks<3.0.0,>=2.0.0->llama-index-core<0.13.0,>=0.12.0->llama-index-embeddings-openai) (3.1.5)\n",
      "Requirement already satisfied: platformdirs in c:\\users\\haoch\\desktop\\geo-bot-prototype\\.venv\\lib\\site-packages (from banks<3.0.0,>=2.0.0->llama-index-core<0.13.0,>=0.12.0->llama-index-embeddings-openai) (4.3.7)\n",
      "Requirement already satisfied: certifi in c:\\users\\haoch\\desktop\\geo-bot-prototype\\.venv\\lib\\site-packages (from httpx->llama-index-core<0.13.0,>=0.12.0->llama-index-embeddings-openai) (2025.1.31)\n",
      "Requirement already satisfied: httpcore==1.* in c:\\users\\haoch\\desktop\\geo-bot-prototype\\.venv\\lib\\site-packages (from httpx->llama-index-core<0.13.0,>=0.12.0->llama-index-embeddings-openai) (1.0.7)\n",
      "Requirement already satisfied: h11<0.15,>=0.13 in c:\\users\\haoch\\desktop\\geo-bot-prototype\\.venv\\lib\\site-packages (from httpcore==1.*->httpx->llama-index-core<0.13.0,>=0.12.0->llama-index-embeddings-openai) (0.14.0)\n",
      "Requirement already satisfied: click in c:\\users\\haoch\\desktop\\geo-bot-prototype\\.venv\\lib\\site-packages (from nltk>3.8.1->llama-index-core<0.13.0,>=0.12.0->llama-index-embeddings-openai) (8.1.8)\n",
      "Requirement already satisfied: joblib in c:\\users\\haoch\\desktop\\geo-bot-prototype\\.venv\\lib\\site-packages (from nltk>3.8.1->llama-index-core<0.13.0,>=0.12.0->llama-index-embeddings-openai) (1.4.2)\n",
      "Requirement already satisfied: regex>=2021.8.3 in c:\\users\\haoch\\desktop\\geo-bot-prototype\\.venv\\lib\\site-packages (from nltk>3.8.1->llama-index-core<0.13.0,>=0.12.0->llama-index-embeddings-openai) (2024.11.6)\n",
      "Requirement already satisfied: annotated-types>=0.6.0 in c:\\users\\haoch\\desktop\\geo-bot-prototype\\.venv\\lib\\site-packages (from pydantic>=2.8.0->llama-index-core<0.13.0,>=0.12.0->llama-index-embeddings-openai) (0.7.0)\n",
      "Requirement already satisfied: pydantic-core==2.27.2 in c:\\users\\haoch\\desktop\\geo-bot-prototype\\.venv\\lib\\site-packages (from pydantic>=2.8.0->llama-index-core<0.13.0,>=0.12.0->llama-index-embeddings-openai) (2.27.2)\n",
      "Requirement already satisfied: charset-normalizer<4,>=2 in c:\\users\\haoch\\desktop\\geo-bot-prototype\\.venv\\lib\\site-packages (from requests>=2.31.0->llama-index-core<0.13.0,>=0.12.0->llama-index-embeddings-openai) (3.4.1)\n",
      "Requirement already satisfied: urllib3<3,>=1.21.1 in c:\\users\\haoch\\desktop\\geo-bot-prototype\\.venv\\lib\\site-packages (from requests>=2.31.0->llama-index-core<0.13.0,>=0.12.0->llama-index-embeddings-openai) (2.3.0)\n",
      "Requirement already satisfied: greenlet!=0.4.17 in c:\\users\\haoch\\desktop\\geo-bot-prototype\\.venv\\lib\\site-packages (from SQLAlchemy>=1.4.49->SQLAlchemy[asyncio]>=1.4.49->llama-index-core<0.13.0,>=0.12.0->llama-index-embeddings-openai) (3.1.1)\n",
      "Requirement already satisfied: colorama in c:\\users\\haoch\\desktop\\geo-bot-prototype\\.venv\\lib\\site-packages (from tqdm<5.0.0,>=4.66.1->llama-index-core<0.13.0,>=0.12.0->llama-index-embeddings-openai) (0.4.6)\n",
      "Requirement already satisfied: mypy-extensions>=0.3.0 in c:\\users\\haoch\\desktop\\geo-bot-prototype\\.venv\\lib\\site-packages (from typing-inspect>=0.8.0->llama-index-core<0.13.0,>=0.12.0->llama-index-embeddings-openai) (1.0.0)\n",
      "Requirement already satisfied: marshmallow<4.0.0,>=3.18.0 in c:\\users\\haoch\\desktop\\geo-bot-prototype\\.venv\\lib\\site-packages (from dataclasses-json->llama-index-core<0.13.0,>=0.12.0->llama-index-embeddings-openai) (3.26.1)\n",
      "Requirement already satisfied: packaging>=17.0 in c:\\users\\haoch\\desktop\\geo-bot-prototype\\.venv\\lib\\site-packages (from marshmallow<4.0.0,>=3.18.0->dataclasses-json->llama-index-core<0.13.0,>=0.12.0->llama-index-embeddings-openai) (24.2)\n",
      "Requirement already satisfied: MarkupSafe>=2.0 in c:\\users\\haoch\\desktop\\geo-bot-prototype\\.venv\\lib\\site-packages (from jinja2->banks<3.0.0,>=2.0.0->llama-index-core<0.13.0,>=0.12.0->llama-index-embeddings-openai) (3.0.2)\n",
      "Requirement already satisfied: unstructured[html] in c:\\users\\haoch\\desktop\\geo-bot-prototype\\.venv\\lib\\site-packages (0.17.2)\n",
      "Requirement already satisfied: chardet in c:\\users\\haoch\\desktop\\geo-bot-prototype\\.venv\\lib\\site-packages (from unstructured[html]) (5.2.0)\n",
      "Requirement already satisfied: filetype in c:\\users\\haoch\\desktop\\geo-bot-prototype\\.venv\\lib\\site-packages (from unstructured[html]) (1.2.0)\n",
      "Requirement already satisfied: python-magic in c:\\users\\haoch\\desktop\\geo-bot-prototype\\.venv\\lib\\site-packages (from unstructured[html]) (0.4.27)\n",
      "Requirement already satisfied: lxml in c:\\users\\haoch\\desktop\\geo-bot-prototype\\.venv\\lib\\site-packages (from unstructured[html]) (4.9.4)\n",
      "Requirement already satisfied: nltk in c:\\users\\haoch\\desktop\\geo-bot-prototype\\.venv\\lib\\site-packages (from unstructured[html]) (3.9.1)\n",
      "Requirement already satisfied: requests in c:\\users\\haoch\\desktop\\geo-bot-prototype\\.venv\\lib\\site-packages (from unstructured[html]) (2.32.3)\n",
      "Requirement already satisfied: beautifulsoup4 in c:\\users\\haoch\\desktop\\geo-bot-prototype\\.venv\\lib\\site-packages (from unstructured[html]) (4.13.1)\n",
      "Requirement already satisfied: emoji in c:\\users\\haoch\\desktop\\geo-bot-prototype\\.venv\\lib\\site-packages (from unstructured[html]) (2.14.1)\n",
      "Requirement already satisfied: dataclasses-json in c:\\users\\haoch\\desktop\\geo-bot-prototype\\.venv\\lib\\site-packages (from unstructured[html]) (0.6.7)\n",
      "Requirement already satisfied: python-iso639 in c:\\users\\haoch\\desktop\\geo-bot-prototype\\.venv\\lib\\site-packages (from unstructured[html]) (2025.2.18)\n",
      "Requirement already satisfied: langdetect in c:\\users\\haoch\\desktop\\geo-bot-prototype\\.venv\\lib\\site-packages (from unstructured[html]) (1.0.9)\n",
      "Requirement already satisfied: numpy in c:\\users\\haoch\\desktop\\geo-bot-prototype\\.venv\\lib\\site-packages (from unstructured[html]) (1.26.4)\n",
      "Requirement already satisfied: rapidfuzz in c:\\users\\haoch\\desktop\\geo-bot-prototype\\.venv\\lib\\site-packages (from unstructured[html]) (3.12.1)\n",
      "Requirement already satisfied: backoff in c:\\users\\haoch\\desktop\\geo-bot-prototype\\.venv\\lib\\site-packages (from unstructured[html]) (2.2.1)\n",
      "Requirement already satisfied: typing-extensions in c:\\users\\haoch\\desktop\\geo-bot-prototype\\.venv\\lib\\site-packages (from unstructured[html]) (4.12.2)\n",
      "Requirement already satisfied: unstructured-client in c:\\users\\haoch\\desktop\\geo-bot-prototype\\.venv\\lib\\site-packages (from unstructured[html]) (0.32.3)\n",
      "Requirement already satisfied: wrapt in c:\\users\\haoch\\desktop\\geo-bot-prototype\\.venv\\lib\\site-packages (from unstructured[html]) (1.17.2)\n",
      "Requirement already satisfied: tqdm in c:\\users\\haoch\\desktop\\geo-bot-prototype\\.venv\\lib\\site-packages (from unstructured[html]) (4.67.1)\n",
      "Requirement already satisfied: psutil in c:\\users\\haoch\\desktop\\geo-bot-prototype\\.venv\\lib\\site-packages (from unstructured[html]) (7.0.0)\n",
      "Requirement already satisfied: python-oxmsg in c:\\users\\haoch\\desktop\\geo-bot-prototype\\.venv\\lib\\site-packages (from unstructured[html]) (0.0.2)\n",
      "Requirement already satisfied: html5lib in c:\\users\\haoch\\desktop\\geo-bot-prototype\\.venv\\lib\\site-packages (from unstructured[html]) (1.1)\n",
      "Requirement already satisfied: soupsieve>1.2 in c:\\users\\haoch\\desktop\\geo-bot-prototype\\.venv\\lib\\site-packages (from beautifulsoup4->unstructured[html]) (2.6)\n",
      "Requirement already satisfied: marshmallow<4.0.0,>=3.18.0 in c:\\users\\haoch\\desktop\\geo-bot-prototype\\.venv\\lib\\site-packages (from dataclasses-json->unstructured[html]) (3.26.1)\n",
      "Requirement already satisfied: typing-inspect<1,>=0.4.0 in c:\\users\\haoch\\desktop\\geo-bot-prototype\\.venv\\lib\\site-packages (from dataclasses-json->unstructured[html]) (0.9.0)\n",
      "Requirement already satisfied: six>=1.9 in c:\\users\\haoch\\desktop\\geo-bot-prototype\\.venv\\lib\\site-packages (from html5lib->unstructured[html]) (1.17.0)\n",
      "Requirement already satisfied: webencodings in c:\\users\\haoch\\desktop\\geo-bot-prototype\\.venv\\lib\\site-packages (from html5lib->unstructured[html]) (0.5.1)\n",
      "Requirement already satisfied: click in c:\\users\\haoch\\desktop\\geo-bot-prototype\\.venv\\lib\\site-packages (from nltk->unstructured[html]) (8.1.8)\n",
      "Requirement already satisfied: joblib in c:\\users\\haoch\\desktop\\geo-bot-prototype\\.venv\\lib\\site-packages (from nltk->unstructured[html]) (1.4.2)\n",
      "Requirement already satisfied: regex>=2021.8.3 in c:\\users\\haoch\\desktop\\geo-bot-prototype\\.venv\\lib\\site-packages (from nltk->unstructured[html]) (2024.11.6)\n",
      "Requirement already satisfied: olefile in c:\\users\\haoch\\desktop\\geo-bot-prototype\\.venv\\lib\\site-packages (from python-oxmsg->unstructured[html]) (0.47)\n",
      "Requirement already satisfied: charset-normalizer<4,>=2 in c:\\users\\haoch\\desktop\\geo-bot-prototype\\.venv\\lib\\site-packages (from requests->unstructured[html]) (3.4.1)\n",
      "Requirement already satisfied: idna<4,>=2.5 in c:\\users\\haoch\\desktop\\geo-bot-prototype\\.venv\\lib\\site-packages (from requests->unstructured[html]) (3.10)\n",
      "Requirement already satisfied: urllib3<3,>=1.21.1 in c:\\users\\haoch\\desktop\\geo-bot-prototype\\.venv\\lib\\site-packages (from requests->unstructured[html]) (2.3.0)\n",
      "Requirement already satisfied: certifi>=2017.4.17 in c:\\users\\haoch\\desktop\\geo-bot-prototype\\.venv\\lib\\site-packages (from requests->unstructured[html]) (2025.1.31)\n",
      "Requirement already satisfied: colorama in c:\\users\\haoch\\desktop\\geo-bot-prototype\\.venv\\lib\\site-packages (from tqdm->unstructured[html]) (0.4.6)\n",
      "Requirement already satisfied: aiofiles>=24.1.0 in c:\\users\\haoch\\desktop\\geo-bot-prototype\\.venv\\lib\\site-packages (from unstructured-client->unstructured[html]) (24.1.0)\n",
      "Requirement already satisfied: cryptography>=3.1 in c:\\users\\haoch\\desktop\\geo-bot-prototype\\.venv\\lib\\site-packages (from unstructured-client->unstructured[html]) (44.0.0)\n",
      "Requirement already satisfied: eval-type-backport>=0.2.0 in c:\\users\\haoch\\desktop\\geo-bot-prototype\\.venv\\lib\\site-packages (from unstructured-client->unstructured[html]) (0.2.2)\n",
      "Requirement already satisfied: httpx>=0.27.0 in c:\\users\\haoch\\desktop\\geo-bot-prototype\\.venv\\lib\\site-packages (from unstructured-client->unstructured[html]) (0.28.1)\n",
      "Requirement already satisfied: nest-asyncio>=1.6.0 in c:\\users\\haoch\\desktop\\geo-bot-prototype\\.venv\\lib\\site-packages (from unstructured-client->unstructured[html]) (1.6.0)\n",
      "Requirement already satisfied: pydantic>=2.10.3 in c:\\users\\haoch\\desktop\\geo-bot-prototype\\.venv\\lib\\site-packages (from unstructured-client->unstructured[html]) (2.10.6)\n",
      "Requirement already satisfied: pypdf>=4.0 in c:\\users\\haoch\\desktop\\geo-bot-prototype\\.venv\\lib\\site-packages (from unstructured-client->unstructured[html]) (5.4.0)\n",
      "Requirement already satisfied: python-dateutil>=2.8.2 in c:\\users\\haoch\\desktop\\geo-bot-prototype\\.venv\\lib\\site-packages (from unstructured-client->unstructured[html]) (2.9.0.post0)\n",
      "Requirement already satisfied: requests-toolbelt>=1.0.0 in c:\\users\\haoch\\desktop\\geo-bot-prototype\\.venv\\lib\\site-packages (from unstructured-client->unstructured[html]) (1.0.0)\n",
      "Requirement already satisfied: typing-inspection>=0.4.0 in c:\\users\\haoch\\desktop\\geo-bot-prototype\\.venv\\lib\\site-packages (from unstructured-client->unstructured[html]) (0.4.0)\n",
      "Requirement already satisfied: cffi>=1.12 in c:\\users\\haoch\\desktop\\geo-bot-prototype\\.venv\\lib\\site-packages (from cryptography>=3.1->unstructured-client->unstructured[html]) (1.17.1)\n",
      "Requirement already satisfied: anyio in c:\\users\\haoch\\desktop\\geo-bot-prototype\\.venv\\lib\\site-packages (from httpx>=0.27.0->unstructured-client->unstructured[html]) (4.8.0)\n",
      "Requirement already satisfied: httpcore==1.* in c:\\users\\haoch\\desktop\\geo-bot-prototype\\.venv\\lib\\site-packages (from httpx>=0.27.0->unstructured-client->unstructured[html]) (1.0.7)\n",
      "Requirement already satisfied: h11<0.15,>=0.13 in c:\\users\\haoch\\desktop\\geo-bot-prototype\\.venv\\lib\\site-packages (from httpcore==1.*->httpx>=0.27.0->unstructured-client->unstructured[html]) (0.14.0)\n",
      "Requirement already satisfied: packaging>=17.0 in c:\\users\\haoch\\desktop\\geo-bot-prototype\\.venv\\lib\\site-packages (from marshmallow<4.0.0,>=3.18.0->dataclasses-json->unstructured[html]) (24.2)\n",
      "Requirement already satisfied: annotated-types>=0.6.0 in c:\\users\\haoch\\desktop\\geo-bot-prototype\\.venv\\lib\\site-packages (from pydantic>=2.10.3->unstructured-client->unstructured[html]) (0.7.0)\n",
      "Requirement already satisfied: pydantic-core==2.27.2 in c:\\users\\haoch\\desktop\\geo-bot-prototype\\.venv\\lib\\site-packages (from pydantic>=2.10.3->unstructured-client->unstructured[html]) (2.27.2)\n",
      "Requirement already satisfied: mypy-extensions>=0.3.0 in c:\\users\\haoch\\desktop\\geo-bot-prototype\\.venv\\lib\\site-packages (from typing-inspect<1,>=0.4.0->dataclasses-json->unstructured[html]) (1.0.0)\n",
      "Requirement already satisfied: pycparser in c:\\users\\haoch\\desktop\\geo-bot-prototype\\.venv\\lib\\site-packages (from cffi>=1.12->cryptography>=3.1->unstructured-client->unstructured[html]) (2.22)\n",
      "Requirement already satisfied: sniffio>=1.1 in c:\\users\\haoch\\desktop\\geo-bot-prototype\\.venv\\lib\\site-packages (from anyio->httpx>=0.27.0->unstructured-client->unstructured[html]) (1.3.1)\n",
      "Note: you may need to restart the kernel to use updated packages.\n"
     ]
    },
    {
     "name": "stderr",
     "output_type": "stream",
     "text": [
      "WARNING: unstructured 0.17.2 does not provide the extra 'html'\n",
      "\n",
      "[notice] A new release of pip is available: 25.0 -> 25.0.1\n",
      "[notice] To update, run: python.exe -m pip install --upgrade pip\n"
     ]
    },
    {
     "name": "stdout",
     "output_type": "stream",
     "text": [
      "Requirement already satisfied: llama-index-llms-langchain in c:\\users\\haoch\\desktop\\geo-bot-prototype\\.venv\\lib\\site-packages (0.6.1)\n",
      "Requirement already satisfied: langchain>=0.1.7 in c:\\users\\haoch\\desktop\\geo-bot-prototype\\.venv\\lib\\site-packages (from llama-index-llms-langchain) (0.3.17)\n",
      "Requirement already satisfied: llama-index-core<0.13.0,>=0.12.0 in c:\\users\\haoch\\desktop\\geo-bot-prototype\\.venv\\lib\\site-packages (from llama-index-llms-langchain) (0.12.30)\n",
      "Requirement already satisfied: PyYAML>=5.3 in c:\\users\\haoch\\desktop\\geo-bot-prototype\\.venv\\lib\\site-packages (from langchain>=0.1.7->llama-index-llms-langchain) (6.0.2)\n",
      "Requirement already satisfied: SQLAlchemy<3,>=1.4 in c:\\users\\haoch\\desktop\\geo-bot-prototype\\.venv\\lib\\site-packages (from langchain>=0.1.7->llama-index-llms-langchain) (2.0.37)\n",
      "Requirement already satisfied: aiohttp<4.0.0,>=3.8.3 in c:\\users\\haoch\\desktop\\geo-bot-prototype\\.venv\\lib\\site-packages (from langchain>=0.1.7->llama-index-llms-langchain) (3.11.11)\n",
      "Requirement already satisfied: langchain-core<0.4.0,>=0.3.33 in c:\\users\\haoch\\desktop\\geo-bot-prototype\\.venv\\lib\\site-packages (from langchain>=0.1.7->llama-index-llms-langchain) (0.3.33)\n",
      "Requirement already satisfied: langchain-text-splitters<0.4.0,>=0.3.3 in c:\\users\\haoch\\desktop\\geo-bot-prototype\\.venv\\lib\\site-packages (from langchain>=0.1.7->llama-index-llms-langchain) (0.3.5)\n",
      "Requirement already satisfied: langsmith<0.4,>=0.1.17 in c:\\users\\haoch\\desktop\\geo-bot-prototype\\.venv\\lib\\site-packages (from langchain>=0.1.7->llama-index-llms-langchain) (0.3.4)\n",
      "Requirement already satisfied: numpy<2,>=1.22.4 in c:\\users\\haoch\\desktop\\geo-bot-prototype\\.venv\\lib\\site-packages (from langchain>=0.1.7->llama-index-llms-langchain) (1.26.4)\n",
      "Requirement already satisfied: pydantic<3.0.0,>=2.7.4 in c:\\users\\haoch\\desktop\\geo-bot-prototype\\.venv\\lib\\site-packages (from langchain>=0.1.7->llama-index-llms-langchain) (2.10.6)\n",
      "Requirement already satisfied: requests<3,>=2 in c:\\users\\haoch\\desktop\\geo-bot-prototype\\.venv\\lib\\site-packages (from langchain>=0.1.7->llama-index-llms-langchain) (2.32.3)\n",
      "Requirement already satisfied: tenacity!=8.4.0,<10,>=8.1.0 in c:\\users\\haoch\\desktop\\geo-bot-prototype\\.venv\\lib\\site-packages (from langchain>=0.1.7->llama-index-llms-langchain) (9.0.0)\n",
      "Requirement already satisfied: banks<3.0.0,>=2.0.0 in c:\\users\\haoch\\desktop\\geo-bot-prototype\\.venv\\lib\\site-packages (from llama-index-core<0.13.0,>=0.12.0->llama-index-llms-langchain) (2.1.1)\n",
      "Requirement already satisfied: dataclasses-json in c:\\users\\haoch\\desktop\\geo-bot-prototype\\.venv\\lib\\site-packages (from llama-index-core<0.13.0,>=0.12.0->llama-index-llms-langchain) (0.6.7)\n",
      "Requirement already satisfied: deprecated>=1.2.9.3 in c:\\users\\haoch\\desktop\\geo-bot-prototype\\.venv\\lib\\site-packages (from llama-index-core<0.13.0,>=0.12.0->llama-index-llms-langchain) (1.2.18)\n",
      "Requirement already satisfied: dirtyjson<2.0.0,>=1.0.8 in c:\\users\\haoch\\desktop\\geo-bot-prototype\\.venv\\lib\\site-packages (from llama-index-core<0.13.0,>=0.12.0->llama-index-llms-langchain) (1.0.8)\n",
      "Requirement already satisfied: filetype<2.0.0,>=1.2.0 in c:\\users\\haoch\\desktop\\geo-bot-prototype\\.venv\\lib\\site-packages (from llama-index-core<0.13.0,>=0.12.0->llama-index-llms-langchain) (1.2.0)\n",
      "Requirement already satisfied: fsspec>=2023.5.0 in c:\\users\\haoch\\desktop\\geo-bot-prototype\\.venv\\lib\\site-packages (from llama-index-core<0.13.0,>=0.12.0->llama-index-llms-langchain) (2025.2.0)\n",
      "Requirement already satisfied: httpx in c:\\users\\haoch\\desktop\\geo-bot-prototype\\.venv\\lib\\site-packages (from llama-index-core<0.13.0,>=0.12.0->llama-index-llms-langchain) (0.28.1)\n",
      "Requirement already satisfied: nest-asyncio<2.0.0,>=1.5.8 in c:\\users\\haoch\\desktop\\geo-bot-prototype\\.venv\\lib\\site-packages (from llama-index-core<0.13.0,>=0.12.0->llama-index-llms-langchain) (1.6.0)\n",
      "Requirement already satisfied: networkx>=3.0 in c:\\users\\haoch\\desktop\\geo-bot-prototype\\.venv\\lib\\site-packages (from llama-index-core<0.13.0,>=0.12.0->llama-index-llms-langchain) (3.4.2)\n",
      "Requirement already satisfied: nltk>3.8.1 in c:\\users\\haoch\\desktop\\geo-bot-prototype\\.venv\\lib\\site-packages (from llama-index-core<0.13.0,>=0.12.0->llama-index-llms-langchain) (3.9.1)\n",
      "Requirement already satisfied: pillow>=9.0.0 in c:\\users\\haoch\\desktop\\geo-bot-prototype\\.venv\\lib\\site-packages (from llama-index-core<0.13.0,>=0.12.0->llama-index-llms-langchain) (10.4.0)\n",
      "Requirement already satisfied: tiktoken>=0.3.3 in c:\\users\\haoch\\desktop\\geo-bot-prototype\\.venv\\lib\\site-packages (from llama-index-core<0.13.0,>=0.12.0->llama-index-llms-langchain) (0.8.0)\n",
      "Requirement already satisfied: tqdm<5.0.0,>=4.66.1 in c:\\users\\haoch\\desktop\\geo-bot-prototype\\.venv\\lib\\site-packages (from llama-index-core<0.13.0,>=0.12.0->llama-index-llms-langchain) (4.67.1)\n",
      "Requirement already satisfied: typing-extensions>=4.5.0 in c:\\users\\haoch\\desktop\\geo-bot-prototype\\.venv\\lib\\site-packages (from llama-index-core<0.13.0,>=0.12.0->llama-index-llms-langchain) (4.12.2)\n",
      "Requirement already satisfied: typing-inspect>=0.8.0 in c:\\users\\haoch\\desktop\\geo-bot-prototype\\.venv\\lib\\site-packages (from llama-index-core<0.13.0,>=0.12.0->llama-index-llms-langchain) (0.9.0)\n",
      "Requirement already satisfied: wrapt in c:\\users\\haoch\\desktop\\geo-bot-prototype\\.venv\\lib\\site-packages (from llama-index-core<0.13.0,>=0.12.0->llama-index-llms-langchain) (1.17.2)\n",
      "Requirement already satisfied: aiohappyeyeballs>=2.3.0 in c:\\users\\haoch\\desktop\\geo-bot-prototype\\.venv\\lib\\site-packages (from aiohttp<4.0.0,>=3.8.3->langchain>=0.1.7->llama-index-llms-langchain) (2.4.4)\n",
      "Requirement already satisfied: aiosignal>=1.1.2 in c:\\users\\haoch\\desktop\\geo-bot-prototype\\.venv\\lib\\site-packages (from aiohttp<4.0.0,>=3.8.3->langchain>=0.1.7->llama-index-llms-langchain) (1.3.2)\n",
      "Requirement already satisfied: attrs>=17.3.0 in c:\\users\\haoch\\desktop\\geo-bot-prototype\\.venv\\lib\\site-packages (from aiohttp<4.0.0,>=3.8.3->langchain>=0.1.7->llama-index-llms-langchain) (25.1.0)\n",
      "Requirement already satisfied: frozenlist>=1.1.1 in c:\\users\\haoch\\desktop\\geo-bot-prototype\\.venv\\lib\\site-packages (from aiohttp<4.0.0,>=3.8.3->langchain>=0.1.7->llama-index-llms-langchain) (1.5.0)\n",
      "Requirement already satisfied: multidict<7.0,>=4.5 in c:\\users\\haoch\\desktop\\geo-bot-prototype\\.venv\\lib\\site-packages (from aiohttp<4.0.0,>=3.8.3->langchain>=0.1.7->llama-index-llms-langchain) (6.1.0)\n",
      "Requirement already satisfied: propcache>=0.2.0 in c:\\users\\haoch\\desktop\\geo-bot-prototype\\.venv\\lib\\site-packages (from aiohttp<4.0.0,>=3.8.3->langchain>=0.1.7->llama-index-llms-langchain) (0.2.1)\n",
      "Requirement already satisfied: yarl<2.0,>=1.17.0 in c:\\users\\haoch\\desktop\\geo-bot-prototype\\.venv\\lib\\site-packages (from aiohttp<4.0.0,>=3.8.3->langchain>=0.1.7->llama-index-llms-langchain) (1.18.3)\n",
      "Requirement already satisfied: griffe in c:\\users\\haoch\\desktop\\geo-bot-prototype\\.venv\\lib\\site-packages (from banks<3.0.0,>=2.0.0->llama-index-core<0.13.0,>=0.12.0->llama-index-llms-langchain) (1.7.2)\n",
      "Requirement already satisfied: jinja2 in c:\\users\\haoch\\desktop\\geo-bot-prototype\\.venv\\lib\\site-packages (from banks<3.0.0,>=2.0.0->llama-index-core<0.13.0,>=0.12.0->llama-index-llms-langchain) (3.1.5)\n",
      "Requirement already satisfied: platformdirs in c:\\users\\haoch\\desktop\\geo-bot-prototype\\.venv\\lib\\site-packages (from banks<3.0.0,>=2.0.0->llama-index-core<0.13.0,>=0.12.0->llama-index-llms-langchain) (4.3.7)\n",
      "Requirement already satisfied: jsonpatch<2.0,>=1.33 in c:\\users\\haoch\\desktop\\geo-bot-prototype\\.venv\\lib\\site-packages (from langchain-core<0.4.0,>=0.3.33->langchain>=0.1.7->llama-index-llms-langchain) (1.33)\n",
      "Requirement already satisfied: packaging<25,>=23.2 in c:\\users\\haoch\\desktop\\geo-bot-prototype\\.venv\\lib\\site-packages (from langchain-core<0.4.0,>=0.3.33->langchain>=0.1.7->llama-index-llms-langchain) (24.2)\n",
      "Requirement already satisfied: orjson<4.0.0,>=3.9.14 in c:\\users\\haoch\\desktop\\geo-bot-prototype\\.venv\\lib\\site-packages (from langsmith<0.4,>=0.1.17->langchain>=0.1.7->llama-index-llms-langchain) (3.10.15)\n",
      "Requirement already satisfied: requests-toolbelt<2.0.0,>=1.0.0 in c:\\users\\haoch\\desktop\\geo-bot-prototype\\.venv\\lib\\site-packages (from langsmith<0.4,>=0.1.17->langchain>=0.1.7->llama-index-llms-langchain) (1.0.0)\n",
      "Requirement already satisfied: zstandard<0.24.0,>=0.23.0 in c:\\users\\haoch\\desktop\\geo-bot-prototype\\.venv\\lib\\site-packages (from langsmith<0.4,>=0.1.17->langchain>=0.1.7->llama-index-llms-langchain) (0.23.0)\n",
      "Requirement already satisfied: anyio in c:\\users\\haoch\\desktop\\geo-bot-prototype\\.venv\\lib\\site-packages (from httpx->llama-index-core<0.13.0,>=0.12.0->llama-index-llms-langchain) (4.8.0)\n",
      "Requirement already satisfied: certifi in c:\\users\\haoch\\desktop\\geo-bot-prototype\\.venv\\lib\\site-packages (from httpx->llama-index-core<0.13.0,>=0.12.0->llama-index-llms-langchain) (2025.1.31)\n",
      "Requirement already satisfied: httpcore==1.* in c:\\users\\haoch\\desktop\\geo-bot-prototype\\.venv\\lib\\site-packages (from httpx->llama-index-core<0.13.0,>=0.12.0->llama-index-llms-langchain) (1.0.7)\n",
      "Requirement already satisfied: idna in c:\\users\\haoch\\desktop\\geo-bot-prototype\\.venv\\lib\\site-packages (from httpx->llama-index-core<0.13.0,>=0.12.0->llama-index-llms-langchain) (3.10)\n",
      "Requirement already satisfied: h11<0.15,>=0.13 in c:\\users\\haoch\\desktop\\geo-bot-prototype\\.venv\\lib\\site-packages (from httpcore==1.*->httpx->llama-index-core<0.13.0,>=0.12.0->llama-index-llms-langchain) (0.14.0)\n",
      "Requirement already satisfied: click in c:\\users\\haoch\\desktop\\geo-bot-prototype\\.venv\\lib\\site-packages (from nltk>3.8.1->llama-index-core<0.13.0,>=0.12.0->llama-index-llms-langchain) (8.1.8)\n",
      "Requirement already satisfied: joblib in c:\\users\\haoch\\desktop\\geo-bot-prototype\\.venv\\lib\\site-packages (from nltk>3.8.1->llama-index-core<0.13.0,>=0.12.0->llama-index-llms-langchain) (1.4.2)\n",
      "Requirement already satisfied: regex>=2021.8.3 in c:\\users\\haoch\\desktop\\geo-bot-prototype\\.venv\\lib\\site-packages (from nltk>3.8.1->llama-index-core<0.13.0,>=0.12.0->llama-index-llms-langchain) (2024.11.6)\n",
      "Requirement already satisfied: annotated-types>=0.6.0 in c:\\users\\haoch\\desktop\\geo-bot-prototype\\.venv\\lib\\site-packages (from pydantic<3.0.0,>=2.7.4->langchain>=0.1.7->llama-index-llms-langchain) (0.7.0)\n",
      "Requirement already satisfied: pydantic-core==2.27.2 in c:\\users\\haoch\\desktop\\geo-bot-prototype\\.venv\\lib\\site-packages (from pydantic<3.0.0,>=2.7.4->langchain>=0.1.7->llama-index-llms-langchain) (2.27.2)\n",
      "Requirement already satisfied: charset-normalizer<4,>=2 in c:\\users\\haoch\\desktop\\geo-bot-prototype\\.venv\\lib\\site-packages (from requests<3,>=2->langchain>=0.1.7->llama-index-llms-langchain) (3.4.1)\n",
      "Requirement already satisfied: urllib3<3,>=1.21.1 in c:\\users\\haoch\\desktop\\geo-bot-prototype\\.venv\\lib\\site-packages (from requests<3,>=2->langchain>=0.1.7->llama-index-llms-langchain) (2.3.0)\n",
      "Requirement already satisfied: greenlet!=0.4.17 in c:\\users\\haoch\\desktop\\geo-bot-prototype\\.venv\\lib\\site-packages (from SQLAlchemy<3,>=1.4->langchain>=0.1.7->llama-index-llms-langchain) (3.1.1)\n",
      "Requirement already satisfied: colorama in c:\\users\\haoch\\desktop\\geo-bot-prototype\\.venv\\lib\\site-packages (from tqdm<5.0.0,>=4.66.1->llama-index-core<0.13.0,>=0.12.0->llama-index-llms-langchain) (0.4.6)\n",
      "Requirement already satisfied: mypy-extensions>=0.3.0 in c:\\users\\haoch\\desktop\\geo-bot-prototype\\.venv\\lib\\site-packages (from typing-inspect>=0.8.0->llama-index-core<0.13.0,>=0.12.0->llama-index-llms-langchain) (1.0.0)\n",
      "Requirement already satisfied: marshmallow<4.0.0,>=3.18.0 in c:\\users\\haoch\\desktop\\geo-bot-prototype\\.venv\\lib\\site-packages (from dataclasses-json->llama-index-core<0.13.0,>=0.12.0->llama-index-llms-langchain) (3.26.1)\n",
      "Requirement already satisfied: jsonpointer>=1.9 in c:\\users\\haoch\\desktop\\geo-bot-prototype\\.venv\\lib\\site-packages (from jsonpatch<2.0,>=1.33->langchain-core<0.4.0,>=0.3.33->langchain>=0.1.7->llama-index-llms-langchain) (3.0.0)\n",
      "Requirement already satisfied: sniffio>=1.1 in c:\\users\\haoch\\desktop\\geo-bot-prototype\\.venv\\lib\\site-packages (from anyio->httpx->llama-index-core<0.13.0,>=0.12.0->llama-index-llms-langchain) (1.3.1)\n",
      "Requirement already satisfied: MarkupSafe>=2.0 in c:\\users\\haoch\\desktop\\geo-bot-prototype\\.venv\\lib\\site-packages (from jinja2->banks<3.0.0,>=2.0.0->llama-index-core<0.13.0,>=0.12.0->llama-index-llms-langchain) (3.0.2)\n",
      "Note: you may need to restart the kernel to use updated packages.\n"
     ]
    },
    {
     "name": "stderr",
     "output_type": "stream",
     "text": [
      "\n",
      "[notice] A new release of pip is available: 25.0 -> 25.0.1\n",
      "[notice] To update, run: python.exe -m pip install --upgrade pip\n"
     ]
    },
    {
     "name": "stdout",
     "output_type": "stream",
     "text": [
      "Requirement already satisfied: llama-index-embeddings-langchain in c:\\users\\haoch\\desktop\\geo-bot-prototype\\.venv\\lib\\site-packages (0.3.0)\n",
      "Requirement already satisfied: llama-index-core<0.13.0,>=0.12.0 in c:\\users\\haoch\\desktop\\geo-bot-prototype\\.venv\\lib\\site-packages (from llama-index-embeddings-langchain) (0.12.30)\n",
      "Requirement already satisfied: PyYAML>=6.0.1 in c:\\users\\haoch\\desktop\\geo-bot-prototype\\.venv\\lib\\site-packages (from llama-index-core<0.13.0,>=0.12.0->llama-index-embeddings-langchain) (6.0.2)\n",
      "Requirement already satisfied: SQLAlchemy>=1.4.49 in c:\\users\\haoch\\desktop\\geo-bot-prototype\\.venv\\lib\\site-packages (from SQLAlchemy[asyncio]>=1.4.49->llama-index-core<0.13.0,>=0.12.0->llama-index-embeddings-langchain) (2.0.37)\n",
      "Requirement already satisfied: aiohttp<4.0.0,>=3.8.6 in c:\\users\\haoch\\desktop\\geo-bot-prototype\\.venv\\lib\\site-packages (from llama-index-core<0.13.0,>=0.12.0->llama-index-embeddings-langchain) (3.11.11)\n",
      "Requirement already satisfied: banks<3.0.0,>=2.0.0 in c:\\users\\haoch\\desktop\\geo-bot-prototype\\.venv\\lib\\site-packages (from llama-index-core<0.13.0,>=0.12.0->llama-index-embeddings-langchain) (2.1.1)\n",
      "Requirement already satisfied: dataclasses-json in c:\\users\\haoch\\desktop\\geo-bot-prototype\\.venv\\lib\\site-packages (from llama-index-core<0.13.0,>=0.12.0->llama-index-embeddings-langchain) (0.6.7)\n",
      "Requirement already satisfied: deprecated>=1.2.9.3 in c:\\users\\haoch\\desktop\\geo-bot-prototype\\.venv\\lib\\site-packages (from llama-index-core<0.13.0,>=0.12.0->llama-index-embeddings-langchain) (1.2.18)\n",
      "Requirement already satisfied: dirtyjson<2.0.0,>=1.0.8 in c:\\users\\haoch\\desktop\\geo-bot-prototype\\.venv\\lib\\site-packages (from llama-index-core<0.13.0,>=0.12.0->llama-index-embeddings-langchain) (1.0.8)\n",
      "Requirement already satisfied: filetype<2.0.0,>=1.2.0 in c:\\users\\haoch\\desktop\\geo-bot-prototype\\.venv\\lib\\site-packages (from llama-index-core<0.13.0,>=0.12.0->llama-index-embeddings-langchain) (1.2.0)\n",
      "Requirement already satisfied: fsspec>=2023.5.0 in c:\\users\\haoch\\desktop\\geo-bot-prototype\\.venv\\lib\\site-packages (from llama-index-core<0.13.0,>=0.12.0->llama-index-embeddings-langchain) (2025.2.0)\n",
      "Requirement already satisfied: httpx in c:\\users\\haoch\\desktop\\geo-bot-prototype\\.venv\\lib\\site-packages (from llama-index-core<0.13.0,>=0.12.0->llama-index-embeddings-langchain) (0.28.1)\n",
      "Requirement already satisfied: nest-asyncio<2.0.0,>=1.5.8 in c:\\users\\haoch\\desktop\\geo-bot-prototype\\.venv\\lib\\site-packages (from llama-index-core<0.13.0,>=0.12.0->llama-index-embeddings-langchain) (1.6.0)\n",
      "Requirement already satisfied: networkx>=3.0 in c:\\users\\haoch\\desktop\\geo-bot-prototype\\.venv\\lib\\site-packages (from llama-index-core<0.13.0,>=0.12.0->llama-index-embeddings-langchain) (3.4.2)\n",
      "Requirement already satisfied: nltk>3.8.1 in c:\\users\\haoch\\desktop\\geo-bot-prototype\\.venv\\lib\\site-packages (from llama-index-core<0.13.0,>=0.12.0->llama-index-embeddings-langchain) (3.9.1)\n",
      "Requirement already satisfied: numpy in c:\\users\\haoch\\desktop\\geo-bot-prototype\\.venv\\lib\\site-packages (from llama-index-core<0.13.0,>=0.12.0->llama-index-embeddings-langchain) (1.26.4)\n",
      "Requirement already satisfied: pillow>=9.0.0 in c:\\users\\haoch\\desktop\\geo-bot-prototype\\.venv\\lib\\site-packages (from llama-index-core<0.13.0,>=0.12.0->llama-index-embeddings-langchain) (10.4.0)\n",
      "Requirement already satisfied: pydantic>=2.8.0 in c:\\users\\haoch\\desktop\\geo-bot-prototype\\.venv\\lib\\site-packages (from llama-index-core<0.13.0,>=0.12.0->llama-index-embeddings-langchain) (2.10.6)\n",
      "Requirement already satisfied: requests>=2.31.0 in c:\\users\\haoch\\desktop\\geo-bot-prototype\\.venv\\lib\\site-packages (from llama-index-core<0.13.0,>=0.12.0->llama-index-embeddings-langchain) (2.32.3)\n",
      "Requirement already satisfied: tenacity!=8.4.0,<10.0.0,>=8.2.0 in c:\\users\\haoch\\desktop\\geo-bot-prototype\\.venv\\lib\\site-packages (from llama-index-core<0.13.0,>=0.12.0->llama-index-embeddings-langchain) (9.0.0)\n",
      "Requirement already satisfied: tiktoken>=0.3.3 in c:\\users\\haoch\\desktop\\geo-bot-prototype\\.venv\\lib\\site-packages (from llama-index-core<0.13.0,>=0.12.0->llama-index-embeddings-langchain) (0.8.0)\n",
      "Requirement already satisfied: tqdm<5.0.0,>=4.66.1 in c:\\users\\haoch\\desktop\\geo-bot-prototype\\.venv\\lib\\site-packages (from llama-index-core<0.13.0,>=0.12.0->llama-index-embeddings-langchain) (4.67.1)\n",
      "Requirement already satisfied: typing-extensions>=4.5.0 in c:\\users\\haoch\\desktop\\geo-bot-prototype\\.venv\\lib\\site-packages (from llama-index-core<0.13.0,>=0.12.0->llama-index-embeddings-langchain) (4.12.2)\n",
      "Requirement already satisfied: typing-inspect>=0.8.0 in c:\\users\\haoch\\desktop\\geo-bot-prototype\\.venv\\lib\\site-packages (from llama-index-core<0.13.0,>=0.12.0->llama-index-embeddings-langchain) (0.9.0)\n",
      "Requirement already satisfied: wrapt in c:\\users\\haoch\\desktop\\geo-bot-prototype\\.venv\\lib\\site-packages (from llama-index-core<0.13.0,>=0.12.0->llama-index-embeddings-langchain) (1.17.2)\n",
      "Requirement already satisfied: aiohappyeyeballs>=2.3.0 in c:\\users\\haoch\\desktop\\geo-bot-prototype\\.venv\\lib\\site-packages (from aiohttp<4.0.0,>=3.8.6->llama-index-core<0.13.0,>=0.12.0->llama-index-embeddings-langchain) (2.4.4)\n",
      "Requirement already satisfied: aiosignal>=1.1.2 in c:\\users\\haoch\\desktop\\geo-bot-prototype\\.venv\\lib\\site-packages (from aiohttp<4.0.0,>=3.8.6->llama-index-core<0.13.0,>=0.12.0->llama-index-embeddings-langchain) (1.3.2)\n",
      "Requirement already satisfied: attrs>=17.3.0 in c:\\users\\haoch\\desktop\\geo-bot-prototype\\.venv\\lib\\site-packages (from aiohttp<4.0.0,>=3.8.6->llama-index-core<0.13.0,>=0.12.0->llama-index-embeddings-langchain) (25.1.0)\n",
      "Requirement already satisfied: frozenlist>=1.1.1 in c:\\users\\haoch\\desktop\\geo-bot-prototype\\.venv\\lib\\site-packages (from aiohttp<4.0.0,>=3.8.6->llama-index-core<0.13.0,>=0.12.0->llama-index-embeddings-langchain) (1.5.0)\n",
      "Requirement already satisfied: multidict<7.0,>=4.5 in c:\\users\\haoch\\desktop\\geo-bot-prototype\\.venv\\lib\\site-packages (from aiohttp<4.0.0,>=3.8.6->llama-index-core<0.13.0,>=0.12.0->llama-index-embeddings-langchain) (6.1.0)\n",
      "Requirement already satisfied: propcache>=0.2.0 in c:\\users\\haoch\\desktop\\geo-bot-prototype\\.venv\\lib\\site-packages (from aiohttp<4.0.0,>=3.8.6->llama-index-core<0.13.0,>=0.12.0->llama-index-embeddings-langchain) (0.2.1)\n",
      "Requirement already satisfied: yarl<2.0,>=1.17.0 in c:\\users\\haoch\\desktop\\geo-bot-prototype\\.venv\\lib\\site-packages (from aiohttp<4.0.0,>=3.8.6->llama-index-core<0.13.0,>=0.12.0->llama-index-embeddings-langchain) (1.18.3)\n",
      "Requirement already satisfied: griffe in c:\\users\\haoch\\desktop\\geo-bot-prototype\\.venv\\lib\\site-packages (from banks<3.0.0,>=2.0.0->llama-index-core<0.13.0,>=0.12.0->llama-index-embeddings-langchain) (1.7.2)\n",
      "Requirement already satisfied: jinja2 in c:\\users\\haoch\\desktop\\geo-bot-prototype\\.venv\\lib\\site-packages (from banks<3.0.0,>=2.0.0->llama-index-core<0.13.0,>=0.12.0->llama-index-embeddings-langchain) (3.1.5)\n",
      "Requirement already satisfied: platformdirs in c:\\users\\haoch\\desktop\\geo-bot-prototype\\.venv\\lib\\site-packages (from banks<3.0.0,>=2.0.0->llama-index-core<0.13.0,>=0.12.0->llama-index-embeddings-langchain) (4.3.7)\n",
      "Requirement already satisfied: click in c:\\users\\haoch\\desktop\\geo-bot-prototype\\.venv\\lib\\site-packages (from nltk>3.8.1->llama-index-core<0.13.0,>=0.12.0->llama-index-embeddings-langchain) (8.1.8)\n",
      "Requirement already satisfied: joblib in c:\\users\\haoch\\desktop\\geo-bot-prototype\\.venv\\lib\\site-packages (from nltk>3.8.1->llama-index-core<0.13.0,>=0.12.0->llama-index-embeddings-langchain) (1.4.2)\n",
      "Requirement already satisfied: regex>=2021.8.3 in c:\\users\\haoch\\desktop\\geo-bot-prototype\\.venv\\lib\\site-packages (from nltk>3.8.1->llama-index-core<0.13.0,>=0.12.0->llama-index-embeddings-langchain) (2024.11.6)\n",
      "Requirement already satisfied: annotated-types>=0.6.0 in c:\\users\\haoch\\desktop\\geo-bot-prototype\\.venv\\lib\\site-packages (from pydantic>=2.8.0->llama-index-core<0.13.0,>=0.12.0->llama-index-embeddings-langchain) (0.7.0)\n",
      "Requirement already satisfied: pydantic-core==2.27.2 in c:\\users\\haoch\\desktop\\geo-bot-prototype\\.venv\\lib\\site-packages (from pydantic>=2.8.0->llama-index-core<0.13.0,>=0.12.0->llama-index-embeddings-langchain) (2.27.2)\n",
      "Requirement already satisfied: charset-normalizer<4,>=2 in c:\\users\\haoch\\desktop\\geo-bot-prototype\\.venv\\lib\\site-packages (from requests>=2.31.0->llama-index-core<0.13.0,>=0.12.0->llama-index-embeddings-langchain) (3.4.1)\n",
      "Requirement already satisfied: idna<4,>=2.5 in c:\\users\\haoch\\desktop\\geo-bot-prototype\\.venv\\lib\\site-packages (from requests>=2.31.0->llama-index-core<0.13.0,>=0.12.0->llama-index-embeddings-langchain) (3.10)\n",
      "Requirement already satisfied: urllib3<3,>=1.21.1 in c:\\users\\haoch\\desktop\\geo-bot-prototype\\.venv\\lib\\site-packages (from requests>=2.31.0->llama-index-core<0.13.0,>=0.12.0->llama-index-embeddings-langchain) (2.3.0)\n",
      "Requirement already satisfied: certifi>=2017.4.17 in c:\\users\\haoch\\desktop\\geo-bot-prototype\\.venv\\lib\\site-packages (from requests>=2.31.0->llama-index-core<0.13.0,>=0.12.0->llama-index-embeddings-langchain) (2025.1.31)\n",
      "Requirement already satisfied: greenlet!=0.4.17 in c:\\users\\haoch\\desktop\\geo-bot-prototype\\.venv\\lib\\site-packages (from SQLAlchemy>=1.4.49->SQLAlchemy[asyncio]>=1.4.49->llama-index-core<0.13.0,>=0.12.0->llama-index-embeddings-langchain) (3.1.1)\n",
      "Requirement already satisfied: colorama in c:\\users\\haoch\\desktop\\geo-bot-prototype\\.venv\\lib\\site-packages (from tqdm<5.0.0,>=4.66.1->llama-index-core<0.13.0,>=0.12.0->llama-index-embeddings-langchain) (0.4.6)\n",
      "Requirement already satisfied: mypy-extensions>=0.3.0 in c:\\users\\haoch\\desktop\\geo-bot-prototype\\.venv\\lib\\site-packages (from typing-inspect>=0.8.0->llama-index-core<0.13.0,>=0.12.0->llama-index-embeddings-langchain) (1.0.0)\n",
      "Requirement already satisfied: marshmallow<4.0.0,>=3.18.0 in c:\\users\\haoch\\desktop\\geo-bot-prototype\\.venv\\lib\\site-packages (from dataclasses-json->llama-index-core<0.13.0,>=0.12.0->llama-index-embeddings-langchain) (3.26.1)\n",
      "Requirement already satisfied: anyio in c:\\users\\haoch\\desktop\\geo-bot-prototype\\.venv\\lib\\site-packages (from httpx->llama-index-core<0.13.0,>=0.12.0->llama-index-embeddings-langchain) (4.8.0)\n",
      "Requirement already satisfied: httpcore==1.* in c:\\users\\haoch\\desktop\\geo-bot-prototype\\.venv\\lib\\site-packages (from httpx->llama-index-core<0.13.0,>=0.12.0->llama-index-embeddings-langchain) (1.0.7)\n",
      "Requirement already satisfied: h11<0.15,>=0.13 in c:\\users\\haoch\\desktop\\geo-bot-prototype\\.venv\\lib\\site-packages (from httpcore==1.*->httpx->llama-index-core<0.13.0,>=0.12.0->llama-index-embeddings-langchain) (0.14.0)\n",
      "Requirement already satisfied: packaging>=17.0 in c:\\users\\haoch\\desktop\\geo-bot-prototype\\.venv\\lib\\site-packages (from marshmallow<4.0.0,>=3.18.0->dataclasses-json->llama-index-core<0.13.0,>=0.12.0->llama-index-embeddings-langchain) (24.2)\n",
      "Requirement already satisfied: sniffio>=1.1 in c:\\users\\haoch\\desktop\\geo-bot-prototype\\.venv\\lib\\site-packages (from anyio->httpx->llama-index-core<0.13.0,>=0.12.0->llama-index-embeddings-langchain) (1.3.1)\n",
      "Requirement already satisfied: MarkupSafe>=2.0 in c:\\users\\haoch\\desktop\\geo-bot-prototype\\.venv\\lib\\site-packages (from jinja2->banks<3.0.0,>=2.0.0->llama-index-core<0.13.0,>=0.12.0->llama-index-embeddings-langchain) (3.0.2)\n",
      "Note: you may need to restart the kernel to use updated packages.\n"
     ]
    },
    {
     "name": "stderr",
     "output_type": "stream",
     "text": [
      "\n",
      "[notice] A new release of pip is available: 25.0 -> 25.0.1\n",
      "[notice] To update, run: python.exe -m pip install --upgrade pip\n"
     ]
    },
    {
     "name": "stdout",
     "output_type": "stream",
     "text": [
      "Requirement already satisfied: llama-index-llms-ollama in c:\\users\\haoch\\desktop\\geo-bot-prototype\\.venv\\lib\\site-packages (0.5.4)\n",
      "Requirement already satisfied: llama-index-core<0.13.0,>=0.12.4 in c:\\users\\haoch\\desktop\\geo-bot-prototype\\.venv\\lib\\site-packages (from llama-index-llms-ollama) (0.12.30)\n",
      "Requirement already satisfied: ollama>=0.4.3 in c:\\users\\haoch\\desktop\\geo-bot-prototype\\.venv\\lib\\site-packages (from llama-index-llms-ollama) (0.4.7)\n",
      "Requirement already satisfied: PyYAML>=6.0.1 in c:\\users\\haoch\\desktop\\geo-bot-prototype\\.venv\\lib\\site-packages (from llama-index-core<0.13.0,>=0.12.4->llama-index-llms-ollama) (6.0.2)\n",
      "Requirement already satisfied: SQLAlchemy>=1.4.49 in c:\\users\\haoch\\desktop\\geo-bot-prototype\\.venv\\lib\\site-packages (from SQLAlchemy[asyncio]>=1.4.49->llama-index-core<0.13.0,>=0.12.4->llama-index-llms-ollama) (2.0.37)\n",
      "Requirement already satisfied: aiohttp<4.0.0,>=3.8.6 in c:\\users\\haoch\\desktop\\geo-bot-prototype\\.venv\\lib\\site-packages (from llama-index-core<0.13.0,>=0.12.4->llama-index-llms-ollama) (3.11.11)\n",
      "Requirement already satisfied: banks<3.0.0,>=2.0.0 in c:\\users\\haoch\\desktop\\geo-bot-prototype\\.venv\\lib\\site-packages (from llama-index-core<0.13.0,>=0.12.4->llama-index-llms-ollama) (2.1.1)\n",
      "Requirement already satisfied: dataclasses-json in c:\\users\\haoch\\desktop\\geo-bot-prototype\\.venv\\lib\\site-packages (from llama-index-core<0.13.0,>=0.12.4->llama-index-llms-ollama) (0.6.7)\n",
      "Requirement already satisfied: deprecated>=1.2.9.3 in c:\\users\\haoch\\desktop\\geo-bot-prototype\\.venv\\lib\\site-packages (from llama-index-core<0.13.0,>=0.12.4->llama-index-llms-ollama) (1.2.18)\n",
      "Requirement already satisfied: dirtyjson<2.0.0,>=1.0.8 in c:\\users\\haoch\\desktop\\geo-bot-prototype\\.venv\\lib\\site-packages (from llama-index-core<0.13.0,>=0.12.4->llama-index-llms-ollama) (1.0.8)\n",
      "Requirement already satisfied: filetype<2.0.0,>=1.2.0 in c:\\users\\haoch\\desktop\\geo-bot-prototype\\.venv\\lib\\site-packages (from llama-index-core<0.13.0,>=0.12.4->llama-index-llms-ollama) (1.2.0)\n",
      "Requirement already satisfied: fsspec>=2023.5.0 in c:\\users\\haoch\\desktop\\geo-bot-prototype\\.venv\\lib\\site-packages (from llama-index-core<0.13.0,>=0.12.4->llama-index-llms-ollama) (2025.2.0)\n",
      "Requirement already satisfied: httpx in c:\\users\\haoch\\desktop\\geo-bot-prototype\\.venv\\lib\\site-packages (from llama-index-core<0.13.0,>=0.12.4->llama-index-llms-ollama) (0.28.1)\n",
      "Requirement already satisfied: nest-asyncio<2.0.0,>=1.5.8 in c:\\users\\haoch\\desktop\\geo-bot-prototype\\.venv\\lib\\site-packages (from llama-index-core<0.13.0,>=0.12.4->llama-index-llms-ollama) (1.6.0)\n",
      "Requirement already satisfied: networkx>=3.0 in c:\\users\\haoch\\desktop\\geo-bot-prototype\\.venv\\lib\\site-packages (from llama-index-core<0.13.0,>=0.12.4->llama-index-llms-ollama) (3.4.2)\n",
      "Requirement already satisfied: nltk>3.8.1 in c:\\users\\haoch\\desktop\\geo-bot-prototype\\.venv\\lib\\site-packages (from llama-index-core<0.13.0,>=0.12.4->llama-index-llms-ollama) (3.9.1)\n",
      "Requirement already satisfied: numpy in c:\\users\\haoch\\desktop\\geo-bot-prototype\\.venv\\lib\\site-packages (from llama-index-core<0.13.0,>=0.12.4->llama-index-llms-ollama) (1.26.4)\n",
      "Requirement already satisfied: pillow>=9.0.0 in c:\\users\\haoch\\desktop\\geo-bot-prototype\\.venv\\lib\\site-packages (from llama-index-core<0.13.0,>=0.12.4->llama-index-llms-ollama) (10.4.0)\n",
      "Requirement already satisfied: pydantic>=2.8.0 in c:\\users\\haoch\\desktop\\geo-bot-prototype\\.venv\\lib\\site-packages (from llama-index-core<0.13.0,>=0.12.4->llama-index-llms-ollama) (2.10.6)\n",
      "Requirement already satisfied: requests>=2.31.0 in c:\\users\\haoch\\desktop\\geo-bot-prototype\\.venv\\lib\\site-packages (from llama-index-core<0.13.0,>=0.12.4->llama-index-llms-ollama) (2.32.3)\n",
      "Requirement already satisfied: tenacity!=8.4.0,<10.0.0,>=8.2.0 in c:\\users\\haoch\\desktop\\geo-bot-prototype\\.venv\\lib\\site-packages (from llama-index-core<0.13.0,>=0.12.4->llama-index-llms-ollama) (9.0.0)\n",
      "Requirement already satisfied: tiktoken>=0.3.3 in c:\\users\\haoch\\desktop\\geo-bot-prototype\\.venv\\lib\\site-packages (from llama-index-core<0.13.0,>=0.12.4->llama-index-llms-ollama) (0.8.0)\n",
      "Requirement already satisfied: tqdm<5.0.0,>=4.66.1 in c:\\users\\haoch\\desktop\\geo-bot-prototype\\.venv\\lib\\site-packages (from llama-index-core<0.13.0,>=0.12.4->llama-index-llms-ollama) (4.67.1)\n",
      "Requirement already satisfied: typing-extensions>=4.5.0 in c:\\users\\haoch\\desktop\\geo-bot-prototype\\.venv\\lib\\site-packages (from llama-index-core<0.13.0,>=0.12.4->llama-index-llms-ollama) (4.12.2)\n",
      "Requirement already satisfied: typing-inspect>=0.8.0 in c:\\users\\haoch\\desktop\\geo-bot-prototype\\.venv\\lib\\site-packages (from llama-index-core<0.13.0,>=0.12.4->llama-index-llms-ollama) (0.9.0)\n",
      "Requirement already satisfied: wrapt in c:\\users\\haoch\\desktop\\geo-bot-prototype\\.venv\\lib\\site-packages (from llama-index-core<0.13.0,>=0.12.4->llama-index-llms-ollama) (1.17.2)\n",
      "Requirement already satisfied: aiohappyeyeballs>=2.3.0 in c:\\users\\haoch\\desktop\\geo-bot-prototype\\.venv\\lib\\site-packages (from aiohttp<4.0.0,>=3.8.6->llama-index-core<0.13.0,>=0.12.4->llama-index-llms-ollama) (2.4.4)\n",
      "Requirement already satisfied: aiosignal>=1.1.2 in c:\\users\\haoch\\desktop\\geo-bot-prototype\\.venv\\lib\\site-packages (from aiohttp<4.0.0,>=3.8.6->llama-index-core<0.13.0,>=0.12.4->llama-index-llms-ollama) (1.3.2)\n",
      "Requirement already satisfied: attrs>=17.3.0 in c:\\users\\haoch\\desktop\\geo-bot-prototype\\.venv\\lib\\site-packages (from aiohttp<4.0.0,>=3.8.6->llama-index-core<0.13.0,>=0.12.4->llama-index-llms-ollama) (25.1.0)\n",
      "Requirement already satisfied: frozenlist>=1.1.1 in c:\\users\\haoch\\desktop\\geo-bot-prototype\\.venv\\lib\\site-packages (from aiohttp<4.0.0,>=3.8.6->llama-index-core<0.13.0,>=0.12.4->llama-index-llms-ollama) (1.5.0)\n",
      "Requirement already satisfied: multidict<7.0,>=4.5 in c:\\users\\haoch\\desktop\\geo-bot-prototype\\.venv\\lib\\site-packages (from aiohttp<4.0.0,>=3.8.6->llama-index-core<0.13.0,>=0.12.4->llama-index-llms-ollama) (6.1.0)\n",
      "Requirement already satisfied: propcache>=0.2.0 in c:\\users\\haoch\\desktop\\geo-bot-prototype\\.venv\\lib\\site-packages (from aiohttp<4.0.0,>=3.8.6->llama-index-core<0.13.0,>=0.12.4->llama-index-llms-ollama) (0.2.1)\n",
      "Requirement already satisfied: yarl<2.0,>=1.17.0 in c:\\users\\haoch\\desktop\\geo-bot-prototype\\.venv\\lib\\site-packages (from aiohttp<4.0.0,>=3.8.6->llama-index-core<0.13.0,>=0.12.4->llama-index-llms-ollama) (1.18.3)\n",
      "Requirement already satisfied: griffe in c:\\users\\haoch\\desktop\\geo-bot-prototype\\.venv\\lib\\site-packages (from banks<3.0.0,>=2.0.0->llama-index-core<0.13.0,>=0.12.4->llama-index-llms-ollama) (1.7.2)\n",
      "Requirement already satisfied: jinja2 in c:\\users\\haoch\\desktop\\geo-bot-prototype\\.venv\\lib\\site-packages (from banks<3.0.0,>=2.0.0->llama-index-core<0.13.0,>=0.12.4->llama-index-llms-ollama) (3.1.5)\n",
      "Requirement already satisfied: platformdirs in c:\\users\\haoch\\desktop\\geo-bot-prototype\\.venv\\lib\\site-packages (from banks<3.0.0,>=2.0.0->llama-index-core<0.13.0,>=0.12.4->llama-index-llms-ollama) (4.3.7)\n",
      "Requirement already satisfied: anyio in c:\\users\\haoch\\desktop\\geo-bot-prototype\\.venv\\lib\\site-packages (from httpx->llama-index-core<0.13.0,>=0.12.4->llama-index-llms-ollama) (4.8.0)\n",
      "Requirement already satisfied: certifi in c:\\users\\haoch\\desktop\\geo-bot-prototype\\.venv\\lib\\site-packages (from httpx->llama-index-core<0.13.0,>=0.12.4->llama-index-llms-ollama) (2025.1.31)\n",
      "Requirement already satisfied: httpcore==1.* in c:\\users\\haoch\\desktop\\geo-bot-prototype\\.venv\\lib\\site-packages (from httpx->llama-index-core<0.13.0,>=0.12.4->llama-index-llms-ollama) (1.0.7)\n",
      "Requirement already satisfied: idna in c:\\users\\haoch\\desktop\\geo-bot-prototype\\.venv\\lib\\site-packages (from httpx->llama-index-core<0.13.0,>=0.12.4->llama-index-llms-ollama) (3.10)\n",
      "Requirement already satisfied: h11<0.15,>=0.13 in c:\\users\\haoch\\desktop\\geo-bot-prototype\\.venv\\lib\\site-packages (from httpcore==1.*->httpx->llama-index-core<0.13.0,>=0.12.4->llama-index-llms-ollama) (0.14.0)\n",
      "Requirement already satisfied: click in c:\\users\\haoch\\desktop\\geo-bot-prototype\\.venv\\lib\\site-packages (from nltk>3.8.1->llama-index-core<0.13.0,>=0.12.4->llama-index-llms-ollama) (8.1.8)\n",
      "Requirement already satisfied: joblib in c:\\users\\haoch\\desktop\\geo-bot-prototype\\.venv\\lib\\site-packages (from nltk>3.8.1->llama-index-core<0.13.0,>=0.12.4->llama-index-llms-ollama) (1.4.2)\n",
      "Requirement already satisfied: regex>=2021.8.3 in c:\\users\\haoch\\desktop\\geo-bot-prototype\\.venv\\lib\\site-packages (from nltk>3.8.1->llama-index-core<0.13.0,>=0.12.4->llama-index-llms-ollama) (2024.11.6)\n",
      "Requirement already satisfied: annotated-types>=0.6.0 in c:\\users\\haoch\\desktop\\geo-bot-prototype\\.venv\\lib\\site-packages (from pydantic>=2.8.0->llama-index-core<0.13.0,>=0.12.4->llama-index-llms-ollama) (0.7.0)\n",
      "Requirement already satisfied: pydantic-core==2.27.2 in c:\\users\\haoch\\desktop\\geo-bot-prototype\\.venv\\lib\\site-packages (from pydantic>=2.8.0->llama-index-core<0.13.0,>=0.12.4->llama-index-llms-ollama) (2.27.2)\n",
      "Requirement already satisfied: charset-normalizer<4,>=2 in c:\\users\\haoch\\desktop\\geo-bot-prototype\\.venv\\lib\\site-packages (from requests>=2.31.0->llama-index-core<0.13.0,>=0.12.4->llama-index-llms-ollama) (3.4.1)\n",
      "Requirement already satisfied: urllib3<3,>=1.21.1 in c:\\users\\haoch\\desktop\\geo-bot-prototype\\.venv\\lib\\site-packages (from requests>=2.31.0->llama-index-core<0.13.0,>=0.12.4->llama-index-llms-ollama) (2.3.0)\n",
      "Requirement already satisfied: greenlet!=0.4.17 in c:\\users\\haoch\\desktop\\geo-bot-prototype\\.venv\\lib\\site-packages (from SQLAlchemy>=1.4.49->SQLAlchemy[asyncio]>=1.4.49->llama-index-core<0.13.0,>=0.12.4->llama-index-llms-ollama) (3.1.1)\n",
      "Requirement already satisfied: colorama in c:\\users\\haoch\\desktop\\geo-bot-prototype\\.venv\\lib\\site-packages (from tqdm<5.0.0,>=4.66.1->llama-index-core<0.13.0,>=0.12.4->llama-index-llms-ollama) (0.4.6)\n",
      "Requirement already satisfied: mypy-extensions>=0.3.0 in c:\\users\\haoch\\desktop\\geo-bot-prototype\\.venv\\lib\\site-packages (from typing-inspect>=0.8.0->llama-index-core<0.13.0,>=0.12.4->llama-index-llms-ollama) (1.0.0)\n",
      "Requirement already satisfied: marshmallow<4.0.0,>=3.18.0 in c:\\users\\haoch\\desktop\\geo-bot-prototype\\.venv\\lib\\site-packages (from dataclasses-json->llama-index-core<0.13.0,>=0.12.4->llama-index-llms-ollama) (3.26.1)\n",
      "Requirement already satisfied: packaging>=17.0 in c:\\users\\haoch\\desktop\\geo-bot-prototype\\.venv\\lib\\site-packages (from marshmallow<4.0.0,>=3.18.0->dataclasses-json->llama-index-core<0.13.0,>=0.12.4->llama-index-llms-ollama) (24.2)\n",
      "Requirement already satisfied: sniffio>=1.1 in c:\\users\\haoch\\desktop\\geo-bot-prototype\\.venv\\lib\\site-packages (from anyio->httpx->llama-index-core<0.13.0,>=0.12.4->llama-index-llms-ollama) (1.3.1)\n",
      "Requirement already satisfied: MarkupSafe>=2.0 in c:\\users\\haoch\\desktop\\geo-bot-prototype\\.venv\\lib\\site-packages (from jinja2->banks<3.0.0,>=2.0.0->llama-index-core<0.13.0,>=0.12.4->llama-index-llms-ollama) (3.0.2)\n",
      "Note: you may need to restart the kernel to use updated packages.\n"
     ]
    },
    {
     "name": "stderr",
     "output_type": "stream",
     "text": [
      "\n",
      "[notice] A new release of pip is available: 25.0 -> 25.0.1\n",
      "[notice] To update, run: python.exe -m pip install --upgrade pip\n"
     ]
    }
   ],
   "source": [
    "%pip install llama-index-core\n",
    "%pip install llama-index-agent-openai\n",
    "%pip install llama-index-readers-file\n",
    "%pip install llama-index-postprocessor-cohere-rerank\n",
    "%pip install llama-index-llms-openai\n",
    "%pip install llama-index-embeddings-openai\n",
    "%pip install unstructured[html]\n",
    "%pip install llama-index-llms-langchain\n",
    "%pip install llama-index-embeddings-langchain\n",
    "%pip install llama-index-llms-ollama"
   ]
  },
  {
   "cell_type": "markdown",
   "id": "75abf165",
   "metadata": {},
   "source": [
    "## Setup and Data Load"
   ]
  },
  {
   "cell_type": "code",
   "execution_count": 2,
   "id": "8dfbe2bd",
   "metadata": {},
   "outputs": [],
   "source": [
    "from llama_index.readers.file import UnstructuredReader"
   ]
  },
  {
   "cell_type": "code",
   "execution_count": 3,
   "id": "4755f2a6",
   "metadata": {},
   "outputs": [],
   "source": [
    "from pathlib import Path"
   ]
  },
  {
   "cell_type": "code",
   "execution_count": 4,
   "id": "65a13988",
   "metadata": {},
   "outputs": [],
   "source": [
    "# Get the current notebook's directory\n",
    "notebook_dir = Path().resolve()"
   ]
  },
  {
   "cell_type": "code",
   "execution_count": 5,
   "id": "41584bc7",
   "metadata": {},
   "outputs": [
    {
     "data": {
      "text/plain": [
       "WindowsPath('C:/Users/haoch/Desktop/GEO-bot-prototype/Multi-Document-Agent')"
      ]
     },
     "execution_count": 5,
     "metadata": {},
     "output_type": "execute_result"
    }
   ],
   "source": [
    "notebook_dir"
   ]
  },
  {
   "cell_type": "code",
   "execution_count": 6,
   "id": "2c2ab710",
   "metadata": {},
   "outputs": [],
   "source": [
    "# Navigate to the parent of the notebook directory and then to the Data folder\n",
    "data_folder = notebook_dir.parent / \"Data\""
   ]
  },
  {
   "cell_type": "code",
   "execution_count": 7,
   "id": "b79a2a1e",
   "metadata": {},
   "outputs": [
    {
     "data": {
      "text/plain": [
       "WindowsPath('C:/Users/haoch/Desktop/GEO-bot-prototype/Data')"
      ]
     },
     "execution_count": 7,
     "metadata": {},
     "output_type": "execute_result"
    }
   ],
   "source": [
    "data_folder"
   ]
  },
  {
   "cell_type": "code",
   "execution_count": 8,
   "id": "f6418f2f",
   "metadata": {},
   "outputs": [],
   "source": [
    "all_files_gen = data_folder.rglob(\"*\")\n",
    "all_files = [f.resolve() for f in all_files_gen]"
   ]
  },
  {
   "cell_type": "code",
   "execution_count": 9,
   "id": "419df4a8",
   "metadata": {},
   "outputs": [],
   "source": [
    "all_html_files = [f for f in all_files if f.suffix.lower() == \".htm\"]"
   ]
  },
  {
   "cell_type": "code",
   "execution_count": 10,
   "id": "8d2589c9",
   "metadata": {},
   "outputs": [],
   "source": [
    "from llama_index.core import Document"
   ]
  },
  {
   "cell_type": "code",
   "execution_count": 11,
   "id": "e09290ef",
   "metadata": {},
   "outputs": [],
   "source": [
    "reader = UnstructuredReader()"
   ]
  },
  {
   "cell_type": "code",
   "execution_count": 12,
   "id": "3e4e1cf1",
   "metadata": {},
   "outputs": [
    {
     "name": "stdout",
     "output_type": "stream",
     "text": [
      "Idx 0/269\n"
     ]
    },
    {
     "name": "stderr",
     "output_type": "stream",
     "text": [
      "libmagic is unavailable but assists in filetype detection. Please consider installing libmagic for better results.\n",
      "WARNING:root:'doc_id' is deprecated and 'id_' will be used instead\n",
      "WARNING:unstructured:libmagic is unavailable but assists in filetype detection. Please consider installing libmagic for better results.\n",
      "WARNING:unstructured:libmagic is unavailable but assists in filetype detection. Please consider installing libmagic for better results.\n",
      "WARNING:root:'doc_id' is deprecated and 'id_' will be used instead\n",
      "WARNING:unstructured:libmagic is unavailable but assists in filetype detection. Please consider installing libmagic for better results.\n",
      "WARNING:root:'doc_id' is deprecated and 'id_' will be used instead\n",
      "WARNING:unstructured:libmagic is unavailable but assists in filetype detection. Please consider installing libmagic for better results.\n",
      "WARNING:unstructured:libmagic is unavailable but assists in filetype detection. Please consider installing libmagic for better results.\n",
      "WARNING:unstructured:libmagic is unavailable but assists in filetype detection. Please consider installing libmagic for better results.\n"
     ]
    },
    {
     "name": "stdout",
     "output_type": "stream",
     "text": [
      "C:\\Users\\haoch\\Desktop\\GEO-bot-prototype\\Data\\Contact_us.htm\n",
      "Idx 1/269\n",
      "C:\\Users\\haoch\\Desktop\\GEO-bot-prototype\\Data\\csh-redirect.htm\n",
      "Idx 2/269\n",
      "C:\\Users\\haoch\\Desktop\\GEO-bot-prototype\\Data\\First_Topic.htm\n",
      "Idx 3/269\n",
      "C:\\Users\\haoch\\Desktop\\GEO-bot-prototype\\Data\\Help_Missing.htm\n",
      "Idx 4/269\n",
      "C:\\Users\\haoch\\Desktop\\GEO-bot-prototype\\Data\\index.htm\n",
      "Idx 5/269\n",
      "C:\\Users\\haoch\\Desktop\\GEO-bot-prototype\\Data\\topic.htm\n",
      "Idx 6/269\n"
     ]
    },
    {
     "name": "stderr",
     "output_type": "stream",
     "text": [
      "WARNING:root:'doc_id' is deprecated and 'id_' will be used instead\n",
      "WARNING:unstructured:libmagic is unavailable but assists in filetype detection. Please consider installing libmagic for better results.\n",
      "WARNING:root:'doc_id' is deprecated and 'id_' will be used instead\n",
      "WARNING:unstructured:libmagic is unavailable but assists in filetype detection. Please consider installing libmagic for better results.\n",
      "WARNING:root:'doc_id' is deprecated and 'id_' will be used instead\n",
      "WARNING:unstructured:libmagic is unavailable but assists in filetype detection. Please consider installing libmagic for better results.\n",
      "WARNING:root:'doc_id' is deprecated and 'id_' will be used instead\n",
      "WARNING:unstructured:libmagic is unavailable but assists in filetype detection. Please consider installing libmagic for better results.\n",
      "WARNING:root:'doc_id' is deprecated and 'id_' will be used instead\n",
      "WARNING:unstructured:libmagic is unavailable but assists in filetype detection. Please consider installing libmagic for better results.\n",
      "WARNING:root:'doc_id' is deprecated and 'id_' will be used instead\n",
      "WARNING:unstructured:libmagic is unavailable but assists in filetype detection. Please consider installing libmagic for better results.\n",
      "WARNING:root:'doc_id' is deprecated and 'id_' will be used instead\n"
     ]
    },
    {
     "name": "stdout",
     "output_type": "stream",
     "text": [
      "C:\\Users\\haoch\\Desktop\\GEO-bot-prototype\\Data\\Computed_Curve_Templates\\Drilling\\Cement_Volume.htm\n",
      "Idx 7/269\n",
      "C:\\Users\\haoch\\Desktop\\GEO-bot-prototype\\Data\\Computed_Curve_Templates\\Drilling\\D_Exponent.htm\n",
      "Idx 8/269\n",
      "C:\\Users\\haoch\\Desktop\\GEO-bot-prototype\\Data\\Computed_Curve_Templates\\Drilling\\Mechanical_Specific_Energy.htm\n",
      "Idx 9/269\n",
      "C:\\Users\\haoch\\Desktop\\GEO-bot-prototype\\Data\\Computed_Curve_Templates\\Drilling\\Temperature_Gradient.htm\n",
      "Idx 10/269\n",
      "C:\\Users\\haoch\\Desktop\\GEO-bot-prototype\\Data\\Computed_Curve_Templates\\Gas\\Formation_Fluid_Evaluation\\C1_Sum.htm\n",
      "Idx 11/269\n",
      "C:\\Users\\haoch\\Desktop\\GEO-bot-prototype\\Data\\Computed_Curve_Templates\\Gas\\Formation_Fluid_Evaluation\\Gas_Balance.htm\n",
      "Idx 12/269\n"
     ]
    },
    {
     "name": "stderr",
     "output_type": "stream",
     "text": [
      "WARNING:unstructured:libmagic is unavailable but assists in filetype detection. Please consider installing libmagic for better results.\n",
      "WARNING:root:'doc_id' is deprecated and 'id_' will be used instead\n",
      "WARNING:unstructured:libmagic is unavailable but assists in filetype detection. Please consider installing libmagic for better results.\n",
      "WARNING:root:'doc_id' is deprecated and 'id_' will be used instead\n",
      "WARNING:unstructured:libmagic is unavailable but assists in filetype detection. Please consider installing libmagic for better results.\n",
      "WARNING:root:'doc_id' is deprecated and 'id_' will be used instead\n",
      "WARNING:unstructured:libmagic is unavailable but assists in filetype detection. Please consider installing libmagic for better results.\n",
      "WARNING:root:'doc_id' is deprecated and 'id_' will be used instead\n",
      "WARNING:unstructured:libmagic is unavailable but assists in filetype detection. Please consider installing libmagic for better results.\n",
      "WARNING:root:'doc_id' is deprecated and 'id_' will be used instead\n",
      "WARNING:unstructured:libmagic is unavailable but assists in filetype detection. Please consider installing libmagic for better results.\n",
      "WARNING:root:'doc_id' is deprecated and 'id_' will be used instead\n",
      "WARNING:unstructured:libmagic is unavailable but assists in filetype detection. Please consider installing libmagic for better results.\n",
      "WARNING:root:'doc_id' is deprecated and 'id_' will be used instead\n"
     ]
    },
    {
     "name": "stdout",
     "output_type": "stream",
     "text": [
      "C:\\Users\\haoch\\Desktop\\GEO-bot-prototype\\Data\\Computed_Curve_Templates\\Gas\\Formation_Fluid_Evaluation\\Gas_Character.htm\n",
      "Idx 13/269\n",
      "C:\\Users\\haoch\\Desktop\\GEO-bot-prototype\\Data\\Computed_Curve_Templates\\Gas\\Formation_Fluid_Evaluation\\Gas_Wetness.htm\n",
      "Idx 14/269\n",
      "C:\\Users\\haoch\\Desktop\\GEO-bot-prototype\\Data\\Computed_Curve_Templates\\Gas\\Formation_Fluid_Evaluation\\Inverse_Oil_Indicator.htm\n",
      "Idx 15/269\n",
      "C:\\Users\\haoch\\Desktop\\GEO-bot-prototype\\Data\\Computed_Curve_Templates\\Gas\\Formation_Fluid_Evaluation\\Oil_Indicator.htm\n",
      "Idx 16/269\n",
      "C:\\Users\\haoch\\Desktop\\GEO-bot-prototype\\Data\\Computed_Curve_Templates\\Gas\\Formation_Fluid_Evaluation\\Pixler_C1_C2_Gas_Ratio.htm\n",
      "Idx 17/269\n",
      "C:\\Users\\haoch\\Desktop\\GEO-bot-prototype\\Data\\Computed_Curve_Templates\\Gas\\Formation_Fluid_Evaluation\\Pixler_C1_C3_Gas_Ratio.htm\n",
      "Idx 18/269\n",
      "C:\\Users\\haoch\\Desktop\\GEO-bot-prototype\\Data\\Computed_Curve_Templates\\Gas\\Formation_Fluid_Evaluation\\Pixler_C1_C4_Gas_Ratio.htm\n",
      "Idx 19/269\n"
     ]
    },
    {
     "name": "stderr",
     "output_type": "stream",
     "text": [
      "WARNING:unstructured:libmagic is unavailable but assists in filetype detection. Please consider installing libmagic for better results.\n",
      "WARNING:root:'doc_id' is deprecated and 'id_' will be used instead\n",
      "WARNING:unstructured:libmagic is unavailable but assists in filetype detection. Please consider installing libmagic for better results.\n",
      "WARNING:root:'doc_id' is deprecated and 'id_' will be used instead\n",
      "WARNING:unstructured:libmagic is unavailable but assists in filetype detection. Please consider installing libmagic for better results.\n",
      "WARNING:root:'doc_id' is deprecated and 'id_' will be used instead\n",
      "WARNING:unstructured:libmagic is unavailable but assists in filetype detection. Please consider installing libmagic for better results.\n",
      "WARNING:root:'doc_id' is deprecated and 'id_' will be used instead\n",
      "WARNING:unstructured:libmagic is unavailable but assists in filetype detection. Please consider installing libmagic for better results.\n",
      "WARNING:root:'doc_id' is deprecated and 'id_' will be used instead\n",
      "WARNING:unstructured:libmagic is unavailable but assists in filetype detection. Please consider installing libmagic for better results.\n",
      "WARNING:root:'doc_id' is deprecated and 'id_' will be used instead\n",
      "WARNING:unstructured:libmagic is unavailable but assists in filetype detection. Please consider installing libmagic for better results.\n",
      "WARNING:root:'doc_id' is deprecated and 'id_' will be used instead\n"
     ]
    },
    {
     "name": "stdout",
     "output_type": "stream",
     "text": [
      "C:\\Users\\haoch\\Desktop\\GEO-bot-prototype\\Data\\Computed_Curve_Templates\\Gas\\Formation_Fluid_Evaluation\\Pixler_C1_C5_Gas_Ratio.htm\n",
      "Idx 20/269\n",
      "C:\\Users\\haoch\\Desktop\\GEO-bot-prototype\\Data\\Computed_Curve_Templates\\Gas\\Gas_Quality\\C1_Moving_Average.htm\n",
      "Idx 21/269\n",
      "C:\\Users\\haoch\\Desktop\\GEO-bot-prototype\\Data\\Computed_Curve_Templates\\Gas\\Gas_Quality\\C2_Moving_Average.htm\n",
      "Idx 22/269\n",
      "C:\\Users\\haoch\\Desktop\\GEO-bot-prototype\\Data\\Computed_Curve_Templates\\Gas\\Gas_Quality\\Delta_C1_Moving_Average.htm\n",
      "Idx 23/269\n",
      "C:\\Users\\haoch\\Desktop\\GEO-bot-prototype\\Data\\Computed_Curve_Templates\\Gas\\Gas_Quality\\Delta_C2_Moving_Average.htm\n",
      "Idx 24/269\n",
      "C:\\Users\\haoch\\Desktop\\GEO-bot-prototype\\Data\\Computed_Curve_Templates\\Gas\\Gas_Quality\\Delta_Total_Gas_Moving_Average.htm\n",
      "Idx 25/269\n",
      "C:\\Users\\haoch\\Desktop\\GEO-bot-prototype\\Data\\Computed_Curve_Templates\\Gas\\Gas_Quality\\Gas_Quality_Ratio.htm\n",
      "Idx 26/269\n"
     ]
    },
    {
     "name": "stderr",
     "output_type": "stream",
     "text": [
      "WARNING:unstructured:libmagic is unavailable but assists in filetype detection. Please consider installing libmagic for better results.\n",
      "WARNING:root:'doc_id' is deprecated and 'id_' will be used instead\n",
      "WARNING:unstructured:libmagic is unavailable but assists in filetype detection. Please consider installing libmagic for better results.\n",
      "WARNING:root:'doc_id' is deprecated and 'id_' will be used instead\n",
      "WARNING:unstructured:libmagic is unavailable but assists in filetype detection. Please consider installing libmagic for better results.\n",
      "WARNING:root:'doc_id' is deprecated and 'id_' will be used instead\n",
      "WARNING:unstructured:libmagic is unavailable but assists in filetype detection. Please consider installing libmagic for better results.\n",
      "WARNING:root:'doc_id' is deprecated and 'id_' will be used instead\n",
      "WARNING:unstructured:libmagic is unavailable but assists in filetype detection. Please consider installing libmagic for better results.\n",
      "WARNING:root:'doc_id' is deprecated and 'id_' will be used instead\n",
      "WARNING:unstructured:libmagic is unavailable but assists in filetype detection. Please consider installing libmagic for better results.\n",
      "WARNING:root:'doc_id' is deprecated and 'id_' will be used instead\n"
     ]
    },
    {
     "name": "stdout",
     "output_type": "stream",
     "text": [
      "C:\\Users\\haoch\\Desktop\\GEO-bot-prototype\\Data\\Computed_Curve_Templates\\Gas\\Gas_Quality\\Total_Gas_in_PPM.htm\n",
      "Idx 27/269\n",
      "C:\\Users\\haoch\\Desktop\\GEO-bot-prototype\\Data\\Computed_Curve_Templates\\Gas\\Gas_Quality\\Total_Gas_Moving_Average.htm\n",
      "Idx 28/269\n",
      "C:\\Users\\haoch\\Desktop\\GEO-bot-prototype\\Data\\Computed_Curve_Templates\\Gas\\Gas_Quality\\Total_Gas_Normalization.htm\n",
      "Idx 29/269\n",
      "C:\\Users\\haoch\\Desktop\\GEO-bot-prototype\\Data\\Computed_Curve_Templates\\Petrophysical\\Net_Pay_(Sw_using_ARCHIE,_Rw_from_SP).htm\n",
      "Idx 30/269\n",
      "C:\\Users\\haoch\\Desktop\\GEO-bot-prototype\\Data\\Computed_Curve_Templates\\Petrophysical\\Net_Pay_(Sw_using_ARCHIE,_Rw_known).htm\n",
      "Idx 31/269\n",
      "C:\\Users\\haoch\\Desktop\\GEO-bot-prototype\\Data\\Computed_Curve_Templates\\Petrophysical\\Net_Pay_(Sw_using_INDONESIAN,_Rw_from_SP).htm\n",
      "Idx 32/269\n",
      "C:\\Users\\haoch\\Desktop\\GEO-bot-prototype\\Data\\Computed_Curve_Templates\\Petrophysical\\Net_Pay_(Sw_using_INDONESIAN,_Rw_known).htm\n",
      "Idx 33/269\n"
     ]
    },
    {
     "name": "stderr",
     "output_type": "stream",
     "text": [
      "WARNING:unstructured:libmagic is unavailable but assists in filetype detection. Please consider installing libmagic for better results.\n",
      "WARNING:root:'doc_id' is deprecated and 'id_' will be used instead\n",
      "WARNING:unstructured:libmagic is unavailable but assists in filetype detection. Please consider installing libmagic for better results.\n",
      "WARNING:root:'doc_id' is deprecated and 'id_' will be used instead\n",
      "WARNING:unstructured:libmagic is unavailable but assists in filetype detection. Please consider installing libmagic for better results.\n",
      "WARNING:root:'doc_id' is deprecated and 'id_' will be used instead\n",
      "WARNING:unstructured:libmagic is unavailable but assists in filetype detection. Please consider installing libmagic for better results.\n",
      "WARNING:root:'doc_id' is deprecated and 'id_' will be used instead\n",
      "WARNING:unstructured:libmagic is unavailable but assists in filetype detection. Please consider installing libmagic for better results.\n",
      "WARNING:root:'doc_id' is deprecated and 'id_' will be used instead\n",
      "WARNING:unstructured:libmagic is unavailable but assists in filetype detection. Please consider installing libmagic for better results.\n",
      "WARNING:root:'doc_id' is deprecated and 'id_' will be used instead\n"
     ]
    },
    {
     "name": "stdout",
     "output_type": "stream",
     "text": [
      "C:\\Users\\haoch\\Desktop\\GEO-bot-prototype\\Data\\Computed_Curve_Templates\\Petrophysical\\Net_Pay_(Sw_using_SCHLUMBERGER,_Rw_from_SP).htm\n",
      "Idx 34/269\n",
      "C:\\Users\\haoch\\Desktop\\GEO-bot-prototype\\Data\\Computed_Curve_Templates\\Petrophysical\\Net_Pay_(Sw_using_SCHLUMBERGER,_Rw_known).htm\n",
      "Idx 35/269\n",
      "C:\\Users\\haoch\\Desktop\\GEO-bot-prototype\\Data\\Computed_Curve_Templates\\Petrophysical\\Net_Pay_(Sw_using_SIMANDOUX,_Rw_from_SP).htm\n",
      "Idx 36/269\n",
      "C:\\Users\\haoch\\Desktop\\GEO-bot-prototype\\Data\\Computed_Curve_Templates\\Petrophysical\\Net_Pay_(Sw_using_SIMANDOUX,_Rw_known).htm\n",
      "Idx 37/269\n",
      "C:\\Users\\haoch\\Desktop\\GEO-bot-prototype\\Data\\Computed_Curve_Templates\\Petrophysical\\Porosity_Effective_(Clean_Zone).htm\n",
      "Idx 38/269\n",
      "C:\\Users\\haoch\\Desktop\\GEO-bot-prototype\\Data\\Computed_Curve_Templates\\Petrophysical\\Porosity_Effective_(with_Shale_Correction).htm\n",
      "Idx 39/269\n"
     ]
    },
    {
     "name": "stderr",
     "output_type": "stream",
     "text": [
      "WARNING:unstructured:libmagic is unavailable but assists in filetype detection. Please consider installing libmagic for better results.\n",
      "WARNING:root:'doc_id' is deprecated and 'id_' will be used instead\n",
      "WARNING:unstructured:libmagic is unavailable but assists in filetype detection. Please consider installing libmagic for better results.\n",
      "WARNING:root:'doc_id' is deprecated and 'id_' will be used instead\n",
      "WARNING:unstructured:libmagic is unavailable but assists in filetype detection. Please consider installing libmagic for better results.\n",
      "WARNING:root:'doc_id' is deprecated and 'id_' will be used instead\n",
      "WARNING:unstructured:libmagic is unavailable but assists in filetype detection. Please consider installing libmagic for better results.\n",
      "WARNING:root:'doc_id' is deprecated and 'id_' will be used instead\n",
      "WARNING:unstructured:libmagic is unavailable but assists in filetype detection. Please consider installing libmagic for better results.\n",
      "WARNING:root:'doc_id' is deprecated and 'id_' will be used instead\n",
      "WARNING:unstructured:libmagic is unavailable but assists in filetype detection. Please consider installing libmagic for better results.\n",
      "WARNING:root:'doc_id' is deprecated and 'id_' will be used instead\n",
      "WARNING:unstructured:libmagic is unavailable but assists in filetype detection. Please consider installing libmagic for better results.\n",
      "WARNING:root:'doc_id' is deprecated and 'id_' will be used instead\n"
     ]
    },
    {
     "name": "stdout",
     "output_type": "stream",
     "text": [
      "C:\\Users\\haoch\\Desktop\\GEO-bot-prototype\\Data\\Computed_Curve_Templates\\Petrophysical\\Porosity_from_Density_(Clean_Zone).htm\n",
      "Idx 40/269\n",
      "C:\\Users\\haoch\\Desktop\\GEO-bot-prototype\\Data\\Computed_Curve_Templates\\Petrophysical\\Porosity_from_Density_(with_Shale_Correction).htm\n",
      "Idx 41/269\n",
      "C:\\Users\\haoch\\Desktop\\GEO-bot-prototype\\Data\\Computed_Curve_Templates\\Petrophysical\\Porosity_from_Sonic_(Clean_Zone).htm\n",
      "Idx 42/269\n",
      "C:\\Users\\haoch\\Desktop\\GEO-bot-prototype\\Data\\Computed_Curve_Templates\\Petrophysical\\Porosity_from_Sonic_(with_Shale_Correction).htm\n",
      "Idx 43/269\n",
      "C:\\Users\\haoch\\Desktop\\GEO-bot-prototype\\Data\\Computed_Curve_Templates\\Petrophysical\\Rw_at_Formation_Temperature.htm\n",
      "Idx 44/269\n",
      "C:\\Users\\haoch\\Desktop\\GEO-bot-prototype\\Data\\Computed_Curve_Templates\\Petrophysical\\RW_from_SP.htm\n",
      "Idx 45/269\n"
     ]
    },
    {
     "name": "stderr",
     "output_type": "stream",
     "text": [
      "WARNING:unstructured:libmagic is unavailable but assists in filetype detection. Please consider installing libmagic for better results.\n",
      "WARNING:root:'doc_id' is deprecated and 'id_' will be used instead\n",
      "WARNING:unstructured:libmagic is unavailable but assists in filetype detection. Please consider installing libmagic for better results.\n",
      "WARNING:root:'doc_id' is deprecated and 'id_' will be used instead\n",
      "WARNING:unstructured:libmagic is unavailable but assists in filetype detection. Please consider installing libmagic for better results.\n",
      "WARNING:root:'doc_id' is deprecated and 'id_' will be used instead\n",
      "WARNING:unstructured:libmagic is unavailable but assists in filetype detection. Please consider installing libmagic for better results.\n",
      "WARNING:root:'doc_id' is deprecated and 'id_' will be used instead\n",
      "WARNING:unstructured:libmagic is unavailable but assists in filetype detection. Please consider installing libmagic for better results.\n",
      "WARNING:root:'doc_id' is deprecated and 'id_' will be used instead\n",
      "WARNING:unstructured:libmagic is unavailable but assists in filetype detection. Please consider installing libmagic for better results.\n"
     ]
    },
    {
     "name": "stdout",
     "output_type": "stream",
     "text": [
      "C:\\Users\\haoch\\Desktop\\GEO-bot-prototype\\Data\\Computed_Curve_Templates\\Petrophysical\\Shale_Volume_from_GR.htm\n",
      "Idx 46/269\n",
      "C:\\Users\\haoch\\Desktop\\GEO-bot-prototype\\Data\\Computed_Curve_Templates\\Petrophysical\\Sw_using_ARCHIE_(Rw_from_SP).htm\n",
      "Idx 47/269\n",
      "C:\\Users\\haoch\\Desktop\\GEO-bot-prototype\\Data\\Computed_Curve_Templates\\Petrophysical\\Sw_using_ARCHIE_(Rw_known).htm\n",
      "Idx 48/269\n",
      "C:\\Users\\haoch\\Desktop\\GEO-bot-prototype\\Data\\Computed_Curve_Templates\\Petrophysical\\Sw_using_INDONESIAN_(Rw_from_SP).htm\n",
      "Idx 49/269\n",
      "C:\\Users\\haoch\\Desktop\\GEO-bot-prototype\\Data\\Computed_Curve_Templates\\Petrophysical\\Sw_using_INDONESIAN_(Rw_known).htm\n",
      "Idx 50/269\n",
      "C:\\Users\\haoch\\Desktop\\GEO-bot-prototype\\Data\\Computed_Curve_Templates\\Petrophysical\\Sw_using_SCHLUMBERGER_(Rw_from_SP).htm\n",
      "Idx 51/269\n"
     ]
    },
    {
     "name": "stderr",
     "output_type": "stream",
     "text": [
      "WARNING:root:'doc_id' is deprecated and 'id_' will be used instead\n",
      "WARNING:unstructured:libmagic is unavailable but assists in filetype detection. Please consider installing libmagic for better results.\n",
      "WARNING:root:'doc_id' is deprecated and 'id_' will be used instead\n",
      "WARNING:unstructured:libmagic is unavailable but assists in filetype detection. Please consider installing libmagic for better results.\n",
      "WARNING:root:'doc_id' is deprecated and 'id_' will be used instead\n",
      "WARNING:unstructured:libmagic is unavailable but assists in filetype detection. Please consider installing libmagic for better results.\n",
      "WARNING:root:'doc_id' is deprecated and 'id_' will be used instead\n",
      "WARNING:unstructured:libmagic is unavailable but assists in filetype detection. Please consider installing libmagic for better results.\n",
      "WARNING:root:'doc_id' is deprecated and 'id_' will be used instead\n",
      "WARNING:unstructured:libmagic is unavailable but assists in filetype detection. Please consider installing libmagic for better results.\n",
      "WARNING:root:'doc_id' is deprecated and 'id_' will be used instead\n",
      "WARNING:unstructured:libmagic is unavailable but assists in filetype detection. Please consider installing libmagic for better results.\n",
      "WARNING:root:'doc_id' is deprecated and 'id_' will be used instead\n"
     ]
    },
    {
     "name": "stdout",
     "output_type": "stream",
     "text": [
      "C:\\Users\\haoch\\Desktop\\GEO-bot-prototype\\Data\\Computed_Curve_Templates\\Petrophysical\\Sw_using_SCHLUMBERGER_(Rw_known).htm\n",
      "Idx 52/269\n",
      "C:\\Users\\haoch\\Desktop\\GEO-bot-prototype\\Data\\Computed_Curve_Templates\\Petrophysical\\Sw_using_SIMANDOUX_(Rw_from_SP).htm\n",
      "Idx 53/269\n",
      "C:\\Users\\haoch\\Desktop\\GEO-bot-prototype\\Data\\Computed_Curve_Templates\\Petrophysical\\Sw_using_SIMANDOUX_(Rw_known).htm\n",
      "Idx 54/269\n",
      "C:\\Users\\haoch\\Desktop\\GEO-bot-prototype\\Data\\Computed_Curve_Templates\\Petrophysical\\Th_K_Ratio.htm\n",
      "Idx 55/269\n",
      "C:\\Users\\haoch\\Desktop\\GEO-bot-prototype\\Data\\Computed_Curve_Templates\\TVD_&_Well_Trajectory\\Easting.htm\n",
      "Idx 56/269\n",
      "C:\\Users\\haoch\\Desktop\\GEO-bot-prototype\\Data\\Computed_Curve_Templates\\TVD_&_Well_Trajectory\\Northing.htm\n",
      "Idx 57/269\n",
      "C:\\Users\\haoch\\Desktop\\GEO-bot-prototype\\Data\\Computed_Curve_Templates\\TVD_&_Well_Trajectory\\TVD,_using_Minimum_Curvature_method.htm\n",
      "Idx 58/269\n"
     ]
    },
    {
     "name": "stderr",
     "output_type": "stream",
     "text": [
      "WARNING:unstructured:libmagic is unavailable but assists in filetype detection. Please consider installing libmagic for better results.\n",
      "WARNING:root:'doc_id' is deprecated and 'id_' will be used instead\n",
      "WARNING:unstructured:libmagic is unavailable but assists in filetype detection. Please consider installing libmagic for better results.\n",
      "WARNING:root:'doc_id' is deprecated and 'id_' will be used instead\n",
      "WARNING:unstructured:libmagic is unavailable but assists in filetype detection. Please consider installing libmagic for better results.\n",
      "WARNING:root:'doc_id' is deprecated and 'id_' will be used instead\n",
      "WARNING:unstructured:libmagic is unavailable but assists in filetype detection. Please consider installing libmagic for better results.\n",
      "WARNING:root:'doc_id' is deprecated and 'id_' will be used instead\n",
      "WARNING:unstructured:libmagic is unavailable but assists in filetype detection. Please consider installing libmagic for better results.\n",
      "WARNING:root:'doc_id' is deprecated and 'id_' will be used instead\n",
      "WARNING:unstructured:libmagic is unavailable but assists in filetype detection. Please consider installing libmagic for better results.\n",
      "WARNING:root:'doc_id' is deprecated and 'id_' will be used instead\n",
      "WARNING:unstructured:libmagic is unavailable but assists in filetype detection. Please consider installing libmagic for better results.\n",
      "WARNING:root:'doc_id' is deprecated and 'id_' will be used instead\n",
      "WARNING:unstructured:libmagic is unavailable but assists in filetype detection. Please consider installing libmagic for better results.\n",
      "WARNING:root:'doc_id' is deprecated and 'id_' will be used instead\n",
      "WARNING:unstructured:libmagic is unavailable but assists in filetype detection. Please consider installing libmagic for better results.\n",
      "WARNING:root:'doc_id' is deprecated and 'id_' will be used instead\n",
      "WARNING:unstructured:libmagic is unavailable but assists in filetype detection. Please consider installing libmagic for better results.\n",
      "WARNING:root:'doc_id' is deprecated and 'id_' will be used instead\n",
      "WARNING:unstructured:libmagic is unavailable but assists in filetype detection. Please consider installing libmagic for better results.\n",
      "WARNING:root:'doc_id' is deprecated and 'id_' will be used instead\n",
      "WARNING:unstructured:libmagic is unavailable but assists in filetype detection. Please consider installing libmagic for better results.\n",
      "WARNING:root:'doc_id' is deprecated and 'id_' will be used instead\n"
     ]
    },
    {
     "name": "stdout",
     "output_type": "stream",
     "text": [
      "C:\\Users\\haoch\\Desktop\\GEO-bot-prototype\\Data\\Computed_Curve_Templates\\TVD_&_Well_Trajectory\\TVD_Average_Tangential.htm\n",
      "Idx 59/269\n",
      "C:\\Users\\haoch\\Desktop\\GEO-bot-prototype\\Data\\Computed_Curve_Templates\\TVD_&_Well_Trajectory\\Vertical_Sect.htm\n",
      "Idx 60/269\n",
      "C:\\Users\\haoch\\Desktop\\GEO-bot-prototype\\Data\\Computed_Curve_Templates\\TVD_&_Well_Trajectory\\Well_Departure.htm\n",
      "Idx 61/269\n",
      "C:\\Users\\haoch\\Desktop\\GEO-bot-prototype\\Data\\Create_Curve_Data\\Create_Curve_Data_from_Table_Columns.htm\n",
      "Idx 62/269\n",
      "C:\\Users\\haoch\\Desktop\\GEO-bot-prototype\\Data\\Create_Curve_Data\\Create_Cutoff_Curve.htm\n",
      "Idx 63/269\n",
      "C:\\Users\\haoch\\Desktop\\GEO-bot-prototype\\Data\\Create_Curve_Data\\Create_Multiple_Curve_Data.htm\n",
      "Idx 64/269\n",
      "C:\\Users\\haoch\\Desktop\\GEO-bot-prototype\\Data\\Create_Curve_Data\\Create_Polyline_Curve.htm\n",
      "Idx 65/269\n",
      "C:\\Users\\haoch\\Desktop\\GEO-bot-prototype\\Data\\Create_Curve_Data\\Create_User-defined_Curve_or_Gradi.htm\n",
      "Idx 66/269\n",
      "C:\\Users\\haoch\\Desktop\\GEO-bot-prototype\\Data\\Create_Curve_Data\\Curve_Comp.htm\n",
      "Idx 67/269\n",
      "C:\\Users\\haoch\\Desktop\\GEO-bot-prototype\\Data\\Create_Curve_Data\\Edit_Curve_Data.htm\n",
      "Idx 68/269\n",
      "C:\\Users\\haoch\\Desktop\\GEO-bot-prototype\\Data\\Create_Curve_Data\\Generate_Integrated_Travel_Time_Pips.htm\n",
      "Idx 69/269\n"
     ]
    },
    {
     "name": "stderr",
     "output_type": "stream",
     "text": [
      "WARNING:unstructured:libmagic is unavailable but assists in filetype detection. Please consider installing libmagic for better results.\n",
      "WARNING:root:'doc_id' is deprecated and 'id_' will be used instead\n",
      "WARNING:unstructured:libmagic is unavailable but assists in filetype detection. Please consider installing libmagic for better results.\n",
      "WARNING:root:'doc_id' is deprecated and 'id_' will be used instead\n",
      "WARNING:unstructured:libmagic is unavailable but assists in filetype detection. Please consider installing libmagic for better results.\n",
      "WARNING:root:'doc_id' is deprecated and 'id_' will be used instead\n",
      "WARNING:unstructured:libmagic is unavailable but assists in filetype detection. Please consider installing libmagic for better results.\n",
      "WARNING:root:'doc_id' is deprecated and 'id_' will be used instead\n",
      "WARNING:unstructured:libmagic is unavailable but assists in filetype detection. Please consider installing libmagic for better results.\n",
      "WARNING:root:'doc_id' is deprecated and 'id_' will be used instead\n",
      "WARNING:unstructured:libmagic is unavailable but assists in filetype detection. Please consider installing libmagic for better results.\n",
      "WARNING:root:'doc_id' is deprecated and 'id_' will be used instead\n",
      "WARNING:unstructured:libmagic is unavailable but assists in filetype detection. Please consider installing libmagic for better results.\n",
      "WARNING:root:'doc_id' is deprecated and 'id_' will be used instead\n",
      "WARNING:unstructured:libmagic is unavailable but assists in filetype detection. Please consider installing libmagic for better results.\n",
      "WARNING:root:'doc_id' is deprecated and 'id_' will be used instead\n",
      "WARNING:unstructured:libmagic is unavailable but assists in filetype detection. Please consider installing libmagic for better results.\n",
      "WARNING:root:'doc_id' is deprecated and 'id_' will be used instead\n",
      "WARNING:unstructured:libmagic is unavailable but assists in filetype detection. Please consider installing libmagic for better results.\n",
      "WARNING:root:'doc_id' is deprecated and 'id_' will be used instead\n"
     ]
    },
    {
     "name": "stdout",
     "output_type": "stream",
     "text": [
      "C:\\Users\\haoch\\Desktop\\GEO-bot-prototype\\Data\\Create_Curve_Data\\Mouse_Set_Curve_Data.htm\n",
      "Idx 70/269\n",
      "C:\\Users\\haoch\\Desktop\\GEO-bot-prototype\\Data\\Create_Curve_Data\\View_and_Edit_Existing_Multiple_Curve_Groups.htm\n",
      "Idx 71/269\n",
      "C:\\Users\\haoch\\Desktop\\GEO-bot-prototype\\Data\\Create_Curve_Data\\View_Curve_Data_History.htm\n",
      "Idx 72/269\n",
      "C:\\Users\\haoch\\Desktop\\GEO-bot-prototype\\Data\\Curve_Data\\Automatic_File_Load.htm\n",
      "Idx 73/269\n",
      "C:\\Users\\haoch\\Desktop\\GEO-bot-prototype\\Data\\Curve_Data\\Comma_and_Tab-delimited_ASCII_Files.htm\n",
      "Idx 74/269\n",
      "C:\\Users\\haoch\\Desktop\\GEO-bot-prototype\\Data\\Curve_Data\\Convert_LIS_to_LAS.htm\n",
      "Idx 75/269\n",
      "C:\\Users\\haoch\\Desktop\\GEO-bot-prototype\\Data\\Curve_Data\\Data_Import_Wizard_Step_1.htm\n",
      "Idx 76/269\n",
      "C:\\Users\\haoch\\Desktop\\GEO-bot-prototype\\Data\\Curve_Data\\Loading_XML_Files_(WellLogML).htm\n",
      "Idx 77/269\n",
      "C:\\Users\\haoch\\Desktop\\GEO-bot-prototype\\Data\\Curve_Data\\Load_Las_Curve_Data.htm\n",
      "Idx 78/269\n",
      "C:\\Users\\haoch\\Desktop\\GEO-bot-prototype\\Data\\Curve_Data\\Load_Space-delimited_ASCII_Files.htm\n",
      "Idx 79/269\n"
     ]
    },
    {
     "name": "stderr",
     "output_type": "stream",
     "text": [
      "WARNING:unstructured:libmagic is unavailable but assists in filetype detection. Please consider installing libmagic for better results.\n",
      "WARNING:root:'doc_id' is deprecated and 'id_' will be used instead\n",
      "WARNING:unstructured:libmagic is unavailable but assists in filetype detection. Please consider installing libmagic for better results.\n",
      "WARNING:root:'doc_id' is deprecated and 'id_' will be used instead\n",
      "WARNING:unstructured:libmagic is unavailable but assists in filetype detection. Please consider installing libmagic for better results.\n",
      "WARNING:root:'doc_id' is deprecated and 'id_' will be used instead\n",
      "WARNING:unstructured:libmagic is unavailable but assists in filetype detection. Please consider installing libmagic for better results.\n",
      "WARNING:root:'doc_id' is deprecated and 'id_' will be used instead\n",
      "WARNING:unstructured:libmagic is unavailable but assists in filetype detection. Please consider installing libmagic for better results.\n",
      "WARNING:root:'doc_id' is deprecated and 'id_' will be used instead\n"
     ]
    },
    {
     "name": "stdout",
     "output_type": "stream",
     "text": [
      "C:\\Users\\haoch\\Desktop\\GEO-bot-prototype\\Data\\Curve_Display\\Alter_the_Order_of_Curve_Legends.htm\n",
      "Idx 80/269\n",
      "C:\\Users\\haoch\\Desktop\\GEO-bot-prototype\\Data\\Curve_Display\\Apply_Curve_Display_Settings_(Defaults).htm\n",
      "Idx 81/269\n",
      "C:\\Users\\haoch\\Desktop\\GEO-bot-prototype\\Data\\Curve_Display\\Automatic_Curve_Populate.htm\n",
      "Idx 82/269\n",
      "C:\\Users\\haoch\\Desktop\\GEO-bot-prototype\\Data\\Curve_Display\\Change_Curve_Attributed_using_Context_Tab.htm\n",
      "Idx 83/269\n",
      "C:\\Users\\haoch\\Desktop\\GEO-bot-prototype\\Data\\Curve_Display\\Change_Curve_Pens.htm\n",
      "Idx 84/269\n"
     ]
    },
    {
     "name": "stderr",
     "output_type": "stream",
     "text": [
      "WARNING:unstructured:libmagic is unavailable but assists in filetype detection. Please consider installing libmagic for better results.\n",
      "WARNING:root:'doc_id' is deprecated and 'id_' will be used instead\n",
      "WARNING:unstructured:libmagic is unavailable but assists in filetype detection. Please consider installing libmagic for better results.\n",
      "WARNING:root:'doc_id' is deprecated and 'id_' will be used instead\n",
      "WARNING:unstructured:libmagic is unavailable but assists in filetype detection. Please consider installing libmagic for better results.\n",
      "WARNING:root:'doc_id' is deprecated and 'id_' will be used instead\n",
      "WARNING:unstructured:libmagic is unavailable but assists in filetype detection. Please consider installing libmagic for better results.\n",
      "WARNING:root:'doc_id' is deprecated and 'id_' will be used instead\n",
      "WARNING:unstructured:libmagic is unavailable but assists in filetype detection. Please consider installing libmagic for better results.\n",
      "WARNING:root:'doc_id' is deprecated and 'id_' will be used instead\n",
      "WARNING:unstructured:libmagic is unavailable but assists in filetype detection. Please consider installing libmagic for better results.\n",
      "WARNING:root:'doc_id' is deprecated and 'id_' will be used instead\n",
      "WARNING:unstructured:libmagic is unavailable but assists in filetype detection. Please consider installing libmagic for better results.\n",
      "WARNING:root:'doc_id' is deprecated and 'id_' will be used instead\n",
      "WARNING:unstructured:libmagic is unavailable but assists in filetype detection. Please consider installing libmagic for better results.\n",
      "WARNING:root:'doc_id' is deprecated and 'id_' will be used instead\n",
      "WARNING:unstructured:libmagic is unavailable but assists in filetype detection. Please consider installing libmagic for better results.\n",
      "WARNING:root:'doc_id' is deprecated and 'id_' will be used instead\n",
      "WARNING:unstructured:libmagic is unavailable but assists in filetype detection. Please consider installing libmagic for better results.\n",
      "WARNING:root:'doc_id' is deprecated and 'id_' will be used instead\n"
     ]
    },
    {
     "name": "stdout",
     "output_type": "stream",
     "text": [
      "C:\\Users\\haoch\\Desktop\\GEO-bot-prototype\\Data\\Curve_Display\\Create_Rose_Plots.htm\n",
      "Idx 85/269\n",
      "C:\\Users\\haoch\\Desktop\\GEO-bot-prototype\\Data\\Curve_Display\\Curve_as_Text.htm\n",
      "Idx 86/269\n",
      "C:\\Users\\haoch\\Desktop\\GEO-bot-prototype\\Data\\Curve_Display\\Curve_Types_in_GEO.htm\n",
      "Idx 87/269\n",
      "C:\\Users\\haoch\\Desktop\\GEO-bot-prototype\\Data\\Curve_Display\\Define_New_Curve_Pens.htm\n",
      "Idx 88/269\n",
      "C:\\Users\\haoch\\Desktop\\GEO-bot-prototype\\Data\\Curve_Display\\Display_Data_Point_Markers.htm\n",
      "Idx 89/269\n",
      "C:\\Users\\haoch\\Desktop\\GEO-bot-prototype\\Data\\Curve_Display\\Display_Wrapped_Curve_Data.htm\n",
      "Idx 90/269\n",
      "C:\\Users\\haoch\\Desktop\\GEO-bot-prototype\\Data\\Curve_Display\\Label_the_Curve.htm\n",
      "Idx 91/269\n",
      "C:\\Users\\haoch\\Desktop\\GEO-bot-prototype\\Data\\Curve_Display\\Modify_a_Tadpole_Curve.htm\n",
      "Idx 92/269\n",
      "C:\\Users\\haoch\\Desktop\\GEO-bot-prototype\\Data\\Curve_Display\\Multiple_Scales_for_Curve.htm\n",
      "Idx 93/269\n",
      "C:\\Users\\haoch\\Desktop\\GEO-bot-prototype\\Data\\Curve_Display\\Name_the_Curve.htm\n",
      "Idx 94/269\n"
     ]
    },
    {
     "name": "stderr",
     "output_type": "stream",
     "text": [
      "WARNING:unstructured:libmagic is unavailable but assists in filetype detection. Please consider installing libmagic for better results.\n",
      "WARNING:root:'doc_id' is deprecated and 'id_' will be used instead\n",
      "WARNING:unstructured:libmagic is unavailable but assists in filetype detection. Please consider installing libmagic for better results.\n",
      "WARNING:root:'doc_id' is deprecated and 'id_' will be used instead\n",
      "WARNING:unstructured:libmagic is unavailable but assists in filetype detection. Please consider installing libmagic for better results.\n",
      "WARNING:root:'doc_id' is deprecated and 'id_' will be used instead\n",
      "WARNING:unstructured:libmagic is unavailable but assists in filetype detection. Please consider installing libmagic for better results.\n",
      "WARNING:root:'doc_id' is deprecated and 'id_' will be used instead\n",
      "WARNING:unstructured:libmagic is unavailable but assists in filetype detection. Please consider installing libmagic for better results.\n",
      "WARNING:root:'doc_id' is deprecated and 'id_' will be used instead\n",
      "WARNING:unstructured:libmagic is unavailable but assists in filetype detection. Please consider installing libmagic for better results.\n",
      "WARNING:root:'doc_id' is deprecated and 'id_' will be used instead\n",
      "WARNING:unstructured:libmagic is unavailable but assists in filetype detection. Please consider installing libmagic for better results.\n",
      "WARNING:root:'doc_id' is deprecated and 'id_' will be used instead\n"
     ]
    },
    {
     "name": "stdout",
     "output_type": "stream",
     "text": [
      "C:\\Users\\haoch\\Desktop\\GEO-bot-prototype\\Data\\Curve_Display\\Present_Curves_on_the_Log.htm\n",
      "Idx 95/269\n",
      "C:\\Users\\haoch\\Desktop\\GEO-bot-prototype\\Data\\Curve_Display\\Present_Curve_in_Tadpole_Format.htm\n",
      "Idx 96/269\n",
      "C:\\Users\\haoch\\Desktop\\GEO-bot-prototype\\Data\\Curve_Display\\Save_the_Curve_Display_Settings_(Defaults).htm\n",
      "Idx 97/269\n",
      "C:\\Users\\haoch\\Desktop\\GEO-bot-prototype\\Data\\Curve_Shading,_Splicing_and_Depth_Shifting\\Apply_Curve_Shading.htm\n",
      "Idx 98/269\n",
      "C:\\Users\\haoch\\Desktop\\GEO-bot-prototype\\Data\\Curve_Shading,_Splicing_and_Depth_Shifting\\Apply_Lithologies_as_Curve_Shading.htm\n",
      "Idx 99/269\n",
      "C:\\Users\\haoch\\Desktop\\GEO-bot-prototype\\Data\\Curve_Shading,_Splicing_and_Depth_Shifting\\Curve_Depth_Shifting.htm\n",
      "Idx 100/269\n",
      "C:\\Users\\haoch\\Desktop\\GEO-bot-prototype\\Data\\Curve_Shading,_Splicing_and_Depth_Shifting\\Shade_Wrapped_Curve.htm\n",
      "Idx 101/269\n"
     ]
    },
    {
     "name": "stderr",
     "output_type": "stream",
     "text": [
      "WARNING:unstructured:libmagic is unavailable but assists in filetype detection. Please consider installing libmagic for better results.\n",
      "WARNING:root:'doc_id' is deprecated and 'id_' will be used instead\n",
      "WARNING:unstructured:libmagic is unavailable but assists in filetype detection. Please consider installing libmagic for better results.\n",
      "WARNING:root:'doc_id' is deprecated and 'id_' will be used instead\n",
      "WARNING:unstructured:libmagic is unavailable but assists in filetype detection. Please consider installing libmagic for better results.\n",
      "WARNING:root:'doc_id' is deprecated and 'id_' will be used instead\n",
      "WARNING:unstructured:libmagic is unavailable but assists in filetype detection. Please consider installing libmagic for better results.\n",
      "WARNING:root:'doc_id' is deprecated and 'id_' will be used instead\n",
      "WARNING:unstructured:libmagic is unavailable but assists in filetype detection. Please consider installing libmagic for better results.\n",
      "WARNING:root:'doc_id' is deprecated and 'id_' will be used instead\n",
      "WARNING:unstructured:libmagic is unavailable but assists in filetype detection. Please consider installing libmagic for better results.\n",
      "WARNING:root:'doc_id' is deprecated and 'id_' will be used instead\n",
      "WARNING:unstructured:libmagic is unavailable but assists in filetype detection. Please consider installing libmagic for better results.\n",
      "WARNING:root:'doc_id' is deprecated and 'id_' will be used instead\n",
      "WARNING:unstructured:libmagic is unavailable but assists in filetype detection. Please consider installing libmagic for better results.\n",
      "WARNING:root:'doc_id' is deprecated and 'id_' will be used instead\n"
     ]
    },
    {
     "name": "stdout",
     "output_type": "stream",
     "text": [
      "C:\\Users\\haoch\\Desktop\\GEO-bot-prototype\\Data\\Curve_Shading,_Splicing_and_Depth_Shifting\\Splice.htm\n",
      "Idx 102/269\n",
      "C:\\Users\\haoch\\Desktop\\GEO-bot-prototype\\Data\\Curve_Shading_and_Splicing\\Apply_Curve_Shading.htm\n",
      "Idx 103/269\n",
      "C:\\Users\\haoch\\Desktop\\GEO-bot-prototype\\Data\\Curve_Shading_and_Splicing\\Apply_Lithologies_as_Curve_Shading.htm\n",
      "Idx 104/269\n",
      "C:\\Users\\haoch\\Desktop\\GEO-bot-prototype\\Data\\Curve_Shading_and_Splicing\\Shade_Wrapped_Curve.htm\n",
      "Idx 105/269\n",
      "C:\\Users\\haoch\\Desktop\\GEO-bot-prototype\\Data\\Curve_Shading_and_Splicing\\Splice.htm\n",
      "Idx 106/269\n",
      "C:\\Users\\haoch\\Desktop\\GEO-bot-prototype\\Data\\Free_Format_Text\\Add_Free_Format_Text.htm\n",
      "Idx 107/269\n",
      "C:\\Users\\haoch\\Desktop\\GEO-bot-prototype\\Data\\Free_Format_Text\\Delete_Free_Format_Text.htm\n",
      "Idx 108/269\n",
      "C:\\Users\\haoch\\Desktop\\GEO-bot-prototype\\Data\\Free_Format_Text\\Edit_Free_Format.htm\n",
      "Idx 109/269\n"
     ]
    },
    {
     "name": "stderr",
     "output_type": "stream",
     "text": [
      "WARNING:unstructured:libmagic is unavailable but assists in filetype detection. Please consider installing libmagic for better results.\n",
      "WARNING:root:'doc_id' is deprecated and 'id_' will be used instead\n",
      "WARNING:unstructured:libmagic is unavailable but assists in filetype detection. Please consider installing libmagic for better results.\n",
      "WARNING:root:'doc_id' is deprecated and 'id_' will be used instead\n",
      "WARNING:unstructured:libmagic is unavailable but assists in filetype detection. Please consider installing libmagic for better results.\n",
      "WARNING:root:'doc_id' is deprecated and 'id_' will be used instead\n",
      "WARNING:unstructured:libmagic is unavailable but assists in filetype detection. Please consider installing libmagic for better results.\n",
      "WARNING:root:'doc_id' is deprecated and 'id_' will be used instead\n",
      "WARNING:unstructured:libmagic is unavailable but assists in filetype detection. Please consider installing libmagic for better results.\n",
      "WARNING:root:'doc_id' is deprecated and 'id_' will be used instead\n",
      "WARNING:unstructured:libmagic is unavailable but assists in filetype detection. Please consider installing libmagic for better results.\n",
      "WARNING:root:'doc_id' is deprecated and 'id_' will be used instead\n",
      "WARNING:unstructured:libmagic is unavailable but assists in filetype detection. Please consider installing libmagic for better results.\n",
      "WARNING:root:'doc_id' is deprecated and 'id_' will be used instead\n",
      "WARNING:unstructured:libmagic is unavailable but assists in filetype detection. Please consider installing libmagic for better results.\n",
      "WARNING:root:'doc_id' is deprecated and 'id_' will be used instead\n",
      "WARNING:unstructured:libmagic is unavailable but assists in filetype detection. Please consider installing libmagic for better results.\n",
      "WARNING:root:'doc_id' is deprecated and 'id_' will be used instead\n"
     ]
    },
    {
     "name": "stdout",
     "output_type": "stream",
     "text": [
      "C:\\Users\\haoch\\Desktop\\GEO-bot-prototype\\Data\\Free_Format_Text\\Moving_Free_Format_Text.htm\n",
      "Idx 110/269\n",
      "C:\\Users\\haoch\\Desktop\\GEO-bot-prototype\\Data\\GEOGraph\\Add_a_Graph.htm\n",
      "Idx 111/269\n",
      "C:\\Users\\haoch\\Desktop\\GEO-bot-prototype\\Data\\GEOGraph\\GEOGraph_Introduction.htm\n",
      "Idx 112/269\n",
      "C:\\Users\\haoch\\Desktop\\GEO-bot-prototype\\Data\\Headers_and_Trailers\\Add_Headers_and_Trailers.htm\n",
      "Idx 113/269\n",
      "C:\\Users\\haoch\\Desktop\\GEO-bot-prototype\\Data\\Headers_and_Trailers\\Add_Header_Data.htm\n",
      "Idx 114/269\n",
      "C:\\Users\\haoch\\Desktop\\GEO-bot-prototype\\Data\\Headers_and_Trailers\\Fonts_for_Vector_Objects.htm\n",
      "Idx 115/269\n",
      "C:\\Users\\haoch\\Desktop\\GEO-bot-prototype\\Data\\Headers_and_Trailers\\Header_and_Trailer_Display_Hierarchy.htm\n",
      "Idx 116/269\n",
      "C:\\Users\\haoch\\Desktop\\GEO-bot-prototype\\Data\\Headers_and_Trailers\\Load_a_Header_or_Trailer.htm\n",
      "Idx 117/269\n",
      "C:\\Users\\haoch\\Desktop\\GEO-bot-prototype\\Data\\Headers_and_Trailers\\Selecting_Fonts.htm\n",
      "Idx 118/269\n"
     ]
    },
    {
     "name": "stderr",
     "output_type": "stream",
     "text": [
      "WARNING:unstructured:libmagic is unavailable but assists in filetype detection. Please consider installing libmagic for better results.\n",
      "WARNING:root:'doc_id' is deprecated and 'id_' will be used instead\n",
      "WARNING:unstructured:libmagic is unavailable but assists in filetype detection. Please consider installing libmagic for better results.\n",
      "WARNING:root:'doc_id' is deprecated and 'id_' will be used instead\n",
      "WARNING:unstructured:libmagic is unavailable but assists in filetype detection. Please consider installing libmagic for better results.\n",
      "WARNING:root:'doc_id' is deprecated and 'id_' will be used instead\n",
      "WARNING:unstructured:libmagic is unavailable but assists in filetype detection. Please consider installing libmagic for better results.\n",
      "WARNING:root:'doc_id' is deprecated and 'id_' will be used instead\n",
      "WARNING:unstructured:libmagic is unavailable but assists in filetype detection. Please consider installing libmagic for better results.\n",
      "WARNING:root:'doc_id' is deprecated and 'id_' will be used instead\n",
      "WARNING:unstructured:libmagic is unavailable but assists in filetype detection. Please consider installing libmagic for better results.\n",
      "WARNING:root:'doc_id' is deprecated and 'id_' will be used instead\n",
      "WARNING:unstructured:libmagic is unavailable but assists in filetype detection. Please consider installing libmagic for better results.\n",
      "WARNING:root:'doc_id' is deprecated and 'id_' will be used instead\n"
     ]
    },
    {
     "name": "stdout",
     "output_type": "stream",
     "text": [
      "C:\\Users\\haoch\\Desktop\\GEO-bot-prototype\\Data\\Headers_and_Trailers\\Mnemonics_for_Header_and_Trailers\\Mnemonics_in_G.htm\n",
      "Idx 119/269\n",
      "C:\\Users\\haoch\\Desktop\\GEO-bot-prototype\\Data\\Headers_and_Trailers\\Mnemonics_for_Header_and_Trailers\\System_Variables_in_Header_Mnemonics.htm\n",
      "Idx 120/269\n",
      "C:\\Users\\haoch\\Desktop\\GEO-bot-prototype\\Data\\Horizontal_Track_Text_-_Lithology_Descriptions_or_Remarks\\Add_Lithology_Descriptions_or_Remarks.htm\n",
      "Idx 121/269\n",
      "C:\\Users\\haoch\\Desktop\\GEO-bot-prototype\\Data\\Horizontal_Track_Text_-_Lithology_Descriptions_or_Remarks\\Delete_Lithology_Descriptions_and_Remarks.htm\n",
      "Idx 122/269\n",
      "C:\\Users\\haoch\\Desktop\\GEO-bot-prototype\\Data\\Horizontal_Track_Text_-_Lithology_Descriptions_or_Remarks\\Edit_Lithology_Descriptions_or_Remarks_Text.htm\n",
      "Idx 123/269\n",
      "C:\\Users\\haoch\\Desktop\\GEO-bot-prototype\\Data\\Horizontal_Track_Text_-_Lithology_Descriptions_or_Remarks\\Import_Lithology_Descriptions_and_Remarks_Text.htm\n",
      "Idx 124/269\n",
      "C:\\Users\\haoch\\Desktop\\GEO-bot-prototype\\Data\\Horizontal_Track_Text_-_Lithology_Descriptions_or_Remarks\\Move_Lithology_Descriptions_or_Remarks_Text.htm\n",
      "Idx 125/269\n"
     ]
    },
    {
     "name": "stderr",
     "output_type": "stream",
     "text": [
      "WARNING:unstructured:libmagic is unavailable but assists in filetype detection. Please consider installing libmagic for better results.\n",
      "WARNING:root:'doc_id' is deprecated and 'id_' will be used instead\n",
      "WARNING:unstructured:libmagic is unavailable but assists in filetype detection. Please consider installing libmagic for better results.\n",
      "WARNING:root:'doc_id' is deprecated and 'id_' will be used instead\n",
      "WARNING:unstructured:libmagic is unavailable but assists in filetype detection. Please consider installing libmagic for better results.\n",
      "WARNING:root:'doc_id' is deprecated and 'id_' will be used instead\n",
      "WARNING:unstructured:libmagic is unavailable but assists in filetype detection. Please consider installing libmagic for better results.\n",
      "WARNING:root:'doc_id' is deprecated and 'id_' will be used instead\n",
      "WARNING:unstructured:libmagic is unavailable but assists in filetype detection. Please consider installing libmagic for better results.\n",
      "WARNING:root:'doc_id' is deprecated and 'id_' will be used instead\n",
      "WARNING:unstructured:libmagic is unavailable but assists in filetype detection. Please consider installing libmagic for better results.\n",
      "WARNING:root:'doc_id' is deprecated and 'id_' will be used instead\n",
      "WARNING:unstructured:libmagic is unavailable but assists in filetype detection. Please consider installing libmagic for better results.\n",
      "WARNING:root:'doc_id' is deprecated and 'id_' will be used instead\n",
      "WARNING:unstructured:libmagic is unavailable but assists in filetype detection. Please consider installing libmagic for better results.\n",
      "WARNING:root:'doc_id' is deprecated and 'id_' will be used instead\n",
      "WARNING:unstructured:libmagic is unavailable but assists in filetype detection. Please consider installing libmagic for better results.\n",
      "WARNING:root:'doc_id' is deprecated and 'id_' will be used instead\n",
      "WARNING:unstructured:libmagic is unavailable but assists in filetype detection. Please consider installing libmagic for better results.\n",
      "WARNING:root:'doc_id' is deprecated and 'id_' will be used instead\n"
     ]
    },
    {
     "name": "stdout",
     "output_type": "stream",
     "text": [
      "C:\\Users\\haoch\\Desktop\\GEO-bot-prototype\\Data\\Introduction\\Application_Look.htm\n",
      "Idx 126/269\n",
      "C:\\Users\\haoch\\Desktop\\GEO-bot-prototype\\Data\\Introduction\\GEO_License_and_Version_Number.htm\n",
      "Idx 127/269\n",
      "C:\\Users\\haoch\\Desktop\\GEO-bot-prototype\\Data\\Introduction\\GEO_Limits.htm\n",
      "Idx 128/269\n",
      "C:\\Users\\haoch\\Desktop\\GEO-bot-prototype\\Data\\Introduction\\RUS_Rental_Dongle_Guide.htm\n",
      "Idx 129/269\n",
      "C:\\Users\\haoch\\Desktop\\GEO-bot-prototype\\Data\\Introduction\\System_Requirements.htm\n",
      "Idx 130/269\n",
      "C:\\Users\\haoch\\Desktop\\GEO-bot-prototype\\Data\\Lines\\Add_L.htm\n",
      "Idx 131/269\n",
      "C:\\Users\\haoch\\Desktop\\GEO-bot-prototype\\Data\\Lines\\Delete_Line.htm\n",
      "Idx 132/269\n",
      "C:\\Users\\haoch\\Desktop\\GEO-bot-prototype\\Data\\Lines\\Edit_Line.htm\n",
      "Idx 133/269\n",
      "C:\\Users\\haoch\\Desktop\\GEO-bot-prototype\\Data\\Lines\\Move_Line.htm\n",
      "Idx 134/269\n",
      "C:\\Users\\haoch\\Desktop\\GEO-bot-prototype\\Data\\Load_Curve_Data\\Append_Curve_Data.htm\n",
      "Idx 135/269\n"
     ]
    },
    {
     "name": "stderr",
     "output_type": "stream",
     "text": [
      "WARNING:unstructured:libmagic is unavailable but assists in filetype detection. Please consider installing libmagic for better results.\n",
      "WARNING:root:'doc_id' is deprecated and 'id_' will be used instead\n",
      "WARNING:unstructured:libmagic is unavailable but assists in filetype detection. Please consider installing libmagic for better results.\n",
      "WARNING:root:'doc_id' is deprecated and 'id_' will be used instead\n",
      "WARNING:unstructured:libmagic is unavailable but assists in filetype detection. Please consider installing libmagic for better results.\n",
      "WARNING:root:'doc_id' is deprecated and 'id_' will be used instead\n",
      "WARNING:unstructured:libmagic is unavailable but assists in filetype detection. Please consider installing libmagic for better results.\n",
      "WARNING:root:'doc_id' is deprecated and 'id_' will be used instead\n",
      "WARNING:unstructured:libmagic is unavailable but assists in filetype detection. Please consider installing libmagic for better results.\n",
      "WARNING:root:'doc_id' is deprecated and 'id_' will be used instead\n",
      "WARNING:unstructured:libmagic is unavailable but assists in filetype detection. Please consider installing libmagic for better results.\n",
      "WARNING:root:'doc_id' is deprecated and 'id_' will be used instead\n"
     ]
    },
    {
     "name": "stdout",
     "output_type": "stream",
     "text": [
      "C:\\Users\\haoch\\Desktop\\GEO-bot-prototype\\Data\\Load_Curve_Data\\Automatic_File_Load.htm\n",
      "Idx 136/269\n",
      "C:\\Users\\haoch\\Desktop\\GEO-bot-prototype\\Data\\Load_Curve_Data\\Comma_and_Tab-delimited_ASCII_Files.htm\n",
      "Idx 137/269\n",
      "C:\\Users\\haoch\\Desktop\\GEO-bot-prototype\\Data\\Load_Curve_Data\\Convert_LIS_to_LAS.htm\n",
      "Idx 138/269\n",
      "C:\\Users\\haoch\\Desktop\\GEO-bot-prototype\\Data\\Load_Curve_Data\\Data_Import_Wizard_Step_1.htm\n",
      "Idx 139/269\n",
      "C:\\Users\\haoch\\Desktop\\GEO-bot-prototype\\Data\\Load_Curve_Data\\General_Rules_of_Loadig_Data.htm\n",
      "Idx 140/269\n",
      "C:\\Users\\haoch\\Desktop\\GEO-bot-prototype\\Data\\Load_Curve_Data\\Loading_XML_Files_(WellLogML).htm\n",
      "Idx 141/269\n"
     ]
    },
    {
     "name": "stderr",
     "output_type": "stream",
     "text": [
      "WARNING:unstructured:libmagic is unavailable but assists in filetype detection. Please consider installing libmagic for better results.\n",
      "WARNING:root:'doc_id' is deprecated and 'id_' will be used instead\n",
      "WARNING:unstructured:libmagic is unavailable but assists in filetype detection. Please consider installing libmagic for better results.\n",
      "WARNING:root:'doc_id' is deprecated and 'id_' will be used instead\n",
      "WARNING:unstructured:libmagic is unavailable but assists in filetype detection. Please consider installing libmagic for better results.\n",
      "WARNING:root:'doc_id' is deprecated and 'id_' will be used instead\n",
      "WARNING:unstructured:libmagic is unavailable but assists in filetype detection. Please consider installing libmagic for better results.\n",
      "WARNING:root:'doc_id' is deprecated and 'id_' will be used instead\n",
      "WARNING:unstructured:libmagic is unavailable but assists in filetype detection. Please consider installing libmagic for better results.\n",
      "WARNING:root:'doc_id' is deprecated and 'id_' will be used instead\n",
      "WARNING:unstructured:libmagic is unavailable but assists in filetype detection. Please consider installing libmagic for better results.\n",
      "WARNING:root:'doc_id' is deprecated and 'id_' will be used instead\n",
      "WARNING:unstructured:libmagic is unavailable but assists in filetype detection. Please consider installing libmagic for better results.\n",
      "WARNING:root:'doc_id' is deprecated and 'id_' will be used instead\n"
     ]
    },
    {
     "name": "stdout",
     "output_type": "stream",
     "text": [
      "C:\\Users\\haoch\\Desktop\\GEO-bot-prototype\\Data\\Load_Curve_Data\\Load_Las_Curve_Data.htm\n",
      "Idx 142/269\n",
      "C:\\Users\\haoch\\Desktop\\GEO-bot-prototype\\Data\\Load_Curve_Data\\Load_Lis_or_Binary_Files.htm\n",
      "Idx 143/269\n",
      "C:\\Users\\haoch\\Desktop\\GEO-bot-prototype\\Data\\Load_Curve_Data\\Load_Space-delimited_ASCII_Files.htm\n",
      "Idx 144/269\n",
      "C:\\Users\\haoch\\Desktop\\GEO-bot-prototype\\Data\\Load_Curve_Data\\Load_Text_Curve_Data.htm\n",
      "Idx 145/269\n",
      "C:\\Users\\haoch\\Desktop\\GEO-bot-prototype\\Data\\Load_Curve_Data\\Types_of_Curve_Data.htm\n",
      "Idx 146/269\n",
      "C:\\Users\\haoch\\Desktop\\GEO-bot-prototype\\Data\\Log_Presentation_and_Layout\\Create_a_Qualitative_Track.htm\n",
      "Idx 147/269\n",
      "C:\\Users\\haoch\\Desktop\\GEO-bot-prototype\\Data\\Log_Presentation_and_Layout\\Create_Multiple_Layouts.htm\n",
      "Idx 148/269\n"
     ]
    },
    {
     "name": "stderr",
     "output_type": "stream",
     "text": [
      "WARNING:unstructured:libmagic is unavailable but assists in filetype detection. Please consider installing libmagic for better results.\n",
      "WARNING:root:'doc_id' is deprecated and 'id_' will be used instead\n",
      "WARNING:unstructured:libmagic is unavailable but assists in filetype detection. Please consider installing libmagic for better results.\n",
      "WARNING:root:'doc_id' is deprecated and 'id_' will be used instead\n",
      "WARNING:unstructured:libmagic is unavailable but assists in filetype detection. Please consider installing libmagic for better results.\n",
      "WARNING:root:'doc_id' is deprecated and 'id_' will be used instead\n",
      "WARNING:unstructured:libmagic is unavailable but assists in filetype detection. Please consider installing libmagic for better results.\n",
      "WARNING:root:'doc_id' is deprecated and 'id_' will be used instead\n",
      "WARNING:unstructured:libmagic is unavailable but assists in filetype detection. Please consider installing libmagic for better results.\n",
      "WARNING:root:'doc_id' is deprecated and 'id_' will be used instead\n",
      "WARNING:unstructured:libmagic is unavailable but assists in filetype detection. Please consider installing libmagic for better results.\n",
      "WARNING:root:'doc_id' is deprecated and 'id_' will be used instead\n",
      "WARNING:unstructured:libmagic is unavailable but assists in filetype detection. Please consider installing libmagic for better results.\n",
      "WARNING:root:'doc_id' is deprecated and 'id_' will be used instead\n",
      "WARNING:unstructured:libmagic is unavailable but assists in filetype detection. Please consider installing libmagic for better results.\n",
      "WARNING:root:'doc_id' is deprecated and 'id_' will be used instead\n"
     ]
    },
    {
     "name": "stdout",
     "output_type": "stream",
     "text": [
      "C:\\Users\\haoch\\Desktop\\GEO-bot-prototype\\Data\\Log_Presentation_and_Layout\\Create_Presentation_or_Track_Format.htm\n",
      "Idx 149/269\n",
      "C:\\Users\\haoch\\Desktop\\GEO-bot-prototype\\Data\\Log_Presentation_and_Layout\\Import_Qualitative_Data.htm\n",
      "Idx 150/269\n",
      "C:\\Users\\haoch\\Desktop\\GEO-bot-prototype\\Data\\Log_Presentation_and_Layout\\Layout_Items.htm\n",
      "Idx 151/269\n",
      "C:\\Users\\haoch\\Desktop\\GEO-bot-prototype\\Data\\Log_Presentation_and_Layout\\Manage_Layouts.htm\n",
      "Idx 152/269\n",
      "C:\\Users\\haoch\\Desktop\\GEO-bot-prototype\\Data\\Log_Presentation_and_Layout\\Shifting_Tracks.htm\n",
      "Idx 153/269\n",
      "C:\\Users\\haoch\\Desktop\\GEO-bot-prototype\\Data\\Log_Structure_and_Presentation\\Change_Plot_Index.htm\n",
      "Idx 154/269\n",
      "C:\\Users\\haoch\\Desktop\\GEO-bot-prototype\\Data\\Log_Structure_and_Presentation\\Date-Time_Formats.htm\n",
      "Idx 155/269\n",
      "C:\\Users\\haoch\\Desktop\\GEO-bot-prototype\\Data\\Log_Structure_and_Presentation\\Depth_tab_(for_Depth_Plots).htm\n",
      "Idx 156/269\n"
     ]
    },
    {
     "name": "stderr",
     "output_type": "stream",
     "text": [
      "WARNING:unstructured:libmagic is unavailable but assists in filetype detection. Please consider installing libmagic for better results.\n",
      "WARNING:root:'doc_id' is deprecated and 'id_' will be used instead\n",
      "WARNING:unstructured:libmagic is unavailable but assists in filetype detection. Please consider installing libmagic for better results.\n",
      "WARNING:root:'doc_id' is deprecated and 'id_' will be used instead\n",
      "WARNING:unstructured:libmagic is unavailable but assists in filetype detection. Please consider installing libmagic for better results.\n",
      "WARNING:root:'doc_id' is deprecated and 'id_' will be used instead\n",
      "WARNING:unstructured:libmagic is unavailable but assists in filetype detection. Please consider installing libmagic for better results.\n",
      "WARNING:root:'doc_id' is deprecated and 'id_' will be used instead\n",
      "WARNING:unstructured:libmagic is unavailable but assists in filetype detection. Please consider installing libmagic for better results.\n"
     ]
    },
    {
     "name": "stdout",
     "output_type": "stream",
     "text": [
      "C:\\Users\\haoch\\Desktop\\GEO-bot-prototype\\Data\\Log_Structure_and_Presentation\\Depth_Tab_(for_Time_Plots).htm\n",
      "Idx 157/269\n",
      "C:\\Users\\haoch\\Desktop\\GEO-bot-prototype\\Data\\Log_Structure_and_Presentation\\Global_Settings_for_Date-Time_Plots.htm\n",
      "Idx 158/269\n",
      "C:\\Users\\haoch\\Desktop\\GEO-bot-prototype\\Data\\Log_Structure_and_Presentation\\Global_Settings_for_Depth_Plots.htm\n",
      "Idx 159/269\n",
      "C:\\Users\\haoch\\Desktop\\GEO-bot-prototype\\Data\\Log_Structure_and_Presentation\\Interpreted_Lithology\\Add_Lithology.htm\n",
      "Idx 160/269\n",
      "C:\\Users\\haoch\\Desktop\\GEO-bot-prototype\\Data\\Log_Structure_and_Presentation\\Interpreted_Lithology\\Delete_Lithology.htm\n",
      "Idx 161/269\n"
     ]
    },
    {
     "name": "stderr",
     "output_type": "stream",
     "text": [
      "WARNING:root:'doc_id' is deprecated and 'id_' will be used instead\n",
      "WARNING:unstructured:libmagic is unavailable but assists in filetype detection. Please consider installing libmagic for better results.\n",
      "WARNING:root:'doc_id' is deprecated and 'id_' will be used instead\n",
      "WARNING:unstructured:libmagic is unavailable but assists in filetype detection. Please consider installing libmagic for better results.\n",
      "WARNING:root:'doc_id' is deprecated and 'id_' will be used instead\n",
      "WARNING:unstructured:libmagic is unavailable but assists in filetype detection. Please consider installing libmagic for better results.\n",
      "WARNING:root:'doc_id' is deprecated and 'id_' will be used instead\n",
      "WARNING:unstructured:libmagic is unavailable but assists in filetype detection. Please consider installing libmagic for better results.\n",
      "WARNING:root:'doc_id' is deprecated and 'id_' will be used instead\n",
      "WARNING:unstructured:libmagic is unavailable but assists in filetype detection. Please consider installing libmagic for better results.\n",
      "WARNING:root:'doc_id' is deprecated and 'id_' will be used instead\n",
      "WARNING:unstructured:libmagic is unavailable but assists in filetype detection. Please consider installing libmagic for better results.\n",
      "WARNING:root:'doc_id' is deprecated and 'id_' will be used instead\n"
     ]
    },
    {
     "name": "stdout",
     "output_type": "stream",
     "text": [
      "C:\\Users\\haoch\\Desktop\\GEO-bot-prototype\\Data\\Log_Structure_and_Presentation\\Interpreted_Lithology\\Edit_Lithology.htm\n",
      "Idx 162/269\n",
      "C:\\Users\\haoch\\Desktop\\GEO-bot-prototype\\Data\\Log_Structure_and_Presentation\\Templates_(ODT)\\Create_Template_using_Wizard.htm\n",
      "Idx 163/269\n",
      "C:\\Users\\haoch\\Desktop\\GEO-bot-prototype\\Data\\Modifiers_and_Qualifiers\\Add_Modifiers.htm\n",
      "Idx 164/269\n",
      "C:\\Users\\haoch\\Desktop\\GEO-bot-prototype\\Data\\Modifiers_and_Qualifiers\\Add_Qualifiers.htm\n",
      "Idx 165/269\n",
      "C:\\Users\\haoch\\Desktop\\GEO-bot-prototype\\Data\\Modifiers_and_Qualifiers\\Delete_modifier.htm\n",
      "Idx 166/269\n",
      "C:\\Users\\haoch\\Desktop\\GEO-bot-prototype\\Data\\Modifiers_and_Qualifiers\\Delete_Qualifiers.htm\n",
      "Idx 167/269\n"
     ]
    },
    {
     "name": "stderr",
     "output_type": "stream",
     "text": [
      "WARNING:unstructured:libmagic is unavailable but assists in filetype detection. Please consider installing libmagic for better results.\n",
      "WARNING:root:'doc_id' is deprecated and 'id_' will be used instead\n",
      "WARNING:unstructured:libmagic is unavailable but assists in filetype detection. Please consider installing libmagic for better results.\n",
      "WARNING:root:'doc_id' is deprecated and 'id_' will be used instead\n",
      "WARNING:unstructured:libmagic is unavailable but assists in filetype detection. Please consider installing libmagic for better results.\n",
      "WARNING:root:'doc_id' is deprecated and 'id_' will be used instead\n",
      "WARNING:unstructured:libmagic is unavailable but assists in filetype detection. Please consider installing libmagic for better results.\n",
      "WARNING:root:'doc_id' is deprecated and 'id_' will be used instead\n",
      "WARNING:unstructured:libmagic is unavailable but assists in filetype detection. Please consider installing libmagic for better results.\n",
      "WARNING:root:'doc_id' is deprecated and 'id_' will be used instead\n",
      "WARNING:unstructured:libmagic is unavailable but assists in filetype detection. Please consider installing libmagic for better results.\n",
      "WARNING:root:'doc_id' is deprecated and 'id_' will be used instead\n",
      "WARNING:unstructured:libmagic is unavailable but assists in filetype detection. Please consider installing libmagic for better results.\n",
      "WARNING:root:'doc_id' is deprecated and 'id_' will be used instead\n",
      "WARNING:unstructured:libmagic is unavailable but assists in filetype detection. Please consider installing libmagic for better results.\n",
      "WARNING:root:'doc_id' is deprecated and 'id_' will be used instead\n"
     ]
    },
    {
     "name": "stdout",
     "output_type": "stream",
     "text": [
      "C:\\Users\\haoch\\Desktop\\GEO-bot-prototype\\Data\\Modifiers_and_Qualifiers\\Move_Modifiers.htm\n",
      "Idx 168/269\n",
      "C:\\Users\\haoch\\Desktop\\GEO-bot-prototype\\Data\\Navigate_GEO\\GEO_Menu.htm\n",
      "Idx 169/269\n",
      "C:\\Users\\haoch\\Desktop\\GEO-bot-prototype\\Data\\Navigate_GEO\\Log_On_as_GEO_User.htm\n",
      "Idx 170/269\n",
      "C:\\Users\\haoch\\Desktop\\GEO-bot-prototype\\Data\\Navigate_GEO\\Quick_Access_Toolbar.htm\n",
      "Idx 171/269\n",
      "C:\\Users\\haoch\\Desktop\\GEO-bot-prototype\\Data\\Navigate_GEO\\Ribbons_Menu.htm\n",
      "Idx 172/269\n",
      "C:\\Users\\haoch\\Desktop\\GEO-bot-prototype\\Data\\Navigate_GEO\\Split_Screen_GEO.htm\n",
      "Idx 173/269\n",
      "C:\\Users\\haoch\\Desktop\\GEO-bot-prototype\\Data\\Navigate_GEO\\Starting_a_new_GEO_session.htm\n",
      "Idx 174/269\n",
      "C:\\Users\\haoch\\Desktop\\GEO-bot-prototype\\Data\\Navigate_GEO\\Status_Bar.htm\n",
      "Idx 175/269\n"
     ]
    },
    {
     "name": "stderr",
     "output_type": "stream",
     "text": [
      "WARNING:unstructured:libmagic is unavailable but assists in filetype detection. Please consider installing libmagic for better results.\n",
      "WARNING:root:'doc_id' is deprecated and 'id_' will be used instead\n",
      "WARNING:unstructured:libmagic is unavailable but assists in filetype detection. Please consider installing libmagic for better results.\n",
      "WARNING:root:'doc_id' is deprecated and 'id_' will be used instead\n",
      "WARNING:unstructured:libmagic is unavailable but assists in filetype detection. Please consider installing libmagic for better results.\n",
      "WARNING:root:'doc_id' is deprecated and 'id_' will be used instead\n",
      "WARNING:unstructured:libmagic is unavailable but assists in filetype detection. Please consider installing libmagic for better results.\n",
      "WARNING:root:'doc_id' is deprecated and 'id_' will be used instead\n",
      "WARNING:unstructured:libmagic is unavailable but assists in filetype detection. Please consider installing libmagic for better results.\n",
      "WARNING:root:'doc_id' is deprecated and 'id_' will be used instead\n"
     ]
    },
    {
     "name": "stdout",
     "output_type": "stream",
     "text": [
      "C:\\Users\\haoch\\Desktop\\GEO-bot-prototype\\Data\\Navigate_GEO\\Title_Bar.htm\n",
      "Idx 176/269\n",
      "C:\\Users\\haoch\\Desktop\\GEO-bot-prototype\\Data\\Percent_Lithology\\Add_Percent_Lithology.htm\n",
      "Idx 177/269\n",
      "C:\\Users\\haoch\\Desktop\\GEO-bot-prototype\\Data\\Percent_Lithology\\Add_Percent_Lithology_Descriptions.htm\n",
      "Idx 178/269\n",
      "C:\\Users\\haoch\\Desktop\\GEO-bot-prototype\\Data\\Percent_Lithology\\Export_Percent_Lithology_to_ASCII.htm\n",
      "Idx 179/269\n",
      "C:\\Users\\haoch\\Desktop\\GEO-bot-prototype\\Data\\Percent_Lithology\\Export_Percent_Lithology_to_LAS.htm\n",
      "Idx 180/269\n"
     ]
    },
    {
     "name": "stderr",
     "output_type": "stream",
     "text": [
      "WARNING:unstructured:libmagic is unavailable but assists in filetype detection. Please consider installing libmagic for better results.\n",
      "WARNING:root:'doc_id' is deprecated and 'id_' will be used instead\n",
      "WARNING:unstructured:libmagic is unavailable but assists in filetype detection. Please consider installing libmagic for better results.\n",
      "WARNING:root:'doc_id' is deprecated and 'id_' will be used instead\n",
      "WARNING:unstructured:libmagic is unavailable but assists in filetype detection. Please consider installing libmagic for better results.\n",
      "WARNING:root:'doc_id' is deprecated and 'id_' will be used instead\n",
      "WARNING:unstructured:libmagic is unavailable but assists in filetype detection. Please consider installing libmagic for better results.\n",
      "WARNING:root:'doc_id' is deprecated and 'id_' will be used instead\n",
      "WARNING:unstructured:libmagic is unavailable but assists in filetype detection. Please consider installing libmagic for better results.\n",
      "WARNING:root:'doc_id' is deprecated and 'id_' will be used instead\n",
      "WARNING:unstructured:libmagic is unavailable but assists in filetype detection. Please consider installing libmagic for better results.\n",
      "WARNING:root:'doc_id' is deprecated and 'id_' will be used instead\n",
      "WARNING:unstructured:libmagic is unavailable but assists in filetype detection. Please consider installing libmagic for better results.\n",
      "WARNING:root:'doc_id' is deprecated and 'id_' will be used instead\n",
      "WARNING:unstructured:libmagic is unavailable but assists in filetype detection. Please consider installing libmagic for better results.\n",
      "WARNING:root:'doc_id' is deprecated and 'id_' will be used instead\n"
     ]
    },
    {
     "name": "stdout",
     "output_type": "stream",
     "text": [
      "C:\\Users\\haoch\\Desktop\\GEO-bot-prototype\\Data\\Percent_Lithology\\Import_Percent_Lithology.htm\n",
      "Idx 181/269\n",
      "C:\\Users\\haoch\\Desktop\\GEO-bot-prototype\\Data\\Percent_Lithology\\Shape_Percent_Lithology_with_the_Mouse.htm\n",
      "Idx 182/269\n",
      "C:\\Users\\haoch\\Desktop\\GEO-bot-prototype\\Data\\Print\\Print.htm\n",
      "Idx 183/269\n",
      "C:\\Users\\haoch\\Desktop\\GEO-bot-prototype\\Data\\Print\\Print_to_PDF.htm\n",
      "Idx 184/269\n",
      "C:\\Users\\haoch\\Desktop\\GEO-bot-prototype\\Data\\Qualitative_Data\\Add_Qualitative_Data.htm\n",
      "Idx 185/269\n",
      "C:\\Users\\haoch\\Desktop\\GEO-bot-prototype\\Data\\Qualitative_Data\\Export_Qualitative_Data.htm\n",
      "Idx 186/269\n",
      "C:\\Users\\haoch\\Desktop\\GEO-bot-prototype\\Data\\Qualitative_Data\\Import_Qualitative_Data.htm\n",
      "Idx 187/269\n",
      "C:\\Users\\haoch\\Desktop\\GEO-bot-prototype\\Data\\Rich_Format_Text\\Align_Text.htm\n",
      "Idx 188/269\n"
     ]
    },
    {
     "name": "stderr",
     "output_type": "stream",
     "text": [
      "WARNING:unstructured:libmagic is unavailable but assists in filetype detection. Please consider installing libmagic for better results.\n",
      "WARNING:root:'doc_id' is deprecated and 'id_' will be used instead\n",
      "WARNING:unstructured:libmagic is unavailable but assists in filetype detection. Please consider installing libmagic for better results.\n",
      "WARNING:root:'doc_id' is deprecated and 'id_' will be used instead\n",
      "WARNING:unstructured:libmagic is unavailable but assists in filetype detection. Please consider installing libmagic for better results.\n",
      "WARNING:root:'doc_id' is deprecated and 'id_' will be used instead\n",
      "WARNING:unstructured:libmagic is unavailable but assists in filetype detection. Please consider installing libmagic for better results.\n",
      "WARNING:root:'doc_id' is deprecated and 'id_' will be used instead\n",
      "WARNING:unstructured:libmagic is unavailable but assists in filetype detection. Please consider installing libmagic for better results.\n",
      "WARNING:root:'doc_id' is deprecated and 'id_' will be used instead\n",
      "WARNING:unstructured:libmagic is unavailable but assists in filetype detection. Please consider installing libmagic for better results.\n",
      "WARNING:root:'doc_id' is deprecated and 'id_' will be used instead\n",
      "WARNING:unstructured:libmagic is unavailable but assists in filetype detection. Please consider installing libmagic for better results.\n",
      "WARNING:root:'doc_id' is deprecated and 'id_' will be used instead\n",
      "WARNING:unstructured:libmagic is unavailable but assists in filetype detection. Please consider installing libmagic for better results.\n",
      "WARNING:root:'doc_id' is deprecated and 'id_' will be used instead\n"
     ]
    },
    {
     "name": "stdout",
     "output_type": "stream",
     "text": [
      "C:\\Users\\haoch\\Desktop\\GEO-bot-prototype\\Data\\Rich_Format_Text\\Apply_Highlighting.htm\n",
      "Idx 189/269\n",
      "C:\\Users\\haoch\\Desktop\\GEO-bot-prototype\\Data\\Rich_Format_Text\\Change_Indents_and_Spacing.htm\n",
      "Idx 190/269\n",
      "C:\\Users\\haoch\\Desktop\\GEO-bot-prototype\\Data\\Rich_Format_Text\\Change_Text_Line_Spacing.htm\n",
      "Idx 191/269\n",
      "C:\\Users\\haoch\\Desktop\\GEO-bot-prototype\\Data\\Rich_Format_Text\\Change_the_Font_Color.htm\n",
      "Idx 192/269\n",
      "C:\\Users\\haoch\\Desktop\\GEO-bot-prototype\\Data\\Rich_Format_Text\\Change_the_Font_Family.htm\n",
      "Idx 193/269\n",
      "C:\\Users\\haoch\\Desktop\\GEO-bot-prototype\\Data\\Rich_Format_Text\\Change_the_Font_Size.htm\n",
      "Idx 194/269\n",
      "C:\\Users\\haoch\\Desktop\\GEO-bot-prototype\\Data\\Rich_Format_Text\\Format_Text_Using_the_Format_Text_Tab.htm\n",
      "Idx 195/269\n",
      "C:\\Users\\haoch\\Desktop\\GEO-bot-prototype\\Data\\Rich_Format_Text\\Format_Text_Using_the_Rich_Edit_Control.htm\n",
      "Idx 196/269\n"
     ]
    },
    {
     "name": "stderr",
     "output_type": "stream",
     "text": [
      "WARNING:unstructured:libmagic is unavailable but assists in filetype detection. Please consider installing libmagic for better results.\n",
      "WARNING:root:'doc_id' is deprecated and 'id_' will be used instead\n",
      "WARNING:unstructured:libmagic is unavailable but assists in filetype detection. Please consider installing libmagic for better results.\n",
      "WARNING:root:'doc_id' is deprecated and 'id_' will be used instead\n",
      "WARNING:unstructured:libmagic is unavailable but assists in filetype detection. Please consider installing libmagic for better results.\n",
      "WARNING:root:'doc_id' is deprecated and 'id_' will be used instead\n",
      "WARNING:unstructured:libmagic is unavailable but assists in filetype detection. Please consider installing libmagic for better results.\n",
      "WARNING:root:'doc_id' is deprecated and 'id_' will be used instead\n",
      "WARNING:unstructured:libmagic is unavailable but assists in filetype detection. Please consider installing libmagic for better results.\n",
      "WARNING:root:'doc_id' is deprecated and 'id_' will be used instead\n",
      "WARNING:unstructured:libmagic is unavailable but assists in filetype detection. Please consider installing libmagic for better results.\n",
      "WARNING:root:'doc_id' is deprecated and 'id_' will be used instead\n",
      "WARNING:unstructured:libmagic is unavailable but assists in filetype detection. Please consider installing libmagic for better results.\n",
      "WARNING:root:'doc_id' is deprecated and 'id_' will be used instead\n",
      "WARNING:unstructured:libmagic is unavailable but assists in filetype detection. Please consider installing libmagic for better results.\n",
      "WARNING:root:'doc_id' is deprecated and 'id_' will be used instead\n",
      "WARNING:unstructured:libmagic is unavailable but assists in filetype detection. Please consider installing libmagic for better results.\n",
      "WARNING:root:'doc_id' is deprecated and 'id_' will be used instead\n",
      "WARNING:unstructured:libmagic is unavailable but assists in filetype detection. Please consider installing libmagic for better results.\n",
      "WARNING:root:'doc_id' is deprecated and 'id_' will be used instead\n",
      "WARNING:unstructured:libmagic is unavailable but assists in filetype detection. Please consider installing libmagic for better results.\n",
      "WARNING:root:'doc_id' is deprecated and 'id_' will be used instead\n"
     ]
    },
    {
     "name": "stdout",
     "output_type": "stream",
     "text": [
      "C:\\Users\\haoch\\Desktop\\GEO-bot-prototype\\Data\\Rich_Format_Text\\Insert_a_Subscript_Character.htm\n",
      "Idx 197/269\n",
      "C:\\Users\\haoch\\Desktop\\GEO-bot-prototype\\Data\\Rich_Format_Text\\Insert_a_Superscript_Character.htm\n",
      "Idx 198/269\n",
      "C:\\Users\\haoch\\Desktop\\GEO-bot-prototype\\Data\\Rich_Format_Text\\Make_the_Text_Bold.htm\n",
      "Idx 199/269\n",
      "C:\\Users\\haoch\\Desktop\\GEO-bot-prototype\\Data\\Rich_Format_Text\\Make_the_Text_Italic.htm\n",
      "Idx 200/269\n",
      "C:\\Users\\haoch\\Desktop\\GEO-bot-prototype\\Data\\Rich_Format_Text\\Start_a_List.htm\n",
      "Idx 201/269\n",
      "C:\\Users\\haoch\\Desktop\\GEO-bot-prototype\\Data\\Rich_Format_Text\\Strikethrough_the_Text.htm\n",
      "Idx 202/269\n",
      "C:\\Users\\haoch\\Desktop\\GEO-bot-prototype\\Data\\Rich_Format_Text\\Underline_Text.htm\n",
      "Idx 203/269\n",
      "C:\\Users\\haoch\\Desktop\\GEO-bot-prototype\\Data\\Sharing\\e-View_Enable_an_ODF.htm\n",
      "Idx 204/269\n",
      "C:\\Users\\haoch\\Desktop\\GEO-bot-prototype\\Data\\Sharing\\Event_Log.htm\n",
      "Idx 205/269\n",
      "C:\\Users\\haoch\\Desktop\\GEO-bot-prototype\\Data\\Sharing\\Jumping_to_a_certain_depth.htm\n",
      "Idx 206/269\n",
      "C:\\Users\\haoch\\Desktop\\GEO-bot-prototype\\Data\\Sharing\\Login_for_Access_to_Document.htm\n",
      "Idx 207/269\n"
     ]
    },
    {
     "name": "stderr",
     "output_type": "stream",
     "text": [
      "WARNING:unstructured:libmagic is unavailable but assists in filetype detection. Please consider installing libmagic for better results.\n",
      "WARNING:root:'doc_id' is deprecated and 'id_' will be used instead\n",
      "WARNING:unstructured:libmagic is unavailable but assists in filetype detection. Please consider installing libmagic for better results.\n",
      "WARNING:root:'doc_id' is deprecated and 'id_' will be used instead\n",
      "WARNING:unstructured:libmagic is unavailable but assists in filetype detection. Please consider installing libmagic for better results.\n",
      "WARNING:root:'doc_id' is deprecated and 'id_' will be used instead\n",
      "WARNING:unstructured:libmagic is unavailable but assists in filetype detection. Please consider installing libmagic for better results.\n",
      "WARNING:root:'doc_id' is deprecated and 'id_' will be used instead\n",
      "WARNING:unstructured:libmagic is unavailable but assists in filetype detection. Please consider installing libmagic for better results.\n",
      "WARNING:root:'doc_id' is deprecated and 'id_' will be used instead\n",
      "WARNING:unstructured:libmagic is unavailable but assists in filetype detection. Please consider installing libmagic for better results.\n",
      "WARNING:root:'doc_id' is deprecated and 'id_' will be used instead\n",
      "WARNING:unstructured:libmagic is unavailable but assists in filetype detection. Please consider installing libmagic for better results.\n",
      "WARNING:root:'doc_id' is deprecated and 'id_' will be used instead\n"
     ]
    },
    {
     "name": "stdout",
     "output_type": "stream",
     "text": [
      "C:\\Users\\haoch\\Desktop\\GEO-bot-prototype\\Data\\Sharing\\Protecting_your_ODF_File.htm\n",
      "Idx 208/269\n",
      "C:\\Users\\haoch\\Desktop\\GEO-bot-prototype\\Data\\Sharing\\Create_a_Report_Link_to_an_Object_in_the_Log\\Links_Mana.htm\n",
      "Idx 209/269\n",
      "C:\\Users\\haoch\\Desktop\\GEO-bot-prototype\\Data\\Sharing\\Create_a_Report_Link_to_an_Object_in_the_Log\\Object_Links_in_GEO.htm\n",
      "Idx 210/269\n",
      "C:\\Users\\haoch\\Desktop\\GEO-bot-prototype\\Data\\Sharing\\Export_Data_and_Information\\Baggage_File_Mana.htm\n",
      "Idx 211/269\n",
      "C:\\Users\\haoch\\Desktop\\GEO-bot-prototype\\Data\\Sharing\\Export_Data_and_Information\\Export_All_Other_Data_(except_curve_data).htm\n",
      "Idx 212/269\n",
      "C:\\Users\\haoch\\Desktop\\GEO-bot-prototype\\Data\\Sharing\\Export_Data_and_Information\\Export_Baggage_and_Library.htm\n",
      "Idx 213/269\n",
      "C:\\Users\\haoch\\Desktop\\GEO-bot-prototype\\Data\\Sharing\\Export_Data_and_Information\\Export_Curve_Data.htm\n",
      "Idx 214/269\n"
     ]
    },
    {
     "name": "stderr",
     "output_type": "stream",
     "text": [
      "WARNING:unstructured:libmagic is unavailable but assists in filetype detection. Please consider installing libmagic for better results.\n",
      "WARNING:root:'doc_id' is deprecated and 'id_' will be used instead\n",
      "WARNING:unstructured:libmagic is unavailable but assists in filetype detection. Please consider installing libmagic for better results.\n",
      "WARNING:root:'doc_id' is deprecated and 'id_' will be used instead\n",
      "WARNING:unstructured:libmagic is unavailable but assists in filetype detection. Please consider installing libmagic for better results.\n",
      "WARNING:root:'doc_id' is deprecated and 'id_' will be used instead\n",
      "WARNING:unstructured:libmagic is unavailable but assists in filetype detection. Please consider installing libmagic for better results.\n",
      "WARNING:root:'doc_id' is deprecated and 'id_' will be used instead\n",
      "WARNING:unstructured:libmagic is unavailable but assists in filetype detection. Please consider installing libmagic for better results.\n",
      "WARNING:root:'doc_id' is deprecated and 'id_' will be used instead\n",
      "WARNING:unstructured:libmagic is unavailable but assists in filetype detection. Please consider installing libmagic for better results.\n",
      "WARNING:root:'doc_id' is deprecated and 'id_' will be used instead\n",
      "WARNING:unstructured:libmagic is unavailable but assists in filetype detection. Please consider installing libmagic for better results.\n",
      "WARNING:root:'doc_id' is deprecated and 'id_' will be used instead\n",
      "WARNING:unstructured:libmagic is unavailable but assists in filetype detection. Please consider installing libmagic for better results.\n",
      "WARNING:root:'doc_id' is deprecated and 'id_' will be used instead\n",
      "WARNING:unstructured:libmagic is unavailable but assists in filetype detection. Please consider installing libmagic for better results.\n"
     ]
    },
    {
     "name": "stdout",
     "output_type": "stream",
     "text": [
      "C:\\Users\\haoch\\Desktop\\GEO-bot-prototype\\Data\\Sharing\\Export_Data_and_Information\\Export_Curve_Data_to_XML_Format.htm\n",
      "Idx 215/269\n",
      "C:\\Users\\haoch\\Desktop\\GEO-bot-prototype\\Data\\Sharing\\Export_Data_and_Information\\Export_Data_to_WitsML.htm\n",
      "Idx 216/269\n",
      "C:\\Users\\haoch\\Desktop\\GEO-bot-prototype\\Data\\Sharing\\Export_Data_and_Information\\Export_to_Image_File\\Export_GEO_Plot_as_Image.htm\n",
      "Idx 217/269\n",
      "C:\\Users\\haoch\\Desktop\\GEO-bot-prototype\\Data\\Sharing\\Export_Data_and_Information\\Export_to_Image_File\\Export_GEO_Plot_to_CGM.htm\n",
      "Idx 218/269\n",
      "C:\\Users\\haoch\\Desktop\\GEO-bot-prototype\\Data\\Sharing\\Export_Data_and_Information\\Export_to_Image_File\\Export_GEO_Plot_to_EM.htm\n",
      "Idx 219/269\n",
      "C:\\Users\\haoch\\Desktop\\GEO-bot-prototype\\Data\\Sharing\\Export_Data_and_Information\\Export_to_Image_File\\Export_GEO_Plot_to_SVG.htm\n",
      "Idx 220/269\n",
      "C:\\Users\\haoch\\Desktop\\GEO-bot-prototype\\Data\\Sharing\\Export_Data_and_Information\\Export_to_Image_File\\Export_GEO_Plot_to_TIFF.htm\n",
      "Idx 221/269\n",
      "C:\\Users\\haoch\\Desktop\\GEO-bot-prototype\\Data\\Sharing\\Export_Data_and_Information\\Export_to_Image_File\\Export_GEO_Plot_to_WMF.htm\n",
      "Idx 222/269\n",
      "C:\\Users\\haoch\\Desktop\\GEO-bot-prototype\\Data\\Sharing\\Export_Data_and_Information\\Export_to_Image_File\\Export_to_HTM.htm\n",
      "Idx 223/269\n"
     ]
    },
    {
     "name": "stderr",
     "output_type": "stream",
     "text": [
      "WARNING:root:'doc_id' is deprecated and 'id_' will be used instead\n",
      "WARNING:unstructured:libmagic is unavailable but assists in filetype detection. Please consider installing libmagic for better results.\n",
      "WARNING:root:'doc_id' is deprecated and 'id_' will be used instead\n",
      "WARNING:unstructured:libmagic is unavailable but assists in filetype detection. Please consider installing libmagic for better results.\n",
      "WARNING:root:'doc_id' is deprecated and 'id_' will be used instead\n",
      "WARNING:unstructured:libmagic is unavailable but assists in filetype detection. Please consider installing libmagic for better results.\n",
      "WARNING:root:'doc_id' is deprecated and 'id_' will be used instead\n",
      "WARNING:unstructured:libmagic is unavailable but assists in filetype detection. Please consider installing libmagic for better results.\n",
      "WARNING:root:'doc_id' is deprecated and 'id_' will be used instead\n",
      "WARNING:unstructured:libmagic is unavailable but assists in filetype detection. Please consider installing libmagic for better results.\n",
      "WARNING:root:'doc_id' is deprecated and 'id_' will be used instead\n",
      "WARNING:unstructured:libmagic is unavailable but assists in filetype detection. Please consider installing libmagic for better results.\n",
      "WARNING:root:'doc_id' is deprecated and 'id_' will be used instead\n",
      "WARNING:unstructured:libmagic is unavailable but assists in filetype detection. Please consider installing libmagic for better results.\n",
      "WARNING:root:'doc_id' is deprecated and 'id_' will be used instead\n",
      "WARNING:unstructured:libmagic is unavailable but assists in filetype detection. Please consider installing libmagic for better results.\n",
      "WARNING:root:'doc_id' is deprecated and 'id_' will be used instead\n",
      "WARNING:unstructured:libmagic is unavailable but assists in filetype detection. Please consider installing libmagic for better results.\n",
      "WARNING:root:'doc_id' is deprecated and 'id_' will be used instead\n",
      "WARNING:unstructured:libmagic is unavailable but assists in filetype detection. Please consider installing libmagic for better results.\n",
      "WARNING:root:'doc_id' is deprecated and 'id_' will be used instead\n",
      "WARNING:unstructured:libmagic is unavailable but assists in filetype detection. Please consider installing libmagic for better results.\n",
      "WARNING:root:'doc_id' is deprecated and 'id_' will be used instead\n"
     ]
    },
    {
     "name": "stdout",
     "output_type": "stream",
     "text": [
      "C:\\Users\\haoch\\Desktop\\GEO-bot-prototype\\Data\\Sharing\\ODF_Update_File_(OUF))\\Concept_of_ODF_Update_File_(OUF).htm\n",
      "Idx 224/269\n",
      "C:\\Users\\haoch\\Desktop\\GEO-bot-prototype\\Data\\Sharing\\ODF_Update_File_(OUF))\\Create_or_Save_an_OU.htm\n",
      "Idx 225/269\n",
      "C:\\Users\\haoch\\Desktop\\GEO-bot-prototype\\Data\\Sharing\\ODF_Update_File_(OUF))\\Load_OUF_Files.htm\n",
      "Idx 226/269\n",
      "C:\\Users\\haoch\\Desktop\\GEO-bot-prototype\\Data\\Sharing\\ODF_Update_File_(OUF))\\OUF_Auto_merging.htm\n",
      "Idx 227/269\n",
      "C:\\Users\\haoch\\Desktop\\GEO-bot-prototype\\Data\\Sharing\\ODF_Update_File_(OUF))\\OUF_Resave_Feature.htm\n",
      "Idx 228/269\n",
      "C:\\Users\\haoch\\Desktop\\GEO-bot-prototype\\Data\\Sharing\\ODF_Update_File_(OUF))\\Send_OUF_as_mail_attachment.htm\n",
      "Idx 229/269\n",
      "C:\\Users\\haoch\\Desktop\\GEO-bot-prototype\\Data\\Sharing\\Publish_ODF_to_Web_Folder\\VUF_File_Transfe.htm\n",
      "Idx 230/269\n",
      "C:\\Users\\haoch\\Desktop\\GEO-bot-prototype\\Data\\Sidetrack\\Create_Sidetrac.htm\n",
      "Idx 231/269\n",
      "C:\\Users\\haoch\\Desktop\\GEO-bot-prototype\\Data\\Symbols\\Add_Symbols.htm\n",
      "Idx 232/269\n",
      "C:\\Users\\haoch\\Desktop\\GEO-bot-prototype\\Data\\Symbols\\Delete_Symbol.htm\n",
      "Idx 233/269\n",
      "C:\\Users\\haoch\\Desktop\\GEO-bot-prototype\\Data\\Symbols\\Move_Symbol.htm\n",
      "Idx 234/269\n"
     ]
    },
    {
     "name": "stderr",
     "output_type": "stream",
     "text": [
      "WARNING:unstructured:libmagic is unavailable but assists in filetype detection. Please consider installing libmagic for better results.\n",
      "WARNING:root:'doc_id' is deprecated and 'id_' will be used instead\n",
      "WARNING:unstructured:libmagic is unavailable but assists in filetype detection. Please consider installing libmagic for better results.\n",
      "WARNING:root:'doc_id' is deprecated and 'id_' will be used instead\n",
      "WARNING:unstructured:libmagic is unavailable but assists in filetype detection. Please consider installing libmagic for better results.\n",
      "WARNING:root:'doc_id' is deprecated and 'id_' will be used instead\n",
      "WARNING:unstructured:libmagic is unavailable but assists in filetype detection. Please consider installing libmagic for better results.\n",
      "WARNING:root:'doc_id' is deprecated and 'id_' will be used instead\n",
      "WARNING:unstructured:libmagic is unavailable but assists in filetype detection. Please consider installing libmagic for better results.\n",
      "WARNING:root:'doc_id' is deprecated and 'id_' will be used instead\n",
      "WARNING:unstructured:libmagic is unavailable but assists in filetype detection. Please consider installing libmagic for better results.\n",
      "WARNING:root:'doc_id' is deprecated and 'id_' will be used instead\n",
      "WARNING:unstructured:libmagic is unavailable but assists in filetype detection. Please consider installing libmagic for better results.\n"
     ]
    },
    {
     "name": "stdout",
     "output_type": "stream",
     "text": [
      "C:\\Users\\haoch\\Desktop\\GEO-bot-prototype\\Data\\Tables\\Add_Table_Data.htm\n",
      "Idx 235/269\n",
      "C:\\Users\\haoch\\Desktop\\GEO-bot-prototype\\Data\\Tables\\Create_or_Amend_Table_Templates.htm\n",
      "Idx 236/269\n",
      "C:\\Users\\haoch\\Desktop\\GEO-bot-prototype\\Data\\Tables\\Export_Table.htm\n",
      "Idx 237/269\n",
      "C:\\Users\\haoch\\Desktop\\GEO-bot-prototype\\Data\\Tables\\Geotable.htm\n",
      "Idx 238/269\n",
      "C:\\Users\\haoch\\Desktop\\GEO-bot-prototype\\Data\\Tables\\Import_table_data.htm\n",
      "Idx 239/269\n",
      "C:\\Users\\haoch\\Desktop\\GEO-bot-prototype\\Data\\Tables\\Navigate_Table_Definitions.htm\n",
      "Idx 240/269\n",
      "C:\\Users\\haoch\\Desktop\\GEO-bot-prototype\\Data\\Tables\\Place_Symbols_from_Table_Data.htm\n",
      "Idx 241/269\n"
     ]
    },
    {
     "name": "stderr",
     "output_type": "stream",
     "text": [
      "WARNING:root:'doc_id' is deprecated and 'id_' will be used instead\n",
      "WARNING:unstructured:libmagic is unavailable but assists in filetype detection. Please consider installing libmagic for better results.\n",
      "WARNING:root:'doc_id' is deprecated and 'id_' will be used instead\n",
      "WARNING:unstructured:libmagic is unavailable but assists in filetype detection. Please consider installing libmagic for better results.\n",
      "WARNING:root:'doc_id' is deprecated and 'id_' will be used instead\n",
      "WARNING:unstructured:libmagic is unavailable but assists in filetype detection. Please consider installing libmagic for better results.\n",
      "WARNING:root:'doc_id' is deprecated and 'id_' will be used instead\n",
      "WARNING:unstructured:libmagic is unavailable but assists in filetype detection. Please consider installing libmagic for better results.\n",
      "WARNING:root:'doc_id' is deprecated and 'id_' will be used instead\n",
      "WARNING:unstructured:libmagic is unavailable but assists in filetype detection. Please consider installing libmagic for better results.\n",
      "WARNING:root:'doc_id' is deprecated and 'id_' will be used instead\n",
      "WARNING:unstructured:libmagic is unavailable but assists in filetype detection. Please consider installing libmagic for better results.\n",
      "WARNING:root:'doc_id' is deprecated and 'id_' will be used instead\n",
      "WARNING:unstructured:libmagic is unavailable but assists in filetype detection. Please consider installing libmagic for better results.\n",
      "WARNING:root:'doc_id' is deprecated and 'id_' will be used instead\n",
      "WARNING:unstructured:libmagic is unavailable but assists in filetype detection. Please consider installing libmagic for better results.\n",
      "WARNING:root:'doc_id' is deprecated and 'id_' will be used instead\n",
      "WARNING:unstructured:libmagic is unavailable but assists in filetype detection. Please consider installing libmagic for better results.\n",
      "WARNING:root:'doc_id' is deprecated and 'id_' will be used instead\n",
      "WARNING:unstructured:libmagic is unavailable but assists in filetype detection. Please consider installing libmagic for better results.\n",
      "WARNING:root:'doc_id' is deprecated and 'id_' will be used instead\n"
     ]
    },
    {
     "name": "stdout",
     "output_type": "stream",
     "text": [
      "C:\\Users\\haoch\\Desktop\\GEO-bot-prototype\\Data\\Tables\\Replacing_an_Old_Table_Template_with_a_New_One.htm\n",
      "Idx 242/269\n",
      "C:\\Users\\haoch\\Desktop\\GEO-bot-prototype\\Data\\Text_and_Annotations\\Geological_Dictionary.htm\n",
      "Idx 243/269\n",
      "C:\\Users\\haoch\\Desktop\\GEO-bot-prototype\\Data\\Text_and_Annotations\\Spell_Check.htm\n",
      "Idx 244/269\n",
      "C:\\Users\\haoch\\Desktop\\GEO-bot-prototype\\Data\\Touch_Screen_Devices\\Touch_Screen_Devices.htm\n",
      "Idx 245/269\n",
      "C:\\Users\\haoch\\Desktop\\GEO-bot-prototype\\Data\\TVD\\Index_Convertor.htm\n",
      "Idx 246/269\n",
      "C:\\Users\\haoch\\Desktop\\GEO-bot-prototype\\Data\\TVD\\Presenting_TVD.htm\n",
      "Idx 247/269\n",
      "C:\\Users\\haoch\\Desktop\\GEO-bot-prototype\\Data\\Vertical_Track_Text_-_Chronological or Stratigraphic\\Add_Chronological_or_Stratigraphic_Text.htm\n",
      "Idx 248/269\n",
      "C:\\Users\\haoch\\Desktop\\GEO-bot-prototype\\Data\\Vertical_Track_Text_-_Chronological or Stratigraphic\\Adjust_Depth_Range_of_Chronological_or_Stratigraphic_text.htm\n",
      "Idx 249/269\n",
      "C:\\Users\\haoch\\Desktop\\GEO-bot-prototype\\Data\\Vertical_Track_Text_-_Chronological or Stratigraphic\\Delete_Chronological_or_Stratigraphic_Text.htm\n",
      "Idx 250/269\n",
      "C:\\Users\\haoch\\Desktop\\GEO-bot-prototype\\Data\\Vertical_Track_Text_-_Chronological or Stratigraphic\\Edit_Chronological_and_Stratigraphic_Text.htm\n",
      "Idx 251/269\n"
     ]
    },
    {
     "name": "stderr",
     "output_type": "stream",
     "text": [
      "WARNING:unstructured:libmagic is unavailable but assists in filetype detection. Please consider installing libmagic for better results.\n",
      "WARNING:root:'doc_id' is deprecated and 'id_' will be used instead\n",
      "WARNING:unstructured:libmagic is unavailable but assists in filetype detection. Please consider installing libmagic for better results.\n",
      "WARNING:root:'doc_id' is deprecated and 'id_' will be used instead\n",
      "WARNING:unstructured:libmagic is unavailable but assists in filetype detection. Please consider installing libmagic for better results.\n",
      "WARNING:root:'doc_id' is deprecated and 'id_' will be used instead\n",
      "WARNING:unstructured:libmagic is unavailable but assists in filetype detection. Please consider installing libmagic for better results.\n",
      "WARNING:root:'doc_id' is deprecated and 'id_' will be used instead\n",
      "WARNING:unstructured:libmagic is unavailable but assists in filetype detection. Please consider installing libmagic for better results.\n",
      "WARNING:root:'doc_id' is deprecated and 'id_' will be used instead\n",
      "WARNING:unstructured:libmagic is unavailable but assists in filetype detection. Please consider installing libmagic for better results.\n",
      "WARNING:root:'doc_id' is deprecated and 'id_' will be used instead\n",
      "WARNING:unstructured:libmagic is unavailable but assists in filetype detection. Please consider installing libmagic for better results.\n",
      "WARNING:root:'doc_id' is deprecated and 'id_' will be used instead\n"
     ]
    },
    {
     "name": "stdout",
     "output_type": "stream",
     "text": [
      "C:\\Users\\haoch\\Desktop\\GEO-bot-prototype\\Data\\Vertical_Track_Text_-_Chronological or Stratigraphic\\Manage_Stratigraphy.htm\n",
      "Idx 252/269\n",
      "C:\\Users\\haoch\\Desktop\\GEO-bot-prototype\\Data\\VOB_Files\\Concept_of_Vector_Objects_(VOB).htm\n",
      "Idx 253/269\n",
      "C:\\Users\\haoch\\Desktop\\GEO-bot-prototype\\Data\\VOB_Files\\Vector_Object_Language_Compiler_(VLCP).htm\n",
      "Idx 254/269\n",
      "C:\\Users\\haoch\\Desktop\\GEO-bot-prototype\\Data\\Working_with_Files\\Close_an_ODF.htm\n",
      "Idx 255/269\n",
      "C:\\Users\\haoch\\Desktop\\GEO-bot-prototype\\Data\\Working_with_Files\\Files_in_GEO.htm\n",
      "Idx 256/269\n",
      "C:\\Users\\haoch\\Desktop\\GEO-bot-prototype\\Data\\Working_with_Files\\File_Types_Handled_by_GEO.htm\n",
      "Idx 257/269\n",
      "C:\\Users\\haoch\\Desktop\\GEO-bot-prototype\\Data\\Working_with_Files\\Load_a_VEW_File.htm\n",
      "Idx 258/269\n"
     ]
    },
    {
     "name": "stderr",
     "output_type": "stream",
     "text": [
      "WARNING:unstructured:libmagic is unavailable but assists in filetype detection. Please consider installing libmagic for better results.\n",
      "WARNING:root:'doc_id' is deprecated and 'id_' will be used instead\n",
      "WARNING:unstructured:libmagic is unavailable but assists in filetype detection. Please consider installing libmagic for better results.\n",
      "WARNING:root:'doc_id' is deprecated and 'id_' will be used instead\n",
      "WARNING:unstructured:libmagic is unavailable but assists in filetype detection. Please consider installing libmagic for better results.\n",
      "WARNING:root:'doc_id' is deprecated and 'id_' will be used instead\n",
      "WARNING:unstructured:libmagic is unavailable but assists in filetype detection. Please consider installing libmagic for better results.\n",
      "WARNING:root:'doc_id' is deprecated and 'id_' will be used instead\n",
      "WARNING:unstructured:libmagic is unavailable but assists in filetype detection. Please consider installing libmagic for better results.\n",
      "WARNING:root:'doc_id' is deprecated and 'id_' will be used instead\n",
      "WARNING:unstructured:libmagic is unavailable but assists in filetype detection. Please consider installing libmagic for better results.\n",
      "WARNING:root:'doc_id' is deprecated and 'id_' will be used instead\n",
      "WARNING:unstructured:libmagic is unavailable but assists in filetype detection. Please consider installing libmagic for better results.\n",
      "WARNING:root:'doc_id' is deprecated and 'id_' will be used instead\n"
     ]
    },
    {
     "name": "stdout",
     "output_type": "stream",
     "text": [
      "C:\\Users\\haoch\\Desktop\\GEO-bot-prototype\\Data\\Working_with_Files\\ODF_Interval_Files_(OIF).htm\n",
      "Idx 259/269\n",
      "C:\\Users\\haoch\\Desktop\\GEO-bot-prototype\\Data\\Working_with_Files\\ODF_Template_File_(ODT).htm\n",
      "Idx 260/269\n",
      "C:\\Users\\haoch\\Desktop\\GEO-bot-prototype\\Data\\Working_with_Files\\ODF_Update_File_(OUF).htm\n",
      "Idx 261/269\n",
      "C:\\Users\\haoch\\Desktop\\GEO-bot-prototype\\Data\\Working_with_Files\\Open_an_ODF_or_VEW_File.htm\n",
      "Idx 262/269\n",
      "C:\\Users\\haoch\\Desktop\\GEO-bot-prototype\\Data\\Working_with_Files\\Open_an_ODT_File.htm\n",
      "Idx 263/269\n",
      "C:\\Users\\haoch\\Desktop\\GEO-bot-prototype\\Data\\Working_with_Files\\Output_Database_File_(ODF).htm\n",
      "Idx 264/269\n",
      "C:\\Users\\haoch\\Desktop\\GEO-bot-prototype\\Data\\Working_with_Files\\Save_an_ODF.htm\n",
      "Idx 265/269\n"
     ]
    },
    {
     "name": "stderr",
     "output_type": "stream",
     "text": [
      "WARNING:unstructured:libmagic is unavailable but assists in filetype detection. Please consider installing libmagic for better results.\n",
      "WARNING:root:'doc_id' is deprecated and 'id_' will be used instead\n",
      "WARNING:unstructured:libmagic is unavailable but assists in filetype detection. Please consider installing libmagic for better results.\n",
      "WARNING:root:'doc_id' is deprecated and 'id_' will be used instead\n",
      "WARNING:unstructured:libmagic is unavailable but assists in filetype detection. Please consider installing libmagic for better results.\n",
      "WARNING:root:'doc_id' is deprecated and 'id_' will be used instead\n"
     ]
    },
    {
     "name": "stdout",
     "output_type": "stream",
     "text": [
      "C:\\Users\\haoch\\Desktop\\GEO-bot-prototype\\Data\\Working_with_Files\\Save_an_ODT_File.htm\n",
      "Idx 266/269\n",
      "C:\\Users\\haoch\\Desktop\\GEO-bot-prototype\\Data\\Working_with_Files\\Save_a_VEW_File.htm\n",
      "Idx 267/269\n",
      "C:\\Users\\haoch\\Desktop\\GEO-bot-prototype\\Data\\Working_with_Files\\View_File_(VEW).htm\n",
      "Idx 268/269\n",
      "C:\\Users\\haoch\\Desktop\\GEO-bot-prototype\\Data\\Working_with_Files\\View_ODF_files_in_EView.htm\n"
     ]
    }
   ],
   "source": [
    "docs = []\n",
    "for idx, f in enumerate(all_html_files):\n",
    "    print(f\"Idx {idx}/{len(all_html_files)}\")\n",
    "    loaded_docs = reader.load_data(file=f, split_documents=True)\n",
    "\n",
    "    loaded_doc = Document(\n",
    "        text=\"\\n\\n\".join([d.get_content() for d in loaded_docs]),\n",
    "        metadata={\"path\": str(f)},\n",
    "    )\n",
    "    print(loaded_doc.metadata[\"path\"])\n",
    "    docs.append(loaded_doc)"
   ]
  },
  {
   "cell_type": "code",
   "execution_count": 13,
   "id": "812a69ed",
   "metadata": {},
   "outputs": [
    {
     "name": "stdout",
     "output_type": "stream",
     "text": [
      "269\n"
     ]
    }
   ],
   "source": [
    "print(len(docs))"
   ]
  },
  {
   "cell_type": "markdown",
   "id": "01de3e4a",
   "metadata": {},
   "source": [
    "## Define Global LLM + Embeddings"
   ]
  },
  {
   "cell_type": "code",
   "execution_count": 14,
   "id": "9cd0b55b",
   "metadata": {},
   "outputs": [],
   "source": [
    "from llama_index.llms.ollama import Ollama\n",
    "from langchain_huggingface import HuggingFaceEmbeddings\n",
    "from llama_index.core import Settings"
   ]
  },
  {
   "cell_type": "code",
   "execution_count": 15,
   "id": "b8eb452c",
   "metadata": {},
   "outputs": [],
   "source": [
    "llm = Ollama(\n",
    "    model=\"llama3.2:latest\",\n",
    "    temperature=0,\n",
    "    num_predict=150\n",
    ")\n",
    "Settings.llm = llm\n",
    "Settings.embed_model = HuggingFaceEmbeddings(model_name=\"../embeddings/offline_model\")"
   ]
  },
  {
   "cell_type": "markdown",
   "id": "8e64cc6a",
   "metadata": {},
   "source": [
    "## Building Multi-Document Agents"
   ]
  },
  {
   "cell_type": "code",
   "execution_count": 16,
   "id": "5625e0c3",
   "metadata": {},
   "outputs": [],
   "source": [
    "from llama_index.core.agent.workflow import FunctionAgent, ReActAgent\n",
    "from llama_index.core import (\n",
    "    load_index_from_storage,\n",
    "    StorageContext,\n",
    "    VectorStoreIndex,\n",
    ")\n",
    "from llama_index.core import SummaryIndex\n",
    "from llama_index.core.tools import QueryEngineTool\n",
    "from llama_index.core.node_parser import SentenceSplitter\n",
    "import os\n",
    "from tqdm.notebook import tqdm\n",
    "import pickle"
   ]
  },
  {
   "cell_type": "code",
   "execution_count": 17,
   "id": "520c5e42",
   "metadata": {},
   "outputs": [],
   "source": [
    "async def build_agent_per_doc(nodes, file_base):\n",
    "    vi_out_path = f\"../Output/llamaindex_docs/{file_base}\"\n",
    "    summary_out_path = f\"../Output/llamaindex_docs/{file_base}_summary.pkl\"\n",
    "    if not os.path.exists(vi_out_path):\n",
    "        Path(\"../Output/llamaindex_docs/\").mkdir(parents=True, exist_ok=True)\n",
    "        # build vector index\n",
    "        vector_index = VectorStoreIndex(nodes)\n",
    "        vector_index.storage_context.persist(persist_dir=vi_out_path)\n",
    "    else:\n",
    "        vector_index = load_index_from_storage(\n",
    "            StorageContext.from_defaults(persist_dir=vi_out_path),\n",
    "        )\n",
    "\n",
    "    # build summary index\n",
    "    summary_index = SummaryIndex(nodes)\n",
    "\n",
    "    # define query engines\n",
    "    vector_query_engine = vector_index.as_query_engine(llm=llm)\n",
    "    summary_query_engine = summary_index.as_query_engine(\n",
    "        response_mode=\"tree_summarize\", llm=llm\n",
    "    )\n",
    "\n",
    "    # extract a summary\n",
    "    if not os.path.exists(summary_out_path):\n",
    "        Path(summary_out_path).parent.mkdir(parents=True, exist_ok=True)\n",
    "        summary = str(\n",
    "            await summary_query_engine.aquery(\n",
    "                \"Extract a concise 1-2 line summary of this document\"\n",
    "            )\n",
    "        )\n",
    "        pickle.dump(summary, open(summary_out_path, \"wb\"))\n",
    "    else:\n",
    "        summary = pickle.load(open(summary_out_path, \"rb\"))\n",
    "\n",
    "    # define tools\n",
    "    query_engine_tools = [\n",
    "        QueryEngineTool.from_defaults(\n",
    "            query_engine=vector_query_engine,\n",
    "            name=f\"vector_tool_{file_base}\",\n",
    "            description=f\"Useful for questions related to specific facts\",\n",
    "        ),\n",
    "        QueryEngineTool.from_defaults(\n",
    "            query_engine=summary_query_engine,\n",
    "            name=f\"summary_tool_{file_base}\",\n",
    "            description=f\"Useful for summarization questions\",\n",
    "        ),\n",
    "    ]\n",
    "\n",
    "    # build agent\n",
    "    function_llm = Ollama(\n",
    "        model=\"llama3.2:latest\",\n",
    "        temperature=0,\n",
    "        num_predict=150\n",
    "    )\n",
    "    agent = FunctionAgent(\n",
    "        tools=query_engine_tools,\n",
    "        llm=function_llm,\n",
    "        system_prompt=f\"\"\"\\\n",
    "You are a specialized agent designed to answer queries about the `{file_base}.html` part of the LlamaIndex docs.\n",
    "You must ALWAYS use at least one of the tools provided when answering a question; do NOT rely on prior knowledge.\\\n",
    "\"\"\",\n",
    "    )\n",
    "\n",
    "    return agent, summary"
   ]
  },
  {
   "cell_type": "code",
   "execution_count": 18,
   "id": "ec55082b",
   "metadata": {},
   "outputs": [],
   "source": [
    "async def build_agents(docs):\n",
    "    node_parser = SentenceSplitter()\n",
    "\n",
    "    # Build agents dictionary\n",
    "    agents_dict = {}\n",
    "    extra_info_dict = {}\n",
    "\n",
    "    # # this is for the baseline\n",
    "    # all_nodes = []\n",
    "\n",
    "    for idx, doc in enumerate(tqdm(docs)):\n",
    "        nodes = node_parser.get_nodes_from_documents([doc])\n",
    "        # all_nodes.extend(nodes)\n",
    "\n",
    "        # ID will be base + parent\n",
    "        file_path = Path(doc.metadata[\"path\"])\n",
    "        file_base = str(file_path.parent.stem) + \"_\" + str(file_path.stem)\n",
    "        agent, summary = await build_agent_per_doc(nodes, file_base)\n",
    "\n",
    "        agents_dict[file_base] = agent\n",
    "        extra_info_dict[file_base] = {\"summary\": summary, \"nodes\": nodes}\n",
    "\n",
    "    return agents_dict, extra_info_dict"
   ]
  },
  {
   "cell_type": "code",
   "execution_count": 19,
   "id": "dd94b67c",
   "metadata": {},
   "outputs": [
    {
     "data": {
      "application/vnd.jupyter.widget-view+json": {
       "model_id": "4ced3117388d441485ac37950c67abd9",
       "version_major": 2,
       "version_minor": 0
      },
      "text/plain": [
       "  0%|          | 0/269 [00:00<?, ?it/s]"
      ]
     },
     "metadata": {},
     "output_type": "display_data"
    }
   ],
   "source": [
    "agents_dict, extra_info_dict = await build_agents(docs)"
   ]
  },
  {
   "cell_type": "markdown",
   "id": "eb865738",
   "metadata": {},
   "source": [
    "## Build Retriever-Enabled Llama Agent"
   ]
  },
  {
   "cell_type": "code",
   "execution_count": 20,
   "id": "aacb6f7c",
   "metadata": {},
   "outputs": [],
   "source": [
    "from typing import Callable\n",
    "from llama_index.core.tools import FunctionTool"
   ]
  },
  {
   "cell_type": "code",
   "execution_count": 21,
   "id": "278b8f6b",
   "metadata": {},
   "outputs": [],
   "source": [
    "def get_agent_tool_callable(agent: FunctionAgent) -> Callable:\n",
    "    async def query_agent(query: str) -> str:\n",
    "        response = await agent.run(query)\n",
    "        return str(response)\n",
    "\n",
    "    return query_agent"
   ]
  },
  {
   "cell_type": "code",
   "execution_count": 22,
   "id": "fbdc280b",
   "metadata": {},
   "outputs": [],
   "source": [
    "# define tool for each document agent\n",
    "all_tools = []\n",
    "for file_base, agent in agents_dict.items():\n",
    "    summary = extra_info_dict[file_base][\"summary\"]\n",
    "    async_fn = get_agent_tool_callable(agent)\n",
    "    doc_tool = FunctionTool.from_defaults(\n",
    "        async_fn,\n",
    "        name=f\"tool_{file_base}\",\n",
    "        description=summary,\n",
    "    )\n",
    "    all_tools.append(doc_tool)"
   ]
  },
  {
   "cell_type": "code",
   "execution_count": 23,
   "id": "6b97f3a9",
   "metadata": {},
   "outputs": [
    {
     "name": "stdout",
     "output_type": "stream",
     "text": [
      "ToolMetadata(description='The document provides contact information for Geologix support, including phone numbers, email, and a customer portal for assistance, as well as details on GEO training courses available in various global locations.', name='tool_Data_Contact_us', fn_schema=<class 'llama_index.core.tools.utils.tool_Data_Contact_us'>, return_direct=False)\n"
     ]
    }
   ],
   "source": [
    "print(all_tools[0].metadata)"
   ]
  },
  {
   "cell_type": "code",
   "execution_count": 24,
   "id": "bd02669e",
   "metadata": {},
   "outputs": [],
   "source": [
    "from llama_index.core import VectorStoreIndex\n",
    "from llama_index.core.objects import (\n",
    "    ObjectIndex,\n",
    "    ObjectRetriever,\n",
    ")\n",
    "from llama_index.postprocessor.cohere_rerank import CohereRerank\n",
    "from llama_index.core.query_engine import SubQuestionQueryEngine\n",
    "from llama_index.core.schema import QueryBundle"
   ]
  },
  {
   "cell_type": "code",
   "execution_count": 25,
   "id": "1c8dc206",
   "metadata": {},
   "outputs": [],
   "source": [
    "llm = Ollama(\n",
    "    model=\"llama3.2:latest\",\n",
    "    temperature=0,\n",
    "    num_predict=150\n",
    ")\n",
    "\n",
    "obj_index = ObjectIndex.from_objects(\n",
    "    all_tools,\n",
    "    index_cls=VectorStoreIndex,\n",
    ")\n",
    "vector_node_retriever = obj_index.as_node_retriever(\n",
    "    similarity_top_k=10,\n",
    ")"
   ]
  },
  {
   "cell_type": "code",
   "execution_count": 26,
   "id": "1ea3cb87",
   "metadata": {},
   "outputs": [],
   "source": [
    "# define a custom object retriever that adds in a query planning tool\n",
    "class CustomObjectRetriever(ObjectRetriever):\n",
    "    def __init__(\n",
    "        self,\n",
    "        retriever,\n",
    "        object_node_mapping,\n",
    "        node_postprocessors=None,\n",
    "        llm=None,\n",
    "    ):\n",
    "        self._retriever = retriever\n",
    "        self._object_node_mapping = object_node_mapping\n",
    "        self._llm = llm or Ollama(\n",
    "            model=\"llama3.2:latest\",\n",
    "            temperature=0,\n",
    "            num_predict=150\n",
    "        )\n",
    "        self._node_postprocessors = node_postprocessors or []\n",
    "\n",
    "    def retrieve(self, query_bundle):\n",
    "        if isinstance(query_bundle, str):\n",
    "            query_bundle = QueryBundle(query_str=query_bundle)\n",
    "\n",
    "        nodes = self._retriever.retrieve(query_bundle)\n",
    "        for processor in self._node_postprocessors:\n",
    "            nodes = processor.postprocess_nodes(\n",
    "                nodes, query_bundle=query_bundle\n",
    "            )\n",
    "        tools = [self._object_node_mapping.from_node(n.node) for n in nodes]\n",
    "\n",
    "        sub_agent = FunctionAgent(\n",
    "            name=\"compare_tool\",\n",
    "            description=f\"\"\"\\\n",
    "Useful for any queries that involve comparing multiple documents. ALWAYS use this tool for comparison queries - make sure to call this \\\n",
    "tool with the original query. Do NOT use the other tools for any queries involving multiple documents.\n",
    "\"\"\",\n",
    "            tools=tools,\n",
    "            llm=self._llm,\n",
    "            system_prompt=\"\"\"You are an expert at comparing documents. Given a query, use the tools provided to compare the documents and return a summary of the results.\"\"\",\n",
    "        )\n",
    "\n",
    "        async def query_sub_agent(query: str) -> str:\n",
    "            response = await sub_agent.run(query)\n",
    "            return str(response)\n",
    "\n",
    "        sub_question_tool = FunctionTool.from_defaults(\n",
    "            query_sub_agent,\n",
    "            name=sub_agent.name,\n",
    "            description=sub_agent.description,\n",
    "        )\n",
    "        return tools + [sub_question_tool]"
   ]
  },
  {
   "cell_type": "code",
   "execution_count": 27,
   "id": "494128ed",
   "metadata": {},
   "outputs": [],
   "source": [
    "# wrap it with ObjectRetriever to return objects\n",
    "custom_obj_retriever = CustomObjectRetriever(\n",
    "    vector_node_retriever,\n",
    "    obj_index.object_node_mapping,\n",
    "    node_postprocessors=[CohereRerank(top_n=5, model=\"rerank-v3.5\")],\n",
    "    llm=llm,\n",
    ")"
   ]
  },
  {
   "cell_type": "code",
   "execution_count": 28,
   "id": "f23fb78b",
   "metadata": {},
   "outputs": [
    {
     "name": "stdout",
     "output_type": "stream",
     "text": [
      "6\n"
     ]
    }
   ],
   "source": [
    "tmps = custom_obj_retriever.retrieve(\"GEO Limits\")\n",
    "\n",
    "# should be 5 + 1 -- 5 from reranker, 1 from subquestion\n",
    "print(len(tmps))"
   ]
  },
  {
   "cell_type": "code",
   "execution_count": 29,
   "id": "07592aa5",
   "metadata": {},
   "outputs": [],
   "source": [
    "from llama_index.core.agent.workflow import ReActAgent, FunctionAgent\n",
    "\n",
    "top_agent = FunctionAgent(\n",
    "    tool_retriever=custom_obj_retriever,\n",
    "    system_prompt=\"\"\" \\\n",
    "You are an agent designed to answer queries about the documentation.\n",
    "Please always use the tools provided to answer a question. Do not rely on prior knowledge.\\\n",
    "\n",
    "\"\"\",\n",
    "    llm=llm,\n",
    ")"
   ]
  },
  {
   "cell_type": "markdown",
   "id": "9a46b4c0",
   "metadata": {},
   "source": [
    "## Define Baseline Vector Store Index"
   ]
  },
  {
   "cell_type": "code",
   "execution_count": 30,
   "id": "770171a0",
   "metadata": {},
   "outputs": [],
   "source": [
    "all_nodes = [\n",
    "    n for extra_info in extra_info_dict.values() for n in extra_info[\"nodes\"]\n",
    "]"
   ]
  },
  {
   "cell_type": "code",
   "execution_count": 31,
   "id": "1ad53cf4",
   "metadata": {},
   "outputs": [],
   "source": [
    "base_index = VectorStoreIndex(all_nodes)\n",
    "base_query_engine = base_index.as_query_engine(similarity_top_k=4)"
   ]
  },
  {
   "cell_type": "code",
   "execution_count": 32,
   "id": "dd36cd41",
   "metadata": {},
   "outputs": [],
   "source": [
    "from llama_index.core.agent.workflow import (\n",
    "    AgentStream,\n",
    "    ToolCall,\n",
    "    ToolCallResult,\n",
    ")"
   ]
  },
  {
   "cell_type": "code",
   "execution_count": 33,
   "id": "6ee48c9f",
   "metadata": {},
   "outputs": [
    {
     "name": "stdout",
     "output_type": "stream",
     "text": [
      "\n",
      "Tool call: tool_Introduction_GEO_Limits with args {'query': ''}\n",
      "\n",
      "Calling tool tool_Introduction_GEO_Limits with args {'query': ''}\n",
      " Got response: It appears that the `Introduction_GEO_Limits.html` section of the LlamaIndex docs is discussing geographic limits, but it seems there was an issue with the alignment of the shapes.\n",
      "\n",
      "To answer your que\n",
      "\n",
      "Tool call: tool_GEO_Limits with args {'query': 'What are the geographic limits?'}\n",
      "\n",
      "Calling tool tool_GEO_Limits with args {'query': 'What are the geographic limits?'}\n",
      " Got response: Tool tool_GEO_Limits not found. Please select a tool that is available.\n"
     ]
    }
   ],
   "source": [
    "handler = top_agent.run(\n",
    "    \"What are the GEO limits?\",\n",
    ")\n",
    "async for ev in handler.stream_events():\n",
    "    if isinstance(ev, ToolCallResult):\n",
    "        print(\n",
    "            f\"\\nCalling tool {ev.tool_name} with args {ev.tool_kwargs}\\n Got response: {str(ev.tool_output)[:200]}\"\n",
    "        )\n",
    "    elif isinstance(ev, ToolCall):\n",
    "        print(f\"\\nTool call: {ev.tool_name} with args {ev.tool_kwargs}\")\n",
    "\n",
    "response = await handler"
   ]
  },
  {
   "cell_type": "code",
   "execution_count": null,
   "id": "37be4646",
   "metadata": {},
   "outputs": [],
   "source": [
    "response = base_query_engine.query(\n",
    "    \"I want to use the name \\\"Hydrocarbon bearing zone highlighted\\\" as my curve shade name. Why is it not allowed?\"\n",
    ")\n",
    "print(str(response))"
   ]
  }
 ],
 "metadata": {
  "kernelspec": {
   "display_name": ".venv",
   "language": "python",
   "name": "python3"
  },
  "language_info": {
   "codemirror_mode": {
    "name": "ipython",
    "version": 3
   },
   "file_extension": ".py",
   "mimetype": "text/x-python",
   "name": "python",
   "nbconvert_exporter": "python",
   "pygments_lexer": "ipython3",
   "version": "3.11.0"
  }
 },
 "nbformat": 4,
 "nbformat_minor": 5
}
