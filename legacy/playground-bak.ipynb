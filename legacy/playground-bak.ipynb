{
 "cells": [
  {
   "cell_type": "code",
   "execution_count": 1,
   "metadata": {},
   "outputs": [],
   "source": [
    "from bs4 import BeautifulSoup\n",
    "import os"
   ]
  },
  {
   "cell_type": "code",
   "execution_count": 2,
   "metadata": {},
   "outputs": [],
   "source": [
    "website_extensions = {\".html\", \".htm\"}"
   ]
  },
  {
   "cell_type": "code",
   "execution_count": 3,
   "metadata": {},
   "outputs": [],
   "source": [
    "def extract_text_from_html(directory):\n",
    "    data = []\n",
    "    for filename in os.listdir(directory):\n",
    "        if filename.endswith(tuple(website_extensions)):\n",
    "            filepath = os.path.join(directory, filename)\n",
    "            with open(filepath, 'r', encoding='utf-8') as file:\n",
    "                soup = BeautifulSoup(file, 'html.parser')\n",
    "                text = soup.get_text(separator=' ')\n",
    "                non_empty_lines = [line.strip() for line in text.splitlines() if line.strip()]\n",
    "                filtered_text = '\\n'.join(non_empty_lines)\n",
    "                data.append({\"filename\": filename, \"content\": filtered_text})\n",
    "    return data"
   ]
  },
  {
   "cell_type": "code",
   "execution_count": 4,
   "metadata": {},
   "outputs": [],
   "source": [
    "sample_data = extract_text_from_html(\"Data\")"
   ]
  },
  {
   "cell_type": "code",
   "execution_count": 5,
   "metadata": {},
   "outputs": [
    {
     "name": "stdout",
     "output_type": "stream",
     "text": [
      "Append_Curve_Data.htm\n",
      "Append Curve Data\n",
      "Append Curve Data\n",
      "Click here to see this page in full context\n",
      "*Maximize screen to view table of contents*\n",
      "Back\n",
      "Forward\n",
      "Append Curve Data\n",
      "Append curves from successive mud log, MWD or LWD data files to existing curves within the ODF to create a continuous set of curves.\n",
      "To append, the following conditions must be applied.\n",
      "Curve mnemonics for the new curve(s) to be loaded, must be the same as for the existing curve(s).\n",
      "The data sets must be sequential.\n",
      "Refer to the Load Curve Data instructions below.  When selecting the Data Source Type, the following selections will automatically append the curve data;\n",
      "MWD/LWD\n",
      "Mudlog\n",
      "Mineralogy\n",
      "In step 2 of the data import wizard, select Append Overlapping Curves and Append Non-overlapping Curves as required.\n",
      "On the  GEO  tab, select  Import .\n",
      "In the  Open  dialog box, the  Files of Type  box lists the curve data types accepted. Select the type required.\n",
      "Locate and select the curve data file, then click  Open . Step 1 of the Data Import Wizard will invoke.\n",
      "The curve data  Type  will be automatically detected.\n",
      "Select the  Data Source Type . The selection will determine the default settings.\n",
      "Wireline     Identical mnemonics will  NOT  append automatically to preserve individual runs.\n",
      "MWD/LWD     MWD or LWD data curves may however be treated  either  as discrete run for each curve, or as continuous curves.\n",
      "Mudlog     Continuous data  WILL  automatically append.\n",
      "Mineralogy     Data  WILL  append regardless if the data continues or appears after a large interval.\n",
      "Other     Undefined source type. Manual append required.\n",
      "Select  Next . Step 2 of the Data Import Wizard will open.\n",
      "Enter the data range to be loaded in the  From  and  To  boxes.\n",
      "Specify the Null (or pen-up) data values in the  Use as Null data Value . The default is -999.25. If the data vendor has used a different value e.g. -999.99 define it here.\n",
      "By default,  Treat Null data value as “empty”  will be cleared. In which case, GEO will ‘pen-up’ when it encounters null values within a curve. The curve will be discontinuous over any null intervals. Select  Treat Null data value as “empty”  to draw a continuous curve. When a null value is encountered the curve will connect the previous valid value with the next valid value.\n",
      "Select or deselect  Append Overlapping Curves  and  Append Non-overlapping Curves  as required.   Click for more information on appending curve data .\n",
      "Edit the curve  Name ,  Mnemonic ,  Synonym ,  Units  and  Type  as required.\n",
      "Elect to not load certain data by clicking on the column header. Or use the  Select  All  or  Deselect  All  buttons. Selected data will be black and deselected data will be red. If a mnemonic is not formatted in the curve default ini file, it will be blue.\n",
      "Click  Finish  to complete the wizard.\n",
      "Back\n",
      "Forward\n",
      "\n",
      "\n",
      "\n",
      "\n"
     ]
    }
   ],
   "source": [
    "# display the file content of the sample data in html format\n",
    "for data in sample_data:\n",
    "    print(data['filename'])\n",
    "    print(data['content'])\n",
    "    print(\"\\n\\n\\n\")"
   ]
  },
  {
   "cell_type": "code",
   "execution_count": 6,
   "metadata": {},
   "outputs": [
    {
     "data": {
      "text/plain": [
       "[{'filename': 'Append_Curve_Data.htm',\n",
       "  'content': 'Append Curve Data\\nAppend Curve Data\\nClick here to see this page in full context\\n*Maximize screen to view table of contents*\\nBack\\nForward\\nAppend Curve Data\\nAppend curves from successive mud log, MWD or LWD data files to existing curves within the ODF to create a continuous set of curves.\\nTo append, the following conditions must be applied.\\nCurve mnemonics for the new curve(s) to be loaded, must be the same as for the existing curve(s).\\nThe data sets must be sequential.\\nRefer to the Load Curve Data instructions below. \\xa0When selecting the Data Source Type, the following selections will automatically append the curve data;\\nMWD/LWD\\nMudlog\\nMineralogy\\nIn step 2 of the data import wizard, select Append Overlapping Curves and Append Non-overlapping Curves as required.\\nOn the  GEO  tab, select  Import .\\nIn the  Open  dialog box, the  Files of Type  box lists the curve data types accepted. Select the type required.\\nLocate and select the curve data file, then click  Open . Step 1 of the Data Import Wizard will invoke.\\nThe curve data  Type  will be automatically detected.\\nSelect the  Data Source Type . The selection will determine the default settings.\\nWireline\\xa0\\xa0 \\xa0 Identical mnemonics will  NOT  append automatically to preserve individual runs.\\nMWD/LWD \\xa0\\xa0 \\xa0MWD or LWD data curves may however be treated  either  as discrete run for each curve, or as continuous curves.\\nMudlog\\xa0\\xa0 \\xa0 Continuous data  WILL  automatically append.\\nMineralogy\\xa0\\xa0 \\xa0 Data  WILL  append regardless if the data continues or appears after a large interval.\\nOther\\xa0\\xa0 \\xa0 Undefined source type. Manual append required.\\nSelect  Next . Step 2 of the Data Import Wizard will open.\\nEnter the data range to be loaded in the  From  and  To  boxes.\\nSpecify the Null (or pen-up) data values in the  Use as Null data Value . The default is -999.25. If the data vendor has used a different value e.g. -999.99 define it here.\\nBy default,  Treat Null data value as “empty”  will be cleared. In which case, GEO will ‘pen-up’ when it encounters null values within a curve. The curve will be discontinuous over any null intervals. Select  Treat Null data value as “empty”  to draw a continuous curve. When a null value is encountered the curve will connect the previous valid value with the next valid value.\\nSelect or deselect  Append Overlapping Curves  and  Append Non-overlapping Curves  as required.   Click for more information on appending curve data .\\nEdit the curve  Name ,  Mnemonic ,  Synonym ,  Units  and  Type  as required.\\nElect to not load certain data by clicking on the column header. Or use the  Select  All  or  Deselect  All  buttons. Selected data will be black and deselected data will be red.\\xa0If a mnemonic is not formatted in the curve default ini file, it will be blue.\\nClick  Finish  to complete the wizard.\\nBack\\nForward'}]"
      ]
     },
     "execution_count": 6,
     "metadata": {},
     "output_type": "execute_result"
    }
   ],
   "source": [
    "sample_data"
   ]
  },
  {
   "cell_type": "code",
   "execution_count": null,
   "metadata": {},
   "outputs": [],
   "source": []
  }
 ],
 "metadata": {
  "kernelspec": {
   "display_name": "Python 3",
   "language": "python",
   "name": "python3"
  },
  "language_info": {
   "codemirror_mode": {
    "name": "ipython",
    "version": 3
   },
   "file_extension": ".py",
   "mimetype": "text/x-python",
   "name": "python",
   "nbconvert_exporter": "python",
   "pygments_lexer": "ipython3",
   "version": "3.13.1"
  }
 },
 "nbformat": 4,
 "nbformat_minor": 2
}
