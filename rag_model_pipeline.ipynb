{
 "cells": [
  {
   "cell_type": "code",
   "execution_count": 1,
   "id": "8754dcca",
   "metadata": {},
   "outputs": [],
   "source": [
    "from app.config import *\n",
    "from app.services.ollama_bot_core import OllamaBot"
   ]
  },
  {
   "cell_type": "code",
   "execution_count": 2,
   "id": "af1a740c",
   "metadata": {},
   "outputs": [
    {
     "name": "stdout",
     "output_type": "stream",
     "text": [
      "🚀 [OllamaBot] Starting initialization...\n",
      "📁 [OllamaBot] Base directory set to: c:\\Users\\HaochengLin\\Documents\\GitHub\\GEO-bot-prototype\\Data\n",
      "📚 [OllamaBot] Initialized empty document cache.\n",
      "🤖 [OllamaBot] LLM model 'llama3.2:latest' loaded in 0.31 seconds.\n",
      "🔁 [refresh] Starting document loading and RAG setup...\n",
      "⚙️ [_initialize_rag_application] Starting RAG setup...\n",
      "✂️ Splitting documents...\n",
      "✅ Document split into 730 chunks in 0.35 seconds.\n",
      "🧠 Initializing embedding model (OllamaEmbeddings)...\n",
      "🧠 Using all-MiniLM-L6-v2 from HuggingFace for embeddings\n",
      "✅ Embedding model initialized in 12.21 seconds.\n",
      "📦 Creating vector store from document chunks...\n",
      "✅ Vector store created in 18.24 seconds.\n",
      "📜 Creating prompt template and RAG chain...\n",
      "✅ RAG application initialized successfully.\n",
      "🔄 [OllamaBot] RAG pipeline refreshed in 32.09 seconds.\n",
      "✅ [OllamaBot] Initialization completed in 32.40 seconds.\n",
      "\n"
     ]
    }
   ],
   "source": [
    "ollama_bot = OllamaBot()"
   ]
  },
  {
   "cell_type": "code",
   "execution_count": 3,
   "id": "9fc4a7ab",
   "metadata": {},
   "outputs": [],
   "source": [
    "import ipywidgets as widgets\n",
    "from IPython.display import display"
   ]
  },
  {
   "cell_type": "code",
   "execution_count": 4,
   "id": "5da58c33",
   "metadata": {},
   "outputs": [],
   "source": [
    "# Create a text box for input\n",
    "question_input = widgets.Text(\n",
    "    value='',\n",
    "    placeholder='Type your GEO question here...',\n",
    "    description='Question:',\n",
    "    layout=widgets.Layout(width='80%')\n",
    ")"
   ]
  },
  {
   "cell_type": "code",
   "execution_count": 5,
   "id": "956402ea",
   "metadata": {},
   "outputs": [],
   "source": [
    "# Create an output area\n",
    "output = widgets.Output()"
   ]
  },
  {
   "cell_type": "code",
   "execution_count": 6,
   "id": "c4f760f1",
   "metadata": {},
   "outputs": [],
   "source": [
    "import time\n",
    "# Define the function to handle user input and show response time\n",
    "def handle_submit(change):\n",
    "    output.clear_output()\n",
    "    user_question = change['new']\n",
    "    if user_question.strip():\n",
    "        start_time = time.time()\n",
    "        response = ollama_bot.query(user_question)\n",
    "        end_time = time.time()\n",
    "        duration = end_time - start_time\n",
    "        with output:\n",
    "            print(f\"Response: {response}\")\n",
    "            print(f\"\\n⏱️ Time taken: {duration:.2f} seconds\")"
   ]
  },
  {
   "cell_type": "code",
   "execution_count": 7,
   "id": "4f598c3c",
   "metadata": {},
   "outputs": [],
   "source": [
    "# Trigger response generation when input is submitted\n",
    "question_input.observe(handle_submit, names='value')"
   ]
  },
  {
   "cell_type": "code",
   "execution_count": 8,
   "id": "9b5e5b79",
   "metadata": {},
   "outputs": [
    {
     "data": {
      "application/vnd.jupyter.widget-view+json": {
       "model_id": "75cee1e10d5c45d093dc2abc0a234774",
       "version_major": 2,
       "version_minor": 0
      },
      "text/plain": [
       "Text(value='', description='Question:', layout=Layout(width='80%'), placeholder='Type your GEO question here..…"
      ]
     },
     "metadata": {},
     "output_type": "display_data"
    },
    {
     "data": {
      "application/vnd.jupyter.widget-view+json": {
       "model_id": "4375df82a16b401a961dc1b114da1925",
       "version_major": 2,
       "version_minor": 0
      },
      "text/plain": [
       "Output()"
      ]
     },
     "metadata": {},
     "output_type": "display_data"
    }
   ],
   "source": [
    "# Display the widgets\n",
    "display(question_input, output)"
   ]
  }
 ],
 "metadata": {
  "kernelspec": {
   "display_name": "venv",
   "language": "python",
   "name": "python3"
  },
  "language_info": {
   "codemirror_mode": {
    "name": "ipython",
    "version": 3
   },
   "file_extension": ".py",
   "mimetype": "text/x-python",
   "name": "python",
   "nbconvert_exporter": "python",
   "pygments_lexer": "ipython3",
   "version": "3.13.1"
  }
 },
 "nbformat": 4,
 "nbformat_minor": 5
}
